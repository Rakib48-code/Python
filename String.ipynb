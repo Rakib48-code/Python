{
 "cells": [
  {
   "cell_type": "markdown",
   "id": "619c4999-a4dc-4ad9-ad84-c5b3d37077c0",
   "metadata": {},
   "source": [
    "# Input Function"
   ]
  },
  {
   "cell_type": "code",
   "execution_count": 1,
   "id": "ccda3328-8818-47cd-bb52-e2cf6a9ca125",
   "metadata": {},
   "outputs": [],
   "source": [
    "data = \"Data science fun\""
   ]
  },
  {
   "cell_type": "code",
   "execution_count": 2,
   "id": "8bfa57fe-c20a-4f46-85d6-a760948c0b91",
   "metadata": {},
   "outputs": [
    {
     "data": {
      "text/plain": [
       "str"
      ]
     },
     "execution_count": 2,
     "metadata": {},
     "output_type": "execute_result"
    }
   ],
   "source": [
    "type(data)"
   ]
  },
  {
   "cell_type": "code",
   "execution_count": 4,
   "id": "e75a253a-99ef-4992-9135-b96f68f96ed4",
   "metadata": {},
   "outputs": [
    {
     "name": "stdin",
     "output_type": "stream",
     "text": [
      " Data science fun!\n"
     ]
    }
   ],
   "source": [
    "data = input()"
   ]
  },
  {
   "cell_type": "code",
   "execution_count": 5,
   "id": "d2aa7dc5-c8f7-4edb-b13b-57ca1c985491",
   "metadata": {},
   "outputs": [
    {
     "data": {
      "text/plain": [
       "'Data science fun!'"
      ]
     },
     "execution_count": 5,
     "metadata": {},
     "output_type": "execute_result"
    }
   ],
   "source": [
    "data"
   ]
  },
  {
   "cell_type": "code",
   "execution_count": 6,
   "id": "b8fa5dd8-d92d-4d20-a17c-a7a8e496bbed",
   "metadata": {},
   "outputs": [
    {
     "data": {
      "text/plain": [
       "str"
      ]
     },
     "execution_count": 6,
     "metadata": {},
     "output_type": "execute_result"
    }
   ],
   "source": [
    "type(data)"
   ]
  },
  {
   "cell_type": "code",
   "execution_count": 7,
   "id": "ec3988cc-4fc1-4aea-9dfd-7c97f9c6364b",
   "metadata": {},
   "outputs": [
    {
     "name": "stdin",
     "output_type": "stream",
     "text": [
      " 10\n",
      " 20\n"
     ]
    }
   ],
   "source": [
    "x = input()\n",
    "y = input()"
   ]
  },
  {
   "cell_type": "code",
   "execution_count": 8,
   "id": "4eb430e0-4748-49b9-8b6b-424e2a4ecb26",
   "metadata": {},
   "outputs": [
    {
     "data": {
      "text/plain": [
       "'1020'"
      ]
     },
     "execution_count": 8,
     "metadata": {},
     "output_type": "execute_result"
    }
   ],
   "source": [
    "x+y"
   ]
  },
  {
   "cell_type": "code",
   "execution_count": 9,
   "id": "90b4f958-201f-46a1-bc63-ef6c4f8d49d5",
   "metadata": {},
   "outputs": [
    {
     "data": {
      "text/plain": [
       "str"
      ]
     },
     "execution_count": 9,
     "metadata": {},
     "output_type": "execute_result"
    }
   ],
   "source": [
    "type(x)"
   ]
  },
  {
   "cell_type": "code",
   "execution_count": 10,
   "id": "279855df-e69a-43d8-a91e-5e358615f6ff",
   "metadata": {},
   "outputs": [
    {
     "data": {
      "text/plain": [
       "str"
      ]
     },
     "execution_count": 10,
     "metadata": {},
     "output_type": "execute_result"
    }
   ],
   "source": [
    "type(y)"
   ]
  },
  {
   "cell_type": "code",
   "execution_count": 11,
   "id": "7c0aa107-9887-41f9-873e-bbaeb819379a",
   "metadata": {},
   "outputs": [],
   "source": [
    "x = int(x)\n",
    "y = int(y)"
   ]
  },
  {
   "cell_type": "code",
   "execution_count": 12,
   "id": "add82965-3d91-43eb-8762-a09e232db38a",
   "metadata": {},
   "outputs": [
    {
     "data": {
      "text/plain": [
       "30"
      ]
     },
     "execution_count": 12,
     "metadata": {},
     "output_type": "execute_result"
    }
   ],
   "source": [
    "x+y"
   ]
  },
  {
   "cell_type": "code",
   "execution_count": 13,
   "id": "6ee2b32d-eb27-4825-a260-29d92c7b4323",
   "metadata": {},
   "outputs": [
    {
     "data": {
      "text/plain": [
       "int"
      ]
     },
     "execution_count": 13,
     "metadata": {},
     "output_type": "execute_result"
    }
   ],
   "source": [
    "type(x)"
   ]
  },
  {
   "cell_type": "code",
   "execution_count": 14,
   "id": "958639c4-065b-456b-9848-5e520b30b2ed",
   "metadata": {},
   "outputs": [
    {
     "data": {
      "text/plain": [
       "int"
      ]
     },
     "execution_count": 14,
     "metadata": {},
     "output_type": "execute_result"
    }
   ],
   "source": [
    "type(y)"
   ]
  },
  {
   "cell_type": "code",
   "execution_count": 15,
   "id": "2ceb99d1-5de3-456e-8053-4fe4f761c862",
   "metadata": {},
   "outputs": [
    {
     "name": "stdin",
     "output_type": "stream",
     "text": [
      "Enter the number :  100\n"
     ]
    }
   ],
   "source": [
    "x = int(input(\"Enter the number : \"))"
   ]
  },
  {
   "cell_type": "code",
   "execution_count": 16,
   "id": "40f78d15-2da7-47bc-93ad-b4ef2892afc7",
   "metadata": {},
   "outputs": [
    {
     "data": {
      "text/plain": [
       "100"
      ]
     },
     "execution_count": 16,
     "metadata": {},
     "output_type": "execute_result"
    }
   ],
   "source": [
    "x"
   ]
  },
  {
   "cell_type": "code",
   "execution_count": 17,
   "id": "81d90606-8d78-4b12-bf28-d70319b1ccad",
   "metadata": {},
   "outputs": [
    {
     "name": "stdin",
     "output_type": "stream",
     "text": [
      "Enter the 2nd number :  18.5\n"
     ]
    },
    {
     "ename": "ValueError",
     "evalue": "invalid literal for int() with base 10: '18.5'",
     "output_type": "error",
     "traceback": [
      "\u001b[1;31m---------------------------------------------------------------------------\u001b[0m",
      "\u001b[1;31mValueError\u001b[0m                                Traceback (most recent call last)",
      "Cell \u001b[1;32mIn[17], line 1\u001b[0m\n\u001b[1;32m----> 1\u001b[0m y \u001b[38;5;241m=\u001b[39m \u001b[38;5;28;43mint\u001b[39;49m\u001b[43m(\u001b[49m\u001b[38;5;28;43minput\u001b[39;49m\u001b[43m(\u001b[49m\u001b[38;5;124;43m\"\u001b[39;49m\u001b[38;5;124;43mEnter the 2nd number : \u001b[39;49m\u001b[38;5;124;43m\"\u001b[39;49m\u001b[43m)\u001b[49m\u001b[43m)\u001b[49m\n",
      "\u001b[1;31mValueError\u001b[0m: invalid literal for int() with base 10: '18.5'"
     ]
    }
   ],
   "source": [
    "y = int(input(\"Enter the 2nd number : \"))"
   ]
  },
  {
   "cell_type": "code",
   "execution_count": 18,
   "id": "e7473c8d-f2b5-488b-8d0e-f35e706ed7ea",
   "metadata": {},
   "outputs": [
    {
     "name": "stdin",
     "output_type": "stream",
     "text": [
      "Enter the 2nd number :  20.4\n"
     ]
    }
   ],
   "source": [
    "y = float(input(\"Enter the 2nd number : \"))"
   ]
  },
  {
   "cell_type": "code",
   "execution_count": 19,
   "id": "6eecb4df-0a92-4064-aadf-0fc86dea6009",
   "metadata": {},
   "outputs": [
    {
     "data": {
      "text/plain": [
       "120.4"
      ]
     },
     "execution_count": 19,
     "metadata": {},
     "output_type": "execute_result"
    }
   ],
   "source": [
    "x+y"
   ]
  },
  {
   "cell_type": "code",
   "execution_count": 20,
   "id": "45421fee-3fc7-4d8b-b17d-6fa67181f647",
   "metadata": {},
   "outputs": [],
   "source": [
    "data = \"60 days of python\""
   ]
  },
  {
   "cell_type": "code",
   "execution_count": 21,
   "id": "4a0d4576-0bfe-4f88-8a21-4c136c81bd64",
   "metadata": {},
   "outputs": [
    {
     "data": {
      "text/plain": [
       "str"
      ]
     },
     "execution_count": 21,
     "metadata": {},
     "output_type": "execute_result"
    }
   ],
   "source": [
    "type(data)"
   ]
  },
  {
   "cell_type": "code",
   "execution_count": 22,
   "id": "9a8b9715-1d74-4efa-b8cf-f7ff8f0afb98",
   "metadata": {},
   "outputs": [
    {
     "data": {
      "text/plain": [
       "17"
      ]
     },
     "execution_count": 22,
     "metadata": {},
     "output_type": "execute_result"
    }
   ],
   "source": [
    "len(data) #check length"
   ]
  },
  {
   "cell_type": "code",
   "execution_count": 23,
   "id": "6422ad03-64f2-4cd3-9538-de39f5ba27dd",
   "metadata": {},
   "outputs": [
    {
     "data": {
      "text/plain": [
       "58"
      ]
     },
     "execution_count": 23,
     "metadata": {},
     "output_type": "execute_result"
    }
   ],
   "source": [
    "import sys\n",
    "sys.getsizeof(data)"
   ]
  },
  {
   "cell_type": "code",
   "execution_count": 24,
   "id": "c9dfe62e-ba22-481e-a6d7-0f888ffd876d",
   "metadata": {},
   "outputs": [
    {
     "data": {
      "text/plain": [
       "1"
      ]
     },
     "execution_count": 24,
     "metadata": {},
     "output_type": "execute_result"
    }
   ],
   "source": [
    "data.count(\"python\")"
   ]
  },
  {
   "cell_type": "code",
   "execution_count": 25,
   "id": "214fc36b-b447-4850-b4fd-e64ee6e9b0a1",
   "metadata": {},
   "outputs": [],
   "source": [
    "sub = \"days of\""
   ]
  },
  {
   "cell_type": "code",
   "execution_count": 26,
   "id": "fb9e8e21-219d-4587-9aac-158192639458",
   "metadata": {},
   "outputs": [
    {
     "data": {
      "text/plain": [
       "1"
      ]
     },
     "execution_count": 26,
     "metadata": {},
     "output_type": "execute_result"
    }
   ],
   "source": [
    "data.count(sub)"
   ]
  },
  {
   "cell_type": "markdown",
   "id": "ebbe3d6c-b04f-4a4d-b800-98401a87bf02",
   "metadata": {},
   "source": [
    "# Python String Methods"
   ]
  },
  {
   "cell_type": "code",
   "execution_count": 27,
   "id": "76a9b207-c711-466f-aeb6-55da55446594",
   "metadata": {},
   "outputs": [
    {
     "data": {
      "text/plain": [
       "9"
      ]
     },
     "execution_count": 27,
     "metadata": {},
     "output_type": "execute_result"
    }
   ],
   "source": [
    "data = \"60 Days of python\"\n",
    "data.find(\"f\")"
   ]
  },
  {
   "cell_type": "code",
   "execution_count": 28,
   "id": "07cb0eb1-b9b6-464d-9af8-678fd915c7ca",
   "metadata": {},
   "outputs": [
    {
     "data": {
      "text/plain": [
       "8"
      ]
     },
     "execution_count": 28,
     "metadata": {},
     "output_type": "execute_result"
    }
   ],
   "source": [
    "data.find(\"of\") #find value from string"
   ]
  },
  {
   "cell_type": "code",
   "execution_count": 29,
   "id": "db445de6-1681-4992-971a-38f28623188a",
   "metadata": {},
   "outputs": [
    {
     "data": {
      "text/plain": [
       "-1"
      ]
     },
     "execution_count": 29,
     "metadata": {},
     "output_type": "execute_result"
    }
   ],
   "source": [
    "#in range check string value\n",
    "data.find(\"y\",6,10)"
   ]
  },
  {
   "cell_type": "code",
   "execution_count": 30,
   "id": "fb909940-6ffd-4e84-bbd1-94557e17eeb5",
   "metadata": {},
   "outputs": [
    {
     "data": {
      "text/plain": [
       "12"
      ]
     },
     "execution_count": 30,
     "metadata": {},
     "output_type": "execute_result"
    }
   ],
   "source": [
    "data.find(\"y\",6,14)"
   ]
  },
  {
   "cell_type": "code",
   "execution_count": 31,
   "id": "b8b04424-116a-42a7-9fad-d6c21e2d6385",
   "metadata": {},
   "outputs": [
    {
     "data": {
      "text/plain": [
       "5"
      ]
     },
     "execution_count": 31,
     "metadata": {},
     "output_type": "execute_result"
    }
   ],
   "source": [
    "data.index(\"y\")"
   ]
  },
  {
   "cell_type": "code",
   "execution_count": 32,
   "id": "a173fb2d-e2fd-4bbf-add9-14609aa27d5c",
   "metadata": {},
   "outputs": [
    {
     "data": {
      "text/plain": [
       "12"
      ]
     },
     "execution_count": 32,
     "metadata": {},
     "output_type": "execute_result"
    }
   ],
   "source": [
    "data.index(\"y\",6,13)"
   ]
  },
  {
   "cell_type": "code",
   "execution_count": 33,
   "id": "2e1d28f0-1ef5-403f-a46b-974a5a42d748",
   "metadata": {},
   "outputs": [
    {
     "ename": "ValueError",
     "evalue": "substring not found",
     "output_type": "error",
     "traceback": [
      "\u001b[1;31m---------------------------------------------------------------------------\u001b[0m",
      "\u001b[1;31mValueError\u001b[0m                                Traceback (most recent call last)",
      "Cell \u001b[1;32mIn[33], line 1\u001b[0m\n\u001b[1;32m----> 1\u001b[0m \u001b[43mdata\u001b[49m\u001b[38;5;241;43m.\u001b[39;49m\u001b[43mindex\u001b[49m\u001b[43m(\u001b[49m\u001b[38;5;124;43m\"\u001b[39;49m\u001b[38;5;124;43mai\u001b[39;49m\u001b[38;5;124;43m\"\u001b[39;49m\u001b[43m)\u001b[49m\n",
      "\u001b[1;31mValueError\u001b[0m: substring not found"
     ]
    }
   ],
   "source": [
    "data.index(\"ai\")"
   ]
  },
  {
   "cell_type": "code",
   "execution_count": 34,
   "id": "dd1f7df0-7c1e-488f-afa9-7b1d62e97794",
   "metadata": {},
   "outputs": [
    {
     "data": {
      "text/plain": [
       "'60 days of python'"
      ]
     },
     "execution_count": 34,
     "metadata": {},
     "output_type": "execute_result"
    }
   ],
   "source": [
    "data.lower() #convert all char into lower case"
   ]
  },
  {
   "cell_type": "code",
   "execution_count": 35,
   "id": "9389ee2d-d0fe-4c4d-9e54-6001878628ca",
   "metadata": {},
   "outputs": [
    {
     "data": {
      "text/plain": [
       "'60 DAYS OF PYTHON'"
      ]
     },
     "execution_count": 35,
     "metadata": {},
     "output_type": "execute_result"
    }
   ],
   "source": [
    "data.upper() #convert all char into upper case"
   ]
  },
  {
   "cell_type": "code",
   "execution_count": 36,
   "id": "aef3ac9b-b9fd-42ac-b503-19ee58714171",
   "metadata": {},
   "outputs": [
    {
     "data": {
      "text/plain": [
       "'60 days of python'"
      ]
     },
     "execution_count": 36,
     "metadata": {},
     "output_type": "execute_result"
    }
   ],
   "source": [
    "data.casefold() #convert lower case"
   ]
  },
  {
   "cell_type": "code",
   "execution_count": 41,
   "id": "c0736acb-7ebc-4bb7-b9c7-3b0e890bdf76",
   "metadata": {},
   "outputs": [],
   "source": [
    "name = \"rakib HASAN\""
   ]
  },
  {
   "cell_type": "code",
   "execution_count": 42,
   "id": "8336c41f-3d3c-4d4f-88e4-1bc7e4124546",
   "metadata": {},
   "outputs": [
    {
     "data": {
      "text/plain": [
       "'Rakib hasan'"
      ]
     },
     "execution_count": 42,
     "metadata": {},
     "output_type": "execute_result"
    }
   ],
   "source": [
    "name.capitalize() #convert only first char"
   ]
  },
  {
   "cell_type": "code",
   "execution_count": 43,
   "id": "b340c509-2cc0-4607-9f74-bc115d24d157",
   "metadata": {},
   "outputs": [
    {
     "data": {
      "text/plain": [
       "'RAKIB hasan'"
      ]
     },
     "execution_count": 43,
     "metadata": {},
     "output_type": "execute_result"
    }
   ],
   "source": [
    "name.swapcase()"
   ]
  },
  {
   "cell_type": "code",
   "execution_count": 44,
   "id": "2fab0e8d-edb9-4724-a39f-1e25f4b397bd",
   "metadata": {},
   "outputs": [
    {
     "data": {
      "text/plain": [
       "'Rakib Hasan'"
      ]
     },
     "execution_count": 44,
     "metadata": {},
     "output_type": "execute_result"
    }
   ],
   "source": [
    "name.title()"
   ]
  },
  {
   "cell_type": "code",
   "execution_count": 45,
   "id": "467a048f-4cfe-417a-a5e9-278c8c345ed3",
   "metadata": {},
   "outputs": [],
   "source": [
    "var = \"rakib\""
   ]
  },
  {
   "cell_type": "code",
   "execution_count": 46,
   "id": "75b594a2-f4c9-4eae-b0cb-f184277b6fa1",
   "metadata": {},
   "outputs": [
    {
     "data": {
      "text/plain": [
       "False"
      ]
     },
     "execution_count": 46,
     "metadata": {},
     "output_type": "execute_result"
    }
   ],
   "source": [
    "var.isupper()"
   ]
  },
  {
   "cell_type": "code",
   "execution_count": 47,
   "id": "2853bb5e-f01b-4bd8-b8e5-755fd9caf239",
   "metadata": {},
   "outputs": [
    {
     "data": {
      "text/plain": [
       "True"
      ]
     },
     "execution_count": 47,
     "metadata": {},
     "output_type": "execute_result"
    }
   ],
   "source": [
    "var.islower()"
   ]
  },
  {
   "cell_type": "code",
   "execution_count": 48,
   "id": "d5a1c52e-963e-455a-b6d0-13f2d99fd4d1",
   "metadata": {},
   "outputs": [
    {
     "data": {
      "text/plain": [
       "False"
      ]
     },
     "execution_count": 48,
     "metadata": {},
     "output_type": "execute_result"
    }
   ],
   "source": [
    "var.isdigit()"
   ]
  },
  {
   "cell_type": "code",
   "execution_count": 49,
   "id": "ed9b52fc-0161-474e-a5f9-54656d09aeb1",
   "metadata": {},
   "outputs": [
    {
     "data": {
      "text/plain": [
       "b'rakib'"
      ]
     },
     "execution_count": 49,
     "metadata": {},
     "output_type": "execute_result"
    }
   ],
   "source": [
    "#see encode value\n",
    "var.encode()"
   ]
  },
  {
   "cell_type": "code",
   "execution_count": 50,
   "id": "145e26a4-9e9c-447a-98fa-dcf997519ed2",
   "metadata": {},
   "outputs": [
    {
     "data": {
      "text/plain": [
       "bytes"
      ]
     },
     "execution_count": 50,
     "metadata": {},
     "output_type": "execute_result"
    }
   ],
   "source": [
    "type(var.encode())"
   ]
  },
  {
   "cell_type": "code",
   "execution_count": 1,
   "id": "d7dc693c-39e4-495b-bfe6-4ea17a90ac9d",
   "metadata": {},
   "outputs": [],
   "source": [
    "fun = \"My name is rakib hasan\""
   ]
  },
  {
   "cell_type": "code",
   "execution_count": 2,
   "id": "ba9242be-9d07-47a0-a256-4ea663adc792",
   "metadata": {},
   "outputs": [
    {
     "data": {
      "text/plain": [
       "['My', 'name', 'is', 'rakib', 'hasan']"
      ]
     },
     "execution_count": 2,
     "metadata": {},
     "output_type": "execute_result"
    }
   ],
   "source": [
    "# every word are separate\n",
    "fun.split()"
   ]
  },
  {
   "cell_type": "code",
   "execution_count": 3,
   "id": "062eb7bd-296b-41dc-ae7b-ed3b26d073e8",
   "metadata": {},
   "outputs": [
    {
     "data": {
      "text/plain": [
       "'My'"
      ]
     },
     "execution_count": 3,
     "metadata": {},
     "output_type": "execute_result"
    }
   ],
   "source": [
    "fun.split()[0]"
   ]
  },
  {
   "cell_type": "code",
   "execution_count": 4,
   "id": "eaaa3eaa-ff14-4b02-b3b9-2ab851de957d",
   "metadata": {},
   "outputs": [
    {
     "ename": "TypeError",
     "evalue": "center expected at least 1 argument, got 0",
     "output_type": "error",
     "traceback": [
      "\u001b[1;31m---------------------------------------------------------------------------\u001b[0m",
      "\u001b[1;31mTypeError\u001b[0m                                 Traceback (most recent call last)",
      "Cell \u001b[1;32mIn[4], line 1\u001b[0m\n\u001b[1;32m----> 1\u001b[0m \u001b[43mfun\u001b[49m\u001b[38;5;241;43m.\u001b[39;49m\u001b[43mcenter\u001b[49m\u001b[43m(\u001b[49m\u001b[43m)\u001b[49m\n",
      "\u001b[1;31mTypeError\u001b[0m: center expected at least 1 argument, got 0"
     ]
    }
   ],
   "source": [
    "fun.center()"
   ]
  },
  {
   "cell_type": "code",
   "execution_count": 5,
   "id": "dfdf1802-3364-447f-a1bd-6f2e7660e970",
   "metadata": {},
   "outputs": [
    {
     "data": {
      "text/plain": [
       "'                                       My name is rakib hasan                                       '"
      ]
     },
     "execution_count": 5,
     "metadata": {},
     "output_type": "execute_result"
    }
   ],
   "source": [
    "fun.center(100)"
   ]
  },
  {
   "cell_type": "code",
   "execution_count": 8,
   "id": "97507e72-bd95-4005-b5a4-4b9314c7eb18",
   "metadata": {},
   "outputs": [
    {
     "data": {
      "text/plain": [
       "'He name is rakib hasan'"
      ]
     },
     "execution_count": 8,
     "metadata": {},
     "output_type": "execute_result"
    }
   ],
   "source": [
    "fun.replace(\"My\",\"He\")"
   ]
  },
  {
   "cell_type": "code",
   "execution_count": 9,
   "id": "b706be51-6c51-4494-8759-bb814a314a97",
   "metadata": {},
   "outputs": [
    {
     "name": "stdout",
     "output_type": "stream",
     "text": [
      "1000\n"
     ]
    }
   ],
   "source": [
    "x = 10\n",
    "y = 100\n",
    "z = x*y\n",
    "\n",
    "print(z)"
   ]
  },
  {
   "cell_type": "code",
   "execution_count": 10,
   "id": "9030c5f3-7572-4f9a-8ee3-8a053bc4175b",
   "metadata": {},
   "outputs": [
    {
     "ename": "SyntaxError",
     "evalue": "invalid syntax (607001628.py, line 2)",
     "output_type": "error",
     "traceback": [
      "\u001b[1;36m  Cell \u001b[1;32mIn[10], line 2\u001b[1;36m\u001b[0m\n\u001b[1;33m    print(\"i have {} taka\".(z))\u001b[0m\n\u001b[1;37m                           ^\u001b[0m\n\u001b[1;31mSyntaxError\u001b[0m\u001b[1;31m:\u001b[0m invalid syntax\n"
     ]
    }
   ],
   "source": [
    "#format function\n",
    "print(\"i have {} taka\".(z))"
   ]
  },
  {
   "cell_type": "code",
   "execution_count": 11,
   "id": "f14380d6-8c59-43ca-8659-ee84ac40324a",
   "metadata": {},
   "outputs": [
    {
     "name": "stdout",
     "output_type": "stream",
     "text": [
      "i have 1000 taka\n"
     ]
    }
   ],
   "source": [
    "print(\"i have {} taka\".format(z))"
   ]
  },
  {
   "cell_type": "code",
   "execution_count": 12,
   "id": "1e1d3807-f39d-4428-ba53-08fbebe889e4",
   "metadata": {},
   "outputs": [
    {
     "ename": "SyntaxError",
     "evalue": "invalid syntax (1486769838.py, line 1)",
     "output_type": "error",
     "traceback": [
      "\u001b[1;36m  Cell \u001b[1;32mIn[12], line 1\u001b[1;36m\u001b[0m\n\u001b[1;33m    print(f\"i have {z} taka\".)\u001b[0m\n\u001b[1;37m                             ^\u001b[0m\n\u001b[1;31mSyntaxError\u001b[0m\u001b[1;31m:\u001b[0m invalid syntax\n"
     ]
    }
   ],
   "source": [
    "print(f\"i have {z} taka\".)"
   ]
  },
  {
   "cell_type": "code",
   "execution_count": 13,
   "id": "a27a19d5-58f7-48a6-a6a8-f742615abef6",
   "metadata": {},
   "outputs": [
    {
     "name": "stdout",
     "output_type": "stream",
     "text": [
      "i have 1000 taka.\n"
     ]
    }
   ],
   "source": [
    "print(f\"i have {z} taka.\")"
   ]
  },
  {
   "cell_type": "code",
   "execution_count": null,
   "id": "9599d7de-1e30-476e-b0a9-9fa9d967ad13",
   "metadata": {},
   "outputs": [],
   "source": []
  }
 ],
 "metadata": {
  "kernelspec": {
   "display_name": "Python 3 (ipykernel)",
   "language": "python",
   "name": "python3"
  },
  "language_info": {
   "codemirror_mode": {
    "name": "ipython",
    "version": 3
   },
   "file_extension": ".py",
   "mimetype": "text/x-python",
   "name": "python",
   "nbconvert_exporter": "python",
   "pygments_lexer": "ipython3",
   "version": "3.12.7"
  }
 },
 "nbformat": 4,
 "nbformat_minor": 5
}
