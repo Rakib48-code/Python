{
 "cells": [
  {
   "cell_type": "markdown",
   "id": "ee5feaea-070c-4e42-b97d-76c141f70c22",
   "metadata": {},
   "source": [
    "# Tuple in Python"
   ]
  },
  {
   "cell_type": "code",
   "execution_count": 1,
   "id": "0968fe7d-1571-4ce3-8a1f-77cec76b198b",
   "metadata": {},
   "outputs": [],
   "source": [
    "tup1 = ()"
   ]
  },
  {
   "cell_type": "code",
   "execution_count": 2,
   "id": "c60129cf-3979-4a0c-baba-d786f792d189",
   "metadata": {},
   "outputs": [
    {
     "data": {
      "text/plain": [
       "tuple"
      ]
     },
     "execution_count": 2,
     "metadata": {},
     "output_type": "execute_result"
    }
   ],
   "source": [
    "type(tup1)"
   ]
  },
  {
   "cell_type": "code",
   "execution_count": 3,
   "id": "990d7ab2-47f0-4c05-a349-00b598cfd6ab",
   "metadata": {},
   "outputs": [],
   "source": [
    "tup1 = (1,2,3,\"rakib\",\"python\",[\"odoo\",\"django\"],True)"
   ]
  },
  {
   "cell_type": "code",
   "execution_count": 4,
   "id": "cf97a698-eec2-4f0e-949a-04c840babcc7",
   "metadata": {},
   "outputs": [
    {
     "data": {
      "text/plain": [
       "(1, 2, 3, 'rakib', 'python', ['odoo', 'django'], True)"
      ]
     },
     "execution_count": 4,
     "metadata": {},
     "output_type": "execute_result"
    }
   ],
   "source": [
    "tup1"
   ]
  },
  {
   "cell_type": "code",
   "execution_count": 5,
   "id": "aa5327e8-ed04-4c72-beef-066ae1af55e1",
   "metadata": {},
   "outputs": [
    {
     "data": {
      "text/plain": [
       "1"
      ]
     },
     "execution_count": 5,
     "metadata": {},
     "output_type": "execute_result"
    }
   ],
   "source": [
    "tup1[0]"
   ]
  },
  {
   "cell_type": "code",
   "execution_count": 6,
   "id": "358e8026-efdb-4808-bf8e-0b3a7bfe9d0f",
   "metadata": {},
   "outputs": [
    {
     "data": {
      "text/plain": [
       "True"
      ]
     },
     "execution_count": 6,
     "metadata": {},
     "output_type": "execute_result"
    }
   ],
   "source": [
    "tup1[-1]"
   ]
  },
  {
   "cell_type": "markdown",
   "id": "6124fb5b-fd3d-48e4-8d10-74786b282fd9",
   "metadata": {},
   "source": [
    "# Slicing"
   ]
  },
  {
   "cell_type": "code",
   "execution_count": 7,
   "id": "635a9eb7-066c-465b-842f-3ee3f9d5b33e",
   "metadata": {},
   "outputs": [
    {
     "data": {
      "text/plain": [
       "(3, 'rakib', 'python')"
      ]
     },
     "execution_count": 7,
     "metadata": {},
     "output_type": "execute_result"
    }
   ],
   "source": [
    "tup1[2:5]"
   ]
  },
  {
   "cell_type": "code",
   "execution_count": 8,
   "id": "79692054-c148-4409-a6f4-833bffae9a2f",
   "metadata": {},
   "outputs": [
    {
     "name": "stdout",
     "output_type": "stream",
     "text": [
      "['Rakib']\n"
     ]
    }
   ],
   "source": [
    "tup2 = [\"Rakib\"]\n",
    "print(tup2)"
   ]
  },
  {
   "cell_type": "code",
   "execution_count": 9,
   "id": "4e5f7432-2992-4e6d-8774-08714ed9219d",
   "metadata": {},
   "outputs": [
    {
     "data": {
      "text/plain": [
       "list"
      ]
     },
     "execution_count": 9,
     "metadata": {},
     "output_type": "execute_result"
    }
   ],
   "source": [
    "type(tup2)"
   ]
  },
  {
   "cell_type": "code",
   "execution_count": 10,
   "id": "9eaf135c-40fb-4ddc-9332-da4d83f93a07",
   "metadata": {},
   "outputs": [],
   "source": [
    "tup3 = (\"python\")"
   ]
  },
  {
   "cell_type": "code",
   "execution_count": 11,
   "id": "8c907b1f-b206-480c-b8ea-472746284a0f",
   "metadata": {},
   "outputs": [
    {
     "data": {
      "text/plain": [
       "str"
      ]
     },
     "execution_count": 11,
     "metadata": {},
     "output_type": "execute_result"
    }
   ],
   "source": [
    "type(tup3) #class str"
   ]
  },
  {
   "cell_type": "code",
   "execution_count": 12,
   "id": "0fe92dac-bfed-4244-b404-e75fd44445e8",
   "metadata": {},
   "outputs": [],
   "source": [
    "tup3 = (\"python\",)"
   ]
  },
  {
   "cell_type": "code",
   "execution_count": 13,
   "id": "efd3c2bd-2e9d-4af3-9f8a-4d8a7605754c",
   "metadata": {},
   "outputs": [
    {
     "data": {
      "text/plain": [
       "tuple"
      ]
     },
     "execution_count": 13,
     "metadata": {},
     "output_type": "execute_result"
    }
   ],
   "source": [
    "type(tup3)"
   ]
  },
  {
   "cell_type": "markdown",
   "id": "57b2281e-3cef-428e-a0f7-e00656c417b7",
   "metadata": {},
   "source": [
    "# Tuple to List then Add item"
   ]
  },
  {
   "cell_type": "code",
   "execution_count": 14,
   "id": "f73a6e16-0d37-4c69-844d-dcffaa0bb58d",
   "metadata": {},
   "outputs": [],
   "source": [
    "l = list(tup3)"
   ]
  },
  {
   "cell_type": "code",
   "execution_count": 15,
   "id": "9ec6c2da-e2cc-4655-8d15-c718e9419bdb",
   "metadata": {},
   "outputs": [
    {
     "data": {
      "text/plain": [
       "list"
      ]
     },
     "execution_count": 15,
     "metadata": {},
     "output_type": "execute_result"
    }
   ],
   "source": [
    "type(l)"
   ]
  },
  {
   "cell_type": "code",
   "execution_count": 16,
   "id": "ab7349b5-130a-4449-9827-01ba97867c6e",
   "metadata": {},
   "outputs": [],
   "source": [
    "l.append(\"rakib\")"
   ]
  },
  {
   "cell_type": "code",
   "execution_count": 17,
   "id": "62838740-07cf-48d2-b995-81eb5dbd01f1",
   "metadata": {},
   "outputs": [
    {
     "data": {
      "text/plain": [
       "['python', 'rakib']"
      ]
     },
     "execution_count": 17,
     "metadata": {},
     "output_type": "execute_result"
    }
   ],
   "source": [
    "l"
   ]
  },
  {
   "cell_type": "code",
   "execution_count": 18,
   "id": "39441346-180c-413e-8d69-d3d0d7600416",
   "metadata": {},
   "outputs": [],
   "source": [
    "tup3 = tuple(l)"
   ]
  },
  {
   "cell_type": "code",
   "execution_count": 19,
   "id": "d0c276fc-9657-4f23-8647-f86ab59bc8df",
   "metadata": {},
   "outputs": [
    {
     "data": {
      "text/plain": [
       "tuple"
      ]
     },
     "execution_count": 19,
     "metadata": {},
     "output_type": "execute_result"
    }
   ],
   "source": [
    "type(tup3)"
   ]
  },
  {
   "cell_type": "code",
   "execution_count": 20,
   "id": "8078682b-625a-44e8-ac9f-2893ac5e6e5f",
   "metadata": {},
   "outputs": [
    {
     "data": {
      "text/plain": [
       "('python', 'rakib')"
      ]
     },
     "execution_count": 20,
     "metadata": {},
     "output_type": "execute_result"
    }
   ],
   "source": [
    "tup3"
   ]
  },
  {
   "cell_type": "code",
   "execution_count": 21,
   "id": "507b8bea-6d53-44f2-bf95-9a941bf71de0",
   "metadata": {},
   "outputs": [
    {
     "name": "stdout",
     "output_type": "stream",
     "text": [
      "('odoo', 'python', 'developer')\n"
     ]
    }
   ],
   "source": [
    "tup4 = (\"odoo\",\"python\")\n",
    "l1 = list(tup4) #convert list\n",
    "l1.append(\"developer\") #add item\n",
    "tup4 = tuple(l1) #convert tuple\n",
    "print(tup4)"
   ]
  },
  {
   "cell_type": "code",
   "execution_count": 22,
   "id": "108153be-867d-416f-89e6-fb15f15bc61f",
   "metadata": {},
   "outputs": [
    {
     "data": {
      "text/plain": [
       "(1, 2, 3, 'rakib', 'python', ['odoo', 'django'], True)"
      ]
     },
     "execution_count": 22,
     "metadata": {},
     "output_type": "execute_result"
    }
   ],
   "source": [
    "tup1"
   ]
  },
  {
   "cell_type": "code",
   "execution_count": 23,
   "id": "9d3bc317-71e0-4e9f-a6aa-a880d0197048",
   "metadata": {},
   "outputs": [],
   "source": [
    "tup1 = (1,2,3,3,2,1,\"rakib\",\"python\",[\"odoo\",\"django\"],True) #allow duplicate value"
   ]
  },
  {
   "cell_type": "code",
   "execution_count": 24,
   "id": "f2e353c7-0d96-4b39-8caa-52db0db9c829",
   "metadata": {},
   "outputs": [
    {
     "data": {
      "text/plain": [
       "(1, 2, 3, 3, 2, 1, 'rakib', 'python', ['odoo', 'django'], True)"
      ]
     },
     "execution_count": 24,
     "metadata": {},
     "output_type": "execute_result"
    }
   ],
   "source": [
    "tup1"
   ]
  },
  {
   "cell_type": "code",
   "execution_count": 25,
   "id": "08d55848-81ac-4d7a-96ef-03fb536fa4bf",
   "metadata": {},
   "outputs": [
    {
     "name": "stdout",
     "output_type": "stream",
     "text": [
      "(1, 2, 3, 4)\n"
     ]
    }
   ],
   "source": [
    "tup5 = tuple([1,2,3,4])\n",
    "print(tup5)"
   ]
  },
  {
   "cell_type": "code",
   "execution_count": 26,
   "id": "b7bb690b-7393-4b3c-9bc8-9e1077fc89f5",
   "metadata": {},
   "outputs": [
    {
     "data": {
      "text/plain": [
       "tuple"
      ]
     },
     "execution_count": 26,
     "metadata": {},
     "output_type": "execute_result"
    }
   ],
   "source": [
    "type(tup5)"
   ]
  },
  {
   "cell_type": "code",
   "execution_count": 27,
   "id": "0a6b009f-04df-4140-82b5-e16fac06599c",
   "metadata": {},
   "outputs": [
    {
     "name": "stdout",
     "output_type": "stream",
     "text": [
      "(10, 20, 'odoo', 'python', 'ml')\n"
     ]
    }
   ],
   "source": [
    "tup6 = 10,20,\"odoo\",\"python\",\"ml\"\n",
    "print(tup6)"
   ]
  },
  {
   "cell_type": "code",
   "execution_count": 28,
   "id": "859b8e2c-23a8-4819-98db-aef3c4c0a3ba",
   "metadata": {},
   "outputs": [
    {
     "data": {
      "text/plain": [
       "tuple"
      ]
     },
     "execution_count": 28,
     "metadata": {},
     "output_type": "execute_result"
    }
   ],
   "source": [
    "type(tup6)"
   ]
  },
  {
   "cell_type": "code",
   "execution_count": 29,
   "id": "f5a29775-bc20-415c-928a-3ba7aa1ce601",
   "metadata": {},
   "outputs": [
    {
     "data": {
      "text/plain": [
       "str"
      ]
     },
     "execution_count": 29,
     "metadata": {},
     "output_type": "execute_result"
    }
   ],
   "source": [
    "tup7 = \"odoo\"\n",
    "type(tup7)"
   ]
  },
  {
   "cell_type": "code",
   "execution_count": 30,
   "id": "3c42b6b6-21b9-45b2-98d9-a24de7e17481",
   "metadata": {},
   "outputs": [
    {
     "data": {
      "text/plain": [
       "tuple"
      ]
     },
     "execution_count": 30,
     "metadata": {},
     "output_type": "execute_result"
    }
   ],
   "source": [
    "tup7 = \"odoo\",\n",
    "type(tup7)"
   ]
  },
  {
   "cell_type": "code",
   "execution_count": 31,
   "id": "e8565370-c61c-4151-b657-2d77fa733687",
   "metadata": {},
   "outputs": [
    {
     "data": {
      "text/plain": [
       "(10, 20, 'odoo', 'python', 'ml', 'odoo')"
      ]
     },
     "execution_count": 31,
     "metadata": {},
     "output_type": "execute_result"
    }
   ],
   "source": [
    "tup6 + tup7 #concatenation"
   ]
  },
  {
   "cell_type": "code",
   "execution_count": 32,
   "id": "be4cf2d3-631b-4d0c-b031-aabb33a49f3e",
   "metadata": {},
   "outputs": [
    {
     "name": "stdout",
     "output_type": "stream",
     "text": [
      "(1, 2, 3, 4, 1, 2, 3, 4)\n"
     ]
    }
   ],
   "source": [
    "tup8 = (1,2,3,4)\n",
    "print(tup8 * 2)"
   ]
  },
  {
   "cell_type": "markdown",
   "id": "62d658d6-0518-403a-8c6a-8061397b4a47",
   "metadata": {},
   "source": [
    "# count()"
   ]
  },
  {
   "cell_type": "code",
   "execution_count": 33,
   "id": "9ce2f338-2c8f-4cf4-8a79-990ff0bac340",
   "metadata": {},
   "outputs": [
    {
     "data": {
      "text/plain": [
       "1"
      ]
     },
     "execution_count": 33,
     "metadata": {},
     "output_type": "execute_result"
    }
   ],
   "source": [
    "tup8.count(4)"
   ]
  },
  {
   "cell_type": "markdown",
   "id": "e7242be9-812a-4e78-bd96-418553cc3066",
   "metadata": {},
   "source": [
    "# Membership operators"
   ]
  },
  {
   "cell_type": "code",
   "execution_count": 34,
   "id": "c27ddb19-ca29-4559-a0e8-dad84672956f",
   "metadata": {},
   "outputs": [
    {
     "data": {
      "text/plain": [
       "True"
      ]
     },
     "execution_count": 34,
     "metadata": {},
     "output_type": "execute_result"
    }
   ],
   "source": [
    "4 in tup8 #Ture"
   ]
  },
  {
   "cell_type": "code",
   "execution_count": 35,
   "id": "eaf0c6fa-c9d7-4adf-84c1-aaff1d95121f",
   "metadata": {},
   "outputs": [
    {
     "data": {
      "text/plain": [
       "False"
      ]
     },
     "execution_count": 35,
     "metadata": {},
     "output_type": "execute_result"
    }
   ],
   "source": [
    "\"Rakib\" in tup8 #False"
   ]
  },
  {
   "cell_type": "code",
   "execution_count": null,
   "id": "ae3b6e44-ec8c-4b5c-a343-f07231a273a1",
   "metadata": {},
   "outputs": [],
   "source": []
  }
 ],
 "metadata": {
  "kernelspec": {
   "display_name": "Python 3 (ipykernel)",
   "language": "python",
   "name": "python3"
  },
  "language_info": {
   "codemirror_mode": {
    "name": "ipython",
    "version": 3
   },
   "file_extension": ".py",
   "mimetype": "text/x-python",
   "name": "python",
   "nbconvert_exporter": "python",
   "pygments_lexer": "ipython3",
   "version": "3.12.7"
  }
 },
 "nbformat": 4,
 "nbformat_minor": 5
}
