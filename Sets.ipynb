{
 "cells": [
  {
   "cell_type": "markdown",
   "id": "3355f37e-16f0-4812-bcf2-a7629acbd20f",
   "metadata": {},
   "source": [
    "# Set in Python"
   ]
  },
  {
   "cell_type": "code",
   "execution_count": 1,
   "id": "fc469000-8d27-4a47-8395-b71b9f7bcc93",
   "metadata": {},
   "outputs": [],
   "source": [
    "s = {1,2,3,4,\"python\",(10,\"odoo\")}"
   ]
  },
  {
   "cell_type": "code",
   "execution_count": 2,
   "id": "d922e413-8c77-4e2c-b336-2f8ec75918d1",
   "metadata": {},
   "outputs": [
    {
     "data": {
      "text/plain": [
       "set"
      ]
     },
     "execution_count": 2,
     "metadata": {},
     "output_type": "execute_result"
    }
   ],
   "source": [
    "type(s)"
   ]
  },
  {
   "cell_type": "code",
   "execution_count": 3,
   "id": "06353027-40c7-46ec-a5c3-1cc2fbb6f5bd",
   "metadata": {},
   "outputs": [
    {
     "data": {
      "text/plain": [
       "{(10, 'odoo'), 1, 2, 3, 4, 'python'}"
      ]
     },
     "execution_count": 3,
     "metadata": {},
     "output_type": "execute_result"
    }
   ],
   "source": [
    "s"
   ]
  },
  {
   "cell_type": "code",
   "execution_count": 4,
   "id": "b6ec6cd7-8ecb-4895-b85a-f07301ecb2ed",
   "metadata": {},
   "outputs": [],
   "source": [
    "set1 = {}\n",
    "li = []"
   ]
  },
  {
   "cell_type": "code",
   "execution_count": 5,
   "id": "e622847d-3115-4847-bcaf-8dcb7cbe1b92",
   "metadata": {},
   "outputs": [
    {
     "data": {
      "text/plain": [
       "dict"
      ]
     },
     "execution_count": 5,
     "metadata": {},
     "output_type": "execute_result"
    }
   ],
   "source": [
    "type(set1)"
   ]
  },
  {
   "cell_type": "code",
   "execution_count": 6,
   "id": "1d8f24fc-2aaa-48c8-9dd7-f797733a96ec",
   "metadata": {},
   "outputs": [
    {
     "data": {
      "text/plain": [
       "list"
      ]
     },
     "execution_count": 6,
     "metadata": {},
     "output_type": "execute_result"
    }
   ],
   "source": [
    "type(li)"
   ]
  },
  {
   "cell_type": "code",
   "execution_count": 7,
   "id": "04f6d446-d7d8-48b2-a716-7d3468149d77",
   "metadata": {},
   "outputs": [],
   "source": [
    "set2 = set()"
   ]
  },
  {
   "cell_type": "code",
   "execution_count": 8,
   "id": "0a987c8a-9206-47ec-8bf5-87235f147925",
   "metadata": {},
   "outputs": [
    {
     "data": {
      "text/plain": [
       "set"
      ]
     },
     "execution_count": 8,
     "metadata": {},
     "output_type": "execute_result"
    }
   ],
   "source": [
    "type(set2)"
   ]
  },
  {
   "cell_type": "code",
   "execution_count": 9,
   "id": "8e27e1cc-a2aa-41fa-a9f8-c644803caf18",
   "metadata": {},
   "outputs": [
    {
     "data": {
      "text/plain": [
       "set()"
      ]
     },
     "execution_count": 9,
     "metadata": {},
     "output_type": "execute_result"
    }
   ],
   "source": [
    "set2"
   ]
  },
  {
   "cell_type": "code",
   "execution_count": 10,
   "id": "126c5c01-1019-44ee-8006-833411f31bc1",
   "metadata": {},
   "outputs": [
    {
     "data": {
      "text/plain": [
       "{(10, 'odoo'), 1, 2, 3, 4, 'python'}"
      ]
     },
     "execution_count": 10,
     "metadata": {},
     "output_type": "execute_result"
    }
   ],
   "source": [
    "s"
   ]
  },
  {
   "cell_type": "code",
   "execution_count": 11,
   "id": "18549191-0678-4890-bdde-e3c6edeb9449",
   "metadata": {},
   "outputs": [
    {
     "ename": "TypeError",
     "evalue": "'set' object is not subscriptable",
     "output_type": "error",
     "traceback": [
      "\u001b[1;31m---------------------------------------------------------------------------\u001b[0m",
      "\u001b[1;31mTypeError\u001b[0m                                 Traceback (most recent call last)",
      "Cell \u001b[1;32mIn[11], line 1\u001b[0m\n\u001b[1;32m----> 1\u001b[0m \u001b[43ms\u001b[49m\u001b[43m[\u001b[49m\u001b[38;5;241;43m0\u001b[39;49m\u001b[43m]\u001b[49m\n",
      "\u001b[1;31mTypeError\u001b[0m: 'set' object is not subscriptable"
     ]
    }
   ],
   "source": [
    "s[0]"
   ]
  },
  {
   "cell_type": "markdown",
   "id": "967513de-47ca-4031-a7bf-4a5cb8839daa",
   "metadata": {},
   "source": [
    "# Add item"
   ]
  },
  {
   "cell_type": "code",
   "execution_count": null,
   "id": "e726e43a-8603-481b-becb-7c5ed8b287ec",
   "metadata": {},
   "outputs": [],
   "source": [
    "#add item\n",
    "s.add(\"rakib\")"
   ]
  },
  {
   "cell_type": "code",
   "execution_count": null,
   "id": "89ad2e30-4a21-402b-a17a-e5a8b8d83267",
   "metadata": {},
   "outputs": [],
   "source": [
    "s"
   ]
  },
  {
   "cell_type": "code",
   "execution_count": null,
   "id": "32278d7c-7b44-404c-8ea0-81a4e766ef50",
   "metadata": {},
   "outputs": [],
   "source": [
    "s.update(10)"
   ]
  },
  {
   "cell_type": "code",
   "execution_count": null,
   "id": "ab19300a-292b-4c76-bd80-931dacc8d4f2",
   "metadata": {},
   "outputs": [],
   "source": [
    "s.update([10])"
   ]
  },
  {
   "cell_type": "code",
   "execution_count": null,
   "id": "81b367b1-d82b-4fbb-8872-5a526030c96d",
   "metadata": {},
   "outputs": [],
   "source": [
    "s"
   ]
  },
  {
   "cell_type": "code",
   "execution_count": null,
   "id": "b860b70e-8aee-4214-a9a1-7ec7234242db",
   "metadata": {},
   "outputs": [],
   "source": [
    "s.update([10],\"java\",\"c\")"
   ]
  },
  {
   "cell_type": "code",
   "execution_count": null,
   "id": "df3f087a-cecd-4c62-83e1-adc352ecde02",
   "metadata": {},
   "outputs": [],
   "source": [
    "s"
   ]
  },
  {
   "cell_type": "markdown",
   "id": "e4c6eb64-632a-43a0-a7cc-ab65cee5c720",
   "metadata": {},
   "source": [
    "# Remove()"
   ]
  },
  {
   "cell_type": "code",
   "execution_count": null,
   "id": "33d091cb-7bba-4516-bc7d-95f833ceeaf6",
   "metadata": {},
   "outputs": [],
   "source": [
    "s.remove(10)"
   ]
  },
  {
   "cell_type": "code",
   "execution_count": 12,
   "id": "08a7f681-b000-45e0-a781-12324a96ea98",
   "metadata": {},
   "outputs": [
    {
     "data": {
      "text/plain": [
       "{(10, 'odoo'), 1, 2, 3, 4, 'python'}"
      ]
     },
     "execution_count": 12,
     "metadata": {},
     "output_type": "execute_result"
    }
   ],
   "source": [
    "s"
   ]
  },
  {
   "cell_type": "markdown",
   "id": "5912d150-af56-4de0-9c5c-a5c695890866",
   "metadata": {},
   "source": [
    "# Multiple element remove"
   ]
  },
  {
   "cell_type": "code",
   "execution_count": 13,
   "id": "55455a71-3472-49b7-8ef9-b5b1baa57b61",
   "metadata": {},
   "outputs": [
    {
     "name": "stdout",
     "output_type": "stream",
     "text": [
      "{2, 3, 4, 'python', (10, 'odoo')}\n"
     ]
    }
   ],
   "source": [
    "s.discard(1)\n",
    "print(s)"
   ]
  },
  {
   "cell_type": "code",
   "execution_count": 14,
   "id": "aa4904f0-96c9-4d98-ae4a-08f647f0a82b",
   "metadata": {},
   "outputs": [
    {
     "data": {
      "text/plain": [
       "True"
      ]
     },
     "execution_count": 14,
     "metadata": {},
     "output_type": "execute_result"
    }
   ],
   "source": [
    "2 in s #True"
   ]
  },
  {
   "cell_type": "code",
   "execution_count": 15,
   "id": "b8e0bbdd-c6bc-4d35-a4e0-5023ca152406",
   "metadata": {},
   "outputs": [
    {
     "data": {
      "text/plain": [
       "2"
      ]
     },
     "execution_count": 15,
     "metadata": {},
     "output_type": "execute_result"
    }
   ],
   "source": [
    "s.pop()"
   ]
  },
  {
   "cell_type": "code",
   "execution_count": 16,
   "id": "e697b5a3-e360-4f63-a5f1-923dd107ee3b",
   "metadata": {},
   "outputs": [
    {
     "data": {
      "text/plain": [
       "{(10, 'odoo'), 3, 4, 'python'}"
      ]
     },
     "execution_count": 16,
     "metadata": {},
     "output_type": "execute_result"
    }
   ],
   "source": [
    "s"
   ]
  },
  {
   "cell_type": "code",
   "execution_count": null,
   "id": "e26869d8-4892-4d96-8679-171b7f151c2a",
   "metadata": {},
   "outputs": [],
   "source": []
  }
 ],
 "metadata": {
  "kernelspec": {
   "display_name": "Python 3 (ipykernel)",
   "language": "python",
   "name": "python3"
  },
  "language_info": {
   "codemirror_mode": {
    "name": "ipython",
    "version": 3
   },
   "file_extension": ".py",
   "mimetype": "text/x-python",
   "name": "python",
   "nbconvert_exporter": "python",
   "pygments_lexer": "ipython3",
   "version": "3.12.7"
  }
 },
 "nbformat": 4,
 "nbformat_minor": 5
}
