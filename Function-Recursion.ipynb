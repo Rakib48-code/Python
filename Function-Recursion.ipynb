{
 "cells": [
  {
   "cell_type": "code",
   "execution_count": 1,
   "id": "1143bdfb-e749-4f12-b650-f2d234a4ab36",
   "metadata": {},
   "outputs": [
    {
     "name": "stdout",
     "output_type": "stream",
     "text": [
      "120\n"
     ]
    }
   ],
   "source": [
    "import math \n",
    "fact = math.factorial(5)\n",
    "print(fact)"
   ]
  },
  {
   "cell_type": "markdown",
   "id": "4cb1dc23-ef2b-4777-8477-c5dc00c8c5c8",
   "metadata": {},
   "source": [
    "# Recursion Function"
   ]
  },
  {
   "cell_type": "code",
   "execution_count": 2,
   "id": "b4e1be71-dedc-4f0b-a54d-4e6073034c54",
   "metadata": {},
   "outputs": [
    {
     "data": {
      "text/plain": [
       "120"
      ]
     },
     "execution_count": 2,
     "metadata": {},
     "output_type": "execute_result"
    }
   ],
   "source": [
    "def facto(x):\n",
    "    if x == 0:\n",
    "        return 1\n",
    "    return x* facto(x-1) #this line are recursion\n",
    "facto(5)"
   ]
  },
  {
   "cell_type": "code",
   "execution_count": null,
   "id": "df876953-7bd5-4788-a4d5-5f8da6573cae",
   "metadata": {},
   "outputs": [],
   "source": []
  }
 ],
 "metadata": {
  "kernelspec": {
   "display_name": "Python 3 (ipykernel)",
   "language": "python",
   "name": "python3"
  },
  "language_info": {
   "codemirror_mode": {
    "name": "ipython",
    "version": 3
   },
   "file_extension": ".py",
   "mimetype": "text/x-python",
   "name": "python",
   "nbconvert_exporter": "python",
   "pygments_lexer": "ipython3",
   "version": "3.12.7"
  }
 },
 "nbformat": 4,
 "nbformat_minor": 5
}
