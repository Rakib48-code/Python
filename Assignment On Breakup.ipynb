{
 "cells": [
  {
   "cell_type": "markdown",
   "id": "72c57c5a-600f-4b45-80c7-7a1efd4e396f",
   "metadata": {},
   "source": [
    "# Problem 1: List Sum"
   ]
  },
  {
   "cell_type": "markdown",
   "id": "8d4fa13c-80ba-431d-817d-0bf4fb6d5504",
   "metadata": {},
   "source": [
    "Write a Python function that takes a list of numbers as input and returns the sum of all the elements in the list.\n",
    "\n",
    "input_numbers = [1, 2, 3, 4, 5]\n",
    "\n",
    "Sum: 15"
   ]
  },
  {
   "cell_type": "code",
   "execution_count": 1,
   "id": "0cd838e8-838f-4058-869b-63e20a961116",
   "metadata": {},
   "outputs": [
    {
     "data": {
      "text/plain": [
       "15"
      ]
     },
     "execution_count": 1,
     "metadata": {},
     "output_type": "execute_result"
    }
   ],
   "source": [
    "def list_sum(input_numbers):\n",
    "    result = sum(input_numbers)\n",
    "    return result\n",
    "\n",
    "input_numbers = [1,2,3,4,5]\n",
    "list_sum(input_numbers)"
   ]
  },
  {
   "cell_type": "markdown",
   "id": "c5bc82a7-2b44-449d-ba1d-b9070ad04b49",
   "metadata": {},
   "source": [
    "# Problem 2: List Reversal"
   ]
  },
  {
   "cell_type": "markdown",
   "id": "9d815577-c97d-434d-8332-92967d0d3c09",
   "metadata": {},
   "source": [
    "Create a function that reverses a given list and returns the reversed list.\n",
    "\n",
    "original_list = [10, 20, 30, 40, 50]\n",
    "\n",
    "Reversed List: [50, 40, 30, 20, 10]"
   ]
  },
  {
   "cell_type": "code",
   "execution_count": 3,
   "id": "b2eb99e1-f8ca-49e9-b122-92f12fdee0d4",
   "metadata": {},
   "outputs": [
    {
     "data": {
      "text/plain": [
       "[50, 40, 30, 20, 10]"
      ]
     },
     "execution_count": 3,
     "metadata": {},
     "output_type": "execute_result"
    }
   ],
   "source": [
    "def List_Reversal(original_list):\n",
    "    Reversed_List = list(reversed(original_list))\n",
    "    return Reversed_List\n",
    "original_list = [10, 20, 30, 40, 50]\n",
    "List_Reversal(original_list)"
   ]
  },
  {
   "cell_type": "markdown",
   "id": "a8c641fb-09c6-48f2-a7af-87caaf241a8a",
   "metadata": {},
   "source": [
    "# Problem 3: List Even Numbers"
   ]
  },
  {
   "cell_type": "markdown",
   "id": "82071d38-8eb3-4a72-b497-29523d3d5eeb",
   "metadata": {},
   "source": [
    "Write a function that takes a list of integers as input and returns a new list containing only the even numbers.\n",
    "    \n",
    "numbers = [1, 2, 3, 4, 5, 6, 7, 8, 9, 10]\n",
    "\n",
    "Even Numbers: [2, 4, 6, 8, 10]"
   ]
  },
  {
   "cell_type": "code",
   "execution_count": 6,
   "id": "0abe43c4-ccf7-42b9-9d2c-261d2bb9f08d",
   "metadata": {},
   "outputs": [
    {
     "data": {
      "text/plain": [
       "[2, 4, 6, 8, 10]"
      ]
     },
     "execution_count": 6,
     "metadata": {},
     "output_type": "execute_result"
    }
   ],
   "source": [
    "def even_num(numbers):\n",
    "    even = []\n",
    "    for i in numbers:\n",
    "        if i % 2 == 0:\n",
    "            even.append(i)\n",
    "    return even\n",
    "\n",
    "numbers = [1,2,3,4,5,6,7,8,9,10]\n",
    "even_num(numbers)"
   ]
  },
  {
   "cell_type": "markdown",
   "id": "efaa790b-a5f0-4c7d-b0eb-99b0af0e07a1",
   "metadata": {},
   "source": [
    "# Problem 4: List Duplicates"
   ]
  },
  {
   "cell_type": "markdown",
   "id": "8d0e4240-45be-4d07-ae76-520450482f1d",
   "metadata": {},
   "source": [
    "Create a function that finds and returns a list of unique elements from a given list.\n",
    "\n",
    "elements = [1, 2, 2, 3, 4, 4, 5]\n",
    "\n",
    "Unique Elements: [1, 2, 3, 4, 5]"
   ]
  },
  {
   "cell_type": "code",
   "execution_count": 9,
   "id": "addf24fb-d114-4387-95bf-67a28a3693b0",
   "metadata": {},
   "outputs": [
    {
     "data": {
      "text/plain": [
       "[1, 2, 3, 4, 5]"
      ]
     },
     "execution_count": 9,
     "metadata": {},
     "output_type": "execute_result"
    }
   ],
   "source": [
    "def list_duplicates(elements):\n",
    "    \n",
    "    unique_elements = []\n",
    "    \n",
    "    for i in elements:\n",
    "        if i not in unique_elements:\n",
    "            unique_elements.append(i)\n",
    "            \n",
    "    return unique_elements\n",
    "    \n",
    "elements = [1, 2, 2, 3, 4, 4, 5]\n",
    "list_duplicates(elements)"
   ]
  },
  {
   "cell_type": "markdown",
   "id": "412e4505-8123-44ed-9dea-65c2892d5186",
   "metadata": {},
   "source": [
    "# Problem 5: List Concatenation"
   ]
  },
  {
   "cell_type": "markdown",
   "id": "9e3284f3-7389-43dd-b3f9-bd7763ae2e9b",
   "metadata": {},
   "source": [
    "\n",
    "Write a function that takes two lists as input and returns a new list that is the concatenation of the two input lists.\n",
    "    \n",
    "list1 = [1, 2, 3]\n",
    "\n",
    "list2 = [4, 5, 6]\n",
    "\n",
    "Concatenated List: [1, 2, 3, 4, 5, 6]"
   ]
  },
  {
   "cell_type": "code",
   "execution_count": 10,
   "id": "11e43edb-a489-4cef-8610-65357bb1ed41",
   "metadata": {},
   "outputs": [
    {
     "data": {
      "text/plain": [
       "[1, 2, 3, 4, 5, 6]"
      ]
     },
     "execution_count": 10,
     "metadata": {},
     "output_type": "execute_result"
    }
   ],
   "source": [
    "def concatenated(list1,list2):\n",
    "    Concatenated_List = list1 + list2\n",
    "    return Concatenated_List\n",
    "\n",
    "list1 = [1,2,3]\n",
    "list2 = [4,5,6]\n",
    "concatenated(list1,list2)"
   ]
  },
  {
   "cell_type": "code",
   "execution_count": null,
   "id": "24d71c93-472d-49ba-98b7-6e84962c49c4",
   "metadata": {},
   "outputs": [],
   "source": []
  }
 ],
 "metadata": {
  "kernelspec": {
   "display_name": "Python 3 (ipykernel)",
   "language": "python",
   "name": "python3"
  },
  "language_info": {
   "codemirror_mode": {
    "name": "ipython",
    "version": 3
   },
   "file_extension": ".py",
   "mimetype": "text/x-python",
   "name": "python",
   "nbconvert_exporter": "python",
   "pygments_lexer": "ipython3",
   "version": "3.12.7"
  }
 },
 "nbformat": 4,
 "nbformat_minor": 5
}
