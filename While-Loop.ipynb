{
 "cells": [
  {
   "cell_type": "markdown",
   "id": "ebb4f029-aa44-4706-b6f0-1859bb8e5735",
   "metadata": {},
   "source": [
    "# While Loop"
   ]
  },
  {
   "cell_type": "code",
   "execution_count": 2,
   "id": "21407276-4d0a-4cf4-a950-9edca767b0cd",
   "metadata": {},
   "outputs": [
    {
     "name": "stdout",
     "output_type": "stream",
     "text": [
      "0\n",
      "1\n",
      "2\n",
      "3\n",
      "4\n",
      "5\n",
      "6\n",
      "7\n",
      "8\n",
      "9\n",
      "10\n"
     ]
    }
   ],
   "source": [
    "i = 0\n",
    "while i <= 10:\n",
    "    print(i)\n",
    "    i = i + 1"
   ]
  },
  {
   "cell_type": "code",
   "execution_count": 3,
   "id": "262722c8-f5c4-4cb8-9d5b-5bea4626fa66",
   "metadata": {},
   "outputs": [
    {
     "name": "stdout",
     "output_type": "stream",
     "text": [
      "Rakib 0\n",
      "Rakib 1\n",
      "Rakib 2\n",
      "Rakib 3\n",
      "Rakib 4\n",
      "Rakib 5\n",
      "Rakib 6\n",
      "Rakib 7\n",
      "Rakib 8\n",
      "Rakib 9\n",
      "Rakib 10\n"
     ]
    }
   ],
   "source": [
    "i = 0\n",
    "while i <= 10:\n",
    "    print(\"Rakib\",i)\n",
    "    i = i + 1"
   ]
  },
  {
   "cell_type": "code",
   "execution_count": 4,
   "id": "c32b2942-c55c-451c-9fb7-5358c9fa6ba1",
   "metadata": {},
   "outputs": [
    {
     "name": "stdout",
     "output_type": "stream",
     "text": [
      "Rakib 0\n",
      "Rakib 2\n",
      "Rakib 4\n",
      "Rakib 6\n",
      "Rakib 8\n",
      "Rakib 10\n"
     ]
    }
   ],
   "source": [
    "i = 0\n",
    "while i <= 10:\n",
    "    print(\"Rakib\",i)\n",
    "    i = i + 2"
   ]
  },
  {
   "cell_type": "code",
   "execution_count": 5,
   "id": "54558780-16f5-4835-ae25-b81ec9fd01dc",
   "metadata": {},
   "outputs": [
    {
     "data": {
      "text/plain": [
       "'p'"
      ]
     },
     "execution_count": 5,
     "metadata": {},
     "output_type": "execute_result"
    }
   ],
   "source": [
    "data = \"python\"\n",
    "data[0]"
   ]
  },
  {
   "cell_type": "code",
   "execution_count": 6,
   "id": "1d35989d-bf0a-41ba-941c-0d4113f7d48f",
   "metadata": {},
   "outputs": [
    {
     "name": "stdout",
     "output_type": "stream",
     "text": [
      "p\n",
      "y\n",
      "t\n",
      "h\n",
      "o\n",
      "n\n"
     ]
    }
   ],
   "source": [
    "data = \"python\"\n",
    "index = 0\n",
    "while index < len(data):\n",
    "    print(data[index])\n",
    "    index += 1"
   ]
  },
  {
   "cell_type": "code",
   "execution_count": 7,
   "id": "a9f5fbbc-3ec8-4d26-9c31-15a0b92701a0",
   "metadata": {},
   "outputs": [
    {
     "name": "stdout",
     "output_type": "stream",
     "text": [
      "i\n",
      " \n",
      "l\n",
      "o\n",
      "v\n",
      "e\n",
      " \n",
      "d\n",
      "a\n",
      "t\n",
      "a\n",
      " \n",
      "s\n",
      "c\n",
      "i\n",
      "e\n",
      "n\n",
      "c\n",
      "e\n",
      " \n",
      "s\n",
      "o\n",
      " \n",
      "m\n",
      "u\n",
      "c\n",
      "h\n"
     ]
    }
   ],
   "source": [
    "var = \"i love data science so much\"\n",
    "index = 0\n",
    "while index < len(var):\n",
    "    print(var[index])\n",
    "    index += 1"
   ]
  },
  {
   "cell_type": "code",
   "execution_count": 8,
   "id": "ff04acab-6b2d-42db-971f-b9a076a3f418",
   "metadata": {},
   "outputs": [
    {
     "name": "stdout",
     "output_type": "stream",
     "text": [
      "i\n",
      "love\n",
      "data\n",
      "science\n",
      "so\n",
      "much\n"
     ]
    }
   ],
   "source": [
    "var = \"i love data science so much\"\n",
    "var = var.split()\n",
    "index = 0\n",
    "while index < len(var):\n",
    "    print(var[index])\n",
    "    index += 1"
   ]
  },
  {
   "cell_type": "code",
   "execution_count": 9,
   "id": "f0205220-ca57-4f03-8fc2-fa4426dc87d7",
   "metadata": {},
   "outputs": [
    {
     "ename": "TypeError",
     "evalue": "'<' not supported between instances of 'int' and 'list'",
     "output_type": "error",
     "traceback": [
      "\u001b[1;31m---------------------------------------------------------------------------\u001b[0m",
      "\u001b[1;31mTypeError\u001b[0m                                 Traceback (most recent call last)",
      "Cell \u001b[1;32mIn[9], line 5\u001b[0m\n\u001b[0;32m      2\u001b[0m total \u001b[38;5;241m=\u001b[39m \u001b[38;5;241m0\u001b[39m\n\u001b[0;32m      3\u001b[0m index \u001b[38;5;241m=\u001b[39m \u001b[38;5;241m0\u001b[39m \u001b[38;5;66;03m#work with index\u001b[39;00m\n\u001b[1;32m----> 5\u001b[0m \u001b[38;5;28;01mwhile\u001b[39;00m \u001b[43mindex\u001b[49m\u001b[43m \u001b[49m\u001b[38;5;241;43m<\u001b[39;49m\u001b[43m \u001b[49m\u001b[43mn\u001b[49m:\n\u001b[0;32m      6\u001b[0m     total \u001b[38;5;241m=\u001b[39m total \u001b[38;5;241m+\u001b[39m n[index]\n\u001b[0;32m      7\u001b[0m     \u001b[38;5;28mprint\u001b[39m(index,total)\n",
      "\u001b[1;31mTypeError\u001b[0m: '<' not supported between instances of 'int' and 'list'"
     ]
    }
   ],
   "source": [
    "n = [2,3,4,55,60,77,100]\n",
    "total = 0\n",
    "index = 0 #work with index\n",
    "\n",
    "while index < n:\n",
    "    total = total + n[index]\n",
    "    print(index,total)\n",
    "    index = index + 1"
   ]
  },
  {
   "cell_type": "code",
   "execution_count": 10,
   "id": "3e1a59bf-fe5e-46d8-8172-4a1c970a4d64",
   "metadata": {},
   "outputs": [
    {
     "name": "stdout",
     "output_type": "stream",
     "text": [
      "0 2\n",
      "1 5\n",
      "2 9\n",
      "3 64\n",
      "4 124\n",
      "5 201\n",
      "6 301\n"
     ]
    }
   ],
   "source": [
    "n = [2,3,4,55,60,77,100]\n",
    "total = 0\n",
    "index = 0 #work with index\n",
    "\n",
    "while index < len(n):\n",
    "    total = total + n[index]\n",
    "    print(index,total)\n",
    "    index = index + 1"
   ]
  },
  {
   "cell_type": "code",
   "execution_count": 11,
   "id": "d6a687b0-c911-49e8-a262-a28eb8f2e0a0",
   "metadata": {},
   "outputs": [
    {
     "name": "stdout",
     "output_type": "stream",
     "text": [
      "0 2\n",
      "1 5\n",
      "2 9\n",
      "3 64\n",
      "4 124\n",
      "5 201\n",
      "6 301\n"
     ]
    }
   ],
   "source": [
    "n = [2,3,4,55,60,77,100] # এটি তালিকা, যার উপাদানগুলি আমরা যোগ করতে চাই।\n",
    "total = 0 # শুরুতে মোট যোগফল ০ হিসাবে সেট করা হয়েছে।\n",
    "index = 0 # ইনডেক্স ০ হিসাবে শুরু, কারণ তালিকার প্রথম উপাদান ইন্ডেক্স ০ তে থাকে।\n",
    "\n",
    "while index < len(n): # যতক্ষণ ইনডেক্স তালিকার দৈর্ঘ্যের চেয়ে ছোট, ততক্ষণ লুপ চলবে।\n",
    "    total = total + n[index] # প্রতিবার লুপে প্রতিটি উপাদান যোগ করে মোট যোগফল আপডেট করা হচ্ছে।\n",
    "    print(index, total) # বর্তমান ইনডেক্স এবং যোগফল প্রিন্ট করা হচ্ছে।\n",
    "    index = index + 1 # প্রতিবার লুপে ইনডেক্স ১ করে বাড়ানো হচ্ছে।\n"
   ]
  },
  {
   "cell_type": "code",
   "execution_count": null,
   "id": "c2f0d1f4-1723-4c68-9df2-f32dc33a04c2",
   "metadata": {},
   "outputs": [],
   "source": []
  }
 ],
 "metadata": {
  "kernelspec": {
   "display_name": "Python 3 (ipykernel)",
   "language": "python",
   "name": "python3"
  },
  "language_info": {
   "codemirror_mode": {
    "name": "ipython",
    "version": 3
   },
   "file_extension": ".py",
   "mimetype": "text/x-python",
   "name": "python",
   "nbconvert_exporter": "python",
   "pygments_lexer": "ipython3",
   "version": "3.12.7"
  }
 },
 "nbformat": 4,
 "nbformat_minor": 5
}
