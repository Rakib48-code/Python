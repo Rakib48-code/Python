{
 "cells": [
  {
   "cell_type": "markdown",
   "id": "f6281833-872e-411d-93cb-4f51a52669fd",
   "metadata": {},
   "source": [
    "# Lambda Anonymous Function"
   ]
  },
  {
   "cell_type": "markdown",
   "id": "cafba159-38b2-47cd-b90f-ec52d9eeb583",
   "metadata": {},
   "source": [
    "lambda arguments:expression"
   ]
  },
  {
   "cell_type": "code",
   "execution_count": 2,
   "id": "f8b02104-129b-448c-9d7b-cde79863cbc6",
   "metadata": {},
   "outputs": [
    {
     "data": {
      "text/plain": [
       "9"
      ]
     },
     "execution_count": 2,
     "metadata": {},
     "output_type": "execute_result"
    }
   ],
   "source": [
    "def sum(x,y):\n",
    "    return x+y\n",
    "sum(4,5)"
   ]
  },
  {
   "cell_type": "code",
   "execution_count": 4,
   "id": "ef5abac5-adfb-4d10-bdae-5cf298ef73bd",
   "metadata": {},
   "outputs": [
    {
     "name": "stdout",
     "output_type": "stream",
     "text": [
      "9\n"
     ]
    }
   ],
   "source": [
    "var = lambda x,y: x+y\n",
    "print(var(4,5))"
   ]
  },
  {
   "cell_type": "code",
   "execution_count": 5,
   "id": "b90ed455-7a3e-40a0-85ea-8a40b3050415",
   "metadata": {},
   "outputs": [
    {
     "name": "stdout",
     "output_type": "stream",
     "text": [
      "20\n"
     ]
    }
   ],
   "source": [
    "var = lambda x,y: x*y\n",
    "print(var(4,5))"
   ]
  },
  {
   "cell_type": "code",
   "execution_count": 6,
   "id": "66433148-ac20-494c-be6b-282c31d8e2e6",
   "metadata": {},
   "outputs": [
    {
     "name": "stdout",
     "output_type": "stream",
     "text": [
      "16\n"
     ]
    }
   ],
   "source": [
    "var = lambda x: x*x\n",
    "print(var(4))"
   ]
  },
  {
   "cell_type": "markdown",
   "id": "a6821ef1-d012-4b22-8790-d8d2f9b65f6d",
   "metadata": {},
   "source": [
    "# lambda in higher order"
   ]
  },
  {
   "cell_type": "code",
   "execution_count": 7,
   "id": "b557702a-9047-4f35-814b-7ac49c012178",
   "metadata": {},
   "outputs": [
    {
     "data": {
      "text/plain": [
       "20"
      ]
     },
     "execution_count": 7,
     "metadata": {},
     "output_type": "execute_result"
    }
   ],
   "source": [
    "def operation_higher(x,y, operation):\n",
    "    return operation(x,y)\n",
    "operation_higher(4,5, lambda x,y: x*y)"
   ]
  },
  {
   "cell_type": "code",
   "execution_count": null,
   "id": "1996fa1d-ea66-4580-a397-0c8a637f16e0",
   "metadata": {},
   "outputs": [],
   "source": []
  }
 ],
 "metadata": {
  "kernelspec": {
   "display_name": "Python 3 (ipykernel)",
   "language": "python",
   "name": "python3"
  },
  "language_info": {
   "codemirror_mode": {
    "name": "ipython",
    "version": 3
   },
   "file_extension": ".py",
   "mimetype": "text/x-python",
   "name": "python",
   "nbconvert_exporter": "python",
   "pygments_lexer": "ipython3",
   "version": "3.12.7"
  }
 },
 "nbformat": 4,
 "nbformat_minor": 5
}
