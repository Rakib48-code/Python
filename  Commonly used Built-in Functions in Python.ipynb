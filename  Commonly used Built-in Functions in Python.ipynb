{
 "cells": [
  {
   "cell_type": "markdown",
   "id": "1aa58bf3-2a59-4054-954e-0d96a23a58a4",
   "metadata": {},
   "source": [
    "#  Commonly used Built-in Functions in Python"
   ]
  },
  {
   "cell_type": "code",
   "execution_count": null,
   "id": "92dcb065-6782-4274-8bd9-b1dfb7a61508",
   "metadata": {},
   "outputs": [],
   "source": []
  },
  {
   "cell_type": "markdown",
   "id": "47a1e0a9-92db-4a80-9f44-fa012edaf614",
   "metadata": {},
   "source": [
    "# 1. print(): Outputs text or variables to the console."
   ]
  },
  {
   "cell_type": "code",
   "execution_count": 1,
   "id": "c259e2ed-4b2d-4598-8852-b391d290fc98",
   "metadata": {},
   "outputs": [
    {
     "name": "stdout",
     "output_type": "stream",
     "text": [
      "Hello World!\n"
     ]
    }
   ],
   "source": [
    "print(\"Hello World!\")"
   ]
  },
  {
   "cell_type": "markdown",
   "id": "458b9d63-ecec-4b12-8a8c-99cabe242ed7",
   "metadata": {},
   "source": [
    "# 2. len(): Returns the length of an object."
   ]
  },
  {
   "cell_type": "code",
   "execution_count": 2,
   "id": "cd334ba1-604b-409a-903d-216ab24f6cd8",
   "metadata": {},
   "outputs": [
    {
     "name": "stdout",
     "output_type": "stream",
     "text": [
      "10\n"
     ]
    }
   ],
   "source": [
    "my_list = [1,2,3,4,5,6,7,8,9,0]\n",
    "print(len(my_list))"
   ]
  },
  {
   "cell_type": "code",
   "execution_count": 3,
   "id": "c4bfc145-1671-4a85-9aa2-d981b6115a34",
   "metadata": {},
   "outputs": [
    {
     "name": "stdout",
     "output_type": "stream",
     "text": [
      "11\n"
     ]
    }
   ],
   "source": [
    "name = \"Rakib Hasan\"\n",
    "length = len(name)\n",
    "print(length)"
   ]
  },
  {
   "cell_type": "markdown",
   "id": "7c83aeb0-35af-4d6c-9275-1d7c91a158f6",
   "metadata": {},
   "source": [
    "# 3. input(): Reads input from the user."
   ]
  },
  {
   "cell_type": "code",
   "execution_count": 4,
   "id": "59f765cf-eb9e-4264-b06c-a488ce2eaebe",
   "metadata": {},
   "outputs": [
    {
     "name": "stdin",
     "output_type": "stream",
     "text": [
      "Enter your name :  rakib\n"
     ]
    },
    {
     "name": "stdout",
     "output_type": "stream",
     "text": [
      "('My name is ', 'rakib')\n"
     ]
    }
   ],
   "source": [
    "name = input(\"Enter your name : \")\n",
    "result = (\"My name is \",name)\n",
    "print(result)"
   ]
  },
  {
   "cell_type": "code",
   "execution_count": 5,
   "id": "b9c72b48-c73a-4884-97ac-9f589e444c2c",
   "metadata": {},
   "outputs": [
    {
     "name": "stdin",
     "output_type": "stream",
     "text": [
      "Enter Name :  fahim\n"
     ]
    },
    {
     "name": "stdout",
     "output_type": "stream",
     "text": [
      "my name is fahim\n"
     ]
    }
   ],
   "source": [
    "nam = input(\"Enter Name : \")\n",
    "val = \"my name is\"\n",
    "print(val,nam)"
   ]
  },
  {
   "cell_type": "markdown",
   "id": "f1eea4b4-31b1-4969-b192-567311d0aa84",
   "metadata": {},
   "source": [
    "# 4. type(): Returns the type of an object."
   ]
  },
  {
   "cell_type": "code",
   "execution_count": 6,
   "id": "bdd92729-6a0a-44f2-ba82-06a76cfa66e5",
   "metadata": {},
   "outputs": [
    {
     "data": {
      "text/plain": [
       "int"
      ]
     },
     "execution_count": 6,
     "metadata": {},
     "output_type": "execute_result"
    }
   ],
   "source": [
    "x = 5\n",
    "type(x)"
   ]
  },
  {
   "cell_type": "code",
   "execution_count": 7,
   "id": "48e58345-b3f0-4a5d-a036-2d1d9d458784",
   "metadata": {},
   "outputs": [
    {
     "data": {
      "text/plain": [
       "float"
      ]
     },
     "execution_count": 7,
     "metadata": {},
     "output_type": "execute_result"
    }
   ],
   "source": [
    "y = 10.50\n",
    "type(y)"
   ]
  },
  {
   "cell_type": "markdown",
   "id": "66a32bc6-dc49-4dd5-954c-5e20b083e5bc",
   "metadata": {},
   "source": [
    "# 5. int(), float(), str(): Converts values to integers, floats, or strings."
   ]
  },
  {
   "cell_type": "code",
   "execution_count": 8,
   "id": "dcaf8723-d127-4bd5-bf4a-93083da8db69",
   "metadata": {},
   "outputs": [
    {
     "data": {
      "text/plain": [
       "int"
      ]
     },
     "execution_count": 8,
     "metadata": {},
     "output_type": "execute_result"
    }
   ],
   "source": [
    "#string to int\n",
    "num = '99'\n",
    "convert_num = int(num)\n",
    "type(convert_num)"
   ]
  },
  {
   "cell_type": "code",
   "execution_count": 9,
   "id": "ff300c21-a5cb-436b-8d4c-ed9d16d474c5",
   "metadata": {},
   "outputs": [
    {
     "data": {
      "text/plain": [
       "float"
      ]
     },
     "execution_count": 9,
     "metadata": {},
     "output_type": "execute_result"
    }
   ],
   "source": [
    "#int to float\n",
    "num1 = 99\n",
    "conv_float = float(num1)\n",
    "type(conv_float)"
   ]
  },
  {
   "cell_type": "code",
   "execution_count": 10,
   "id": "fd7e4114-f22d-4184-a8cc-62b71d1e2874",
   "metadata": {},
   "outputs": [
    {
     "data": {
      "text/plain": [
       "int"
      ]
     },
     "execution_count": 10,
     "metadata": {},
     "output_type": "execute_result"
    }
   ],
   "source": [
    "#float to int\n",
    "f = 99.99\n",
    "conv_int = int(f)\n",
    "type(conv_int)"
   ]
  },
  {
   "cell_type": "markdown",
   "id": "7a0f157a-07e3-4552-ab6a-6c8113cf86ea",
   "metadata": {},
   "source": [
    "# 6. range(): Generates a sequence of numbers."
   ]
  },
  {
   "cell_type": "code",
   "execution_count": 11,
   "id": "de23b9f8-7a03-488c-abb1-e8c5b95cc3e5",
   "metadata": {},
   "outputs": [
    {
     "name": "stdout",
     "output_type": "stream",
     "text": [
      "range(1, 10)\n"
     ]
    }
   ],
   "source": [
    "x = range(1,10)\n",
    "print(x)"
   ]
  },
  {
   "cell_type": "code",
   "execution_count": 12,
   "id": "2b3ff843-cb7e-4541-af0c-4ffe742f5c57",
   "metadata": {},
   "outputs": [
    {
     "name": "stdout",
     "output_type": "stream",
     "text": [
      "[1, 2, 3, 4, 5, 6, 7, 8, 9, 10]\n"
     ]
    }
   ],
   "source": [
    "numbers = list(range(1,11)) #1 to 11-1\n",
    "print(numbers)"
   ]
  },
  {
   "cell_type": "markdown",
   "id": "abb02355-8b9c-43df-82f9-ed949a51d364",
   "metadata": {},
   "source": [
    "# 7. sum(): Returns the sum of all elements in an iterable."
   ]
  },
  {
   "cell_type": "code",
   "execution_count": 13,
   "id": "9eea9917-7d9d-4805-85fa-2114cb8472cf",
   "metadata": {},
   "outputs": [
    {
     "name": "stdout",
     "output_type": "stream",
     "text": [
      "55\n"
     ]
    }
   ],
   "source": [
    "list1 = [1,2,3,4,5,6,7,8,9,10]\n",
    "fin = sum(list1) #sum(variable)\n",
    "print(fin)"
   ]
  },
  {
   "cell_type": "markdown",
   "id": "8093913b-2f52-4272-91c9-47491a5804f3",
   "metadata": {},
   "source": [
    "# 8. max(), min(): Returns the maximum or minimum value from an iterable."
   ]
  },
  {
   "cell_type": "code",
   "execution_count": 14,
   "id": "5f427f05-00e3-4799-afc9-73065e336f1f",
   "metadata": {},
   "outputs": [
    {
     "name": "stdout",
     "output_type": "stream",
     "text": [
      "3436\n"
     ]
    }
   ],
   "source": [
    "val_list = [132,3436,74,6,9,3,5,9,4,80,42]\n",
    "max_value = max(val_list)\n",
    "print(max_value)"
   ]
  },
  {
   "cell_type": "code",
   "execution_count": 15,
   "id": "75e6afaa-b631-4009-9e4a-4d1b63ad89cb",
   "metadata": {},
   "outputs": [
    {
     "name": "stdout",
     "output_type": "stream",
     "text": [
      "3\n"
     ]
    }
   ],
   "source": [
    "val_list = [132,3436,74,6,9,3,5,9,4,80,42]\n",
    "min_value = min(val_list)\n",
    "print(min_value)"
   ]
  },
  {
   "cell_type": "markdown",
   "id": "669b3202-295e-4f7c-b46b-5871568bb517",
   "metadata": {},
   "source": [
    "# 9. abs(): Returns the absolute value of a number."
   ]
  },
  {
   "cell_type": "code",
   "execution_count": 16,
   "id": "279ff4f4-34b8-4bca-a940-7251c6afb57e",
   "metadata": {},
   "outputs": [
    {
     "name": "stdout",
     "output_type": "stream",
     "text": [
      "10\n"
     ]
    }
   ],
   "source": [
    "ab = abs(-10)\n",
    "print(ab)"
   ]
  },
  {
   "cell_type": "code",
   "execution_count": 17,
   "id": "57f2bd5e-25ae-4f18-8e84-84cd03946513",
   "metadata": {},
   "outputs": [],
   "source": [
    "absolute_value = abs(-199) #negatuve value ke positive value return kore"
   ]
  },
  {
   "cell_type": "code",
   "execution_count": 18,
   "id": "c1253488-b33f-44c7-baa2-4fac5fbddc1e",
   "metadata": {},
   "outputs": [
    {
     "data": {
      "text/plain": [
       "199"
      ]
     },
     "execution_count": 18,
     "metadata": {},
     "output_type": "execute_result"
    }
   ],
   "source": [
    "absolute_value"
   ]
  },
  {
   "cell_type": "markdown",
   "id": "358bb50e-bbed-49e9-9b2e-51b457d2dbc3",
   "metadata": {},
   "source": [
    "# 10. round(): Rounds a floating-point number to a specified number of decimals."
   ]
  },
  {
   "cell_type": "code",
   "execution_count": 19,
   "id": "05a28184-5420-4c58-9fbb-3fb7d43d9df4",
   "metadata": {},
   "outputs": [
    {
     "name": "stdout",
     "output_type": "stream",
     "text": [
      "3.35\n"
     ]
    }
   ],
   "source": [
    "var = round(3.345644,2) #returns to 2 decimal places\n",
    "print(var)"
   ]
  },
  {
   "cell_type": "code",
   "execution_count": 20,
   "id": "b9e06a4f-4535-4d19-b60b-51fb5877c9c6",
   "metadata": {},
   "outputs": [],
   "source": [
    "round_value = round(3.14159,4) #round(value,koto round porjonto nibo)"
   ]
  },
  {
   "cell_type": "code",
   "execution_count": 21,
   "id": "3b277cc2-e9e2-46e1-9efd-0429f4d3b01e",
   "metadata": {},
   "outputs": [
    {
     "data": {
      "text/plain": [
       "3.1416"
      ]
     },
     "execution_count": 21,
     "metadata": {},
     "output_type": "execute_result"
    }
   ],
   "source": [
    "round_value"
   ]
  },
  {
   "cell_type": "markdown",
   "id": "217f78a4-e544-409e-9edf-d114ced1f64e",
   "metadata": {},
   "source": [
    "# 11. sorted(): Returns a new sorted list from the elements of an iterable."
   ]
  },
  {
   "cell_type": "code",
   "execution_count": 22,
   "id": "4c128901-3b3e-4d77-bce2-3521da3ebd2d",
   "metadata": {},
   "outputs": [
    {
     "name": "stdout",
     "output_type": "stream",
     "text": [
      "[3, 7, 32, 34, 72, 79, 368, 847]\n"
     ]
    }
   ],
   "source": [
    "list1 = [32,34,7,3,72,79,368,847]\n",
    "sorted_list = sorted(list1)\n",
    "print(sorted_list)"
   ]
  },
  {
   "cell_type": "markdown",
   "id": "92e9bfbc-4d58-4b4b-9732-e221f2fb3ce6",
   "metadata": {},
   "source": [
    "# 12. any(), all(): Returns True if any or all elements in an iterable are true."
   ]
  },
  {
   "cell_type": "code",
   "execution_count": 23,
   "id": "aabc9d34-241e-41a9-b389-91e90cf72653",
   "metadata": {},
   "outputs": [],
   "source": [
    "bool_list = [True,False,True,True,False]\n",
    "any_true = any(bool_list) #one True value thakle True return korbe\n",
    "all_ture = all(bool_list) #all value true hote hbe"
   ]
  },
  {
   "cell_type": "code",
   "execution_count": 24,
   "id": "b9ea6b18-c84c-4b8a-97eb-24e0167d63a9",
   "metadata": {},
   "outputs": [
    {
     "data": {
      "text/plain": [
       "True"
      ]
     },
     "execution_count": 24,
     "metadata": {},
     "output_type": "execute_result"
    }
   ],
   "source": [
    "any_true #true value ache tai true return korche"
   ]
  },
  {
   "cell_type": "code",
   "execution_count": 25,
   "id": "4ad880d7-caa8-40d9-a362-49f70b0396a8",
   "metadata": {},
   "outputs": [
    {
     "data": {
      "text/plain": [
       "False"
      ]
     },
     "execution_count": 25,
     "metadata": {},
     "output_type": "execute_result"
    }
   ],
   "source": [
    "all_ture #all value true nai tai false return korche"
   ]
  },
  {
   "cell_type": "markdown",
   "id": "fe3d6dff-ca04-40b3-bb90-ead5775ce798",
   "metadata": {},
   "source": [
    "# 13. str.join(): Joins elements of an iterable with a string as a separator."
   ]
  },
  {
   "cell_type": "code",
   "execution_count": 26,
   "id": "62d59244-2aae-46ca-ba70-1db6acffe8de",
   "metadata": {},
   "outputs": [],
   "source": [
    "my_list = [\"Banana\",\"Apple\",\"Orange\"]\n",
    "joined_str = \" , \".join(my_list)"
   ]
  },
  {
   "cell_type": "code",
   "execution_count": 27,
   "id": "c998cbc1-5fe7-4ed6-97bc-ebd32d01c3cd",
   "metadata": {},
   "outputs": [
    {
     "data": {
      "text/plain": [
       "'Banana , Apple , Orange'"
      ]
     },
     "execution_count": 27,
     "metadata": {},
     "output_type": "execute_result"
    }
   ],
   "source": [
    "joined_str"
   ]
  },
  {
   "cell_type": "markdown",
   "id": "5d2fa626-c695-4447-a189-dddab20b0cc6",
   "metadata": {},
   "source": [
    "# 14. str.lower(), str.upper(): Converts a string to lowercase or uppercase."
   ]
  },
  {
   "cell_type": "code",
   "execution_count": 40,
   "id": "0aabf3a7-3695-417d-bdf8-8d99650c7ae0",
   "metadata": {},
   "outputs": [],
   "source": [
    "my_string = \"Rakib, Hasan\"\n",
    "lower_case = my_string.lower()\n",
    "upper_case = my_string.upper()"
   ]
  },
  {
   "cell_type": "code",
   "execution_count": 41,
   "id": "36840813-25d5-405b-bd34-7e931fbe0724",
   "metadata": {},
   "outputs": [
    {
     "data": {
      "text/plain": [
       "'rakib, hasan'"
      ]
     },
     "execution_count": 41,
     "metadata": {},
     "output_type": "execute_result"
    }
   ],
   "source": [
    "lower_case"
   ]
  },
  {
   "cell_type": "code",
   "execution_count": 42,
   "id": "3919b59a-c586-42b6-af54-05d7dc0159e3",
   "metadata": {},
   "outputs": [
    {
     "data": {
      "text/plain": [
       "'RAKIB, HASAN'"
      ]
     },
     "execution_count": 42,
     "metadata": {},
     "output_type": "execute_result"
    }
   ],
   "source": [
    "upper_case"
   ]
  },
  {
   "cell_type": "markdown",
   "id": "19ef94cc-73a5-4cb9-a2da-edf3bd207b9a",
   "metadata": {},
   "source": [
    "# 15. list(), tuple(): Converts an iterable to a list or tuple."
   ]
  },
  {
   "cell_type": "code",
   "execution_count": 43,
   "id": "8a116201-8614-4e80-972a-74d047c95e8a",
   "metadata": {},
   "outputs": [],
   "source": [
    "my_tuple = (1,2,3,4,5,6) #tuple\n",
    "tuple_to_list = list(my_tuple) #convert to list"
   ]
  },
  {
   "cell_type": "code",
   "execution_count": 44,
   "id": "b83027a0-b399-4548-acc6-7db1671c2850",
   "metadata": {},
   "outputs": [
    {
     "data": {
      "text/plain": [
       "[1, 2, 3, 4, 5, 6]"
      ]
     },
     "execution_count": 44,
     "metadata": {},
     "output_type": "execute_result"
    }
   ],
   "source": [
    "tuple_to_list"
   ]
  },
  {
   "cell_type": "code",
   "execution_count": 45,
   "id": "c930398e-8c13-4f1c-8232-d98b149576ad",
   "metadata": {},
   "outputs": [
    {
     "data": {
      "text/plain": [
       "list"
      ]
     },
     "execution_count": 45,
     "metadata": {},
     "output_type": "execute_result"
    }
   ],
   "source": [
    "type(tuple_to_list)"
   ]
  },
  {
   "cell_type": "code",
   "execution_count": 46,
   "id": "44b7105d-2e2e-4d93-b4b2-8c4ca378b6c6",
   "metadata": {},
   "outputs": [
    {
     "data": {
      "text/plain": [
       "(1, 2, 3, 4, 5, 6)"
      ]
     },
     "execution_count": 46,
     "metadata": {},
     "output_type": "execute_result"
    }
   ],
   "source": [
    "tuple(tuple_to_list)"
   ]
  },
  {
   "cell_type": "markdown",
   "id": "b5105e05-24fb-4a7f-956b-d5f5ae3ef177",
   "metadata": {},
   "source": [
    "# 16. dict(): Creates a dictionary."
   ]
  },
  {
   "cell_type": "code",
   "execution_count": 48,
   "id": "c7736699-8242-4ced-92f5-896c27eeb113",
   "metadata": {},
   "outputs": [],
   "source": [
    "my_dict = dict(name = \"Rakib\", Age = 24)"
   ]
  },
  {
   "cell_type": "code",
   "execution_count": 49,
   "id": "f9c9e762-a0b6-4233-9431-abe36e65745e",
   "metadata": {},
   "outputs": [
    {
     "data": {
      "text/plain": [
       "{'name': 'Rakib', 'Age': 24}"
      ]
     },
     "execution_count": 49,
     "metadata": {},
     "output_type": "execute_result"
    }
   ],
   "source": [
    "my_dict"
   ]
  },
  {
   "cell_type": "code",
   "execution_count": 50,
   "id": "7e7363e7-e2a6-481d-9b4a-ee67b8b2049c",
   "metadata": {},
   "outputs": [
    {
     "data": {
      "text/plain": [
       "dict_keys(['name', 'Age'])"
      ]
     },
     "execution_count": 50,
     "metadata": {},
     "output_type": "execute_result"
    }
   ],
   "source": [
    "my_dict.keys()"
   ]
  },
  {
   "cell_type": "code",
   "execution_count": 51,
   "id": "b2b16e6b-c8e9-4c64-974c-2a38f45e125f",
   "metadata": {},
   "outputs": [
    {
     "data": {
      "text/plain": [
       "dict_values(['Rakib', 24])"
      ]
     },
     "execution_count": 51,
     "metadata": {},
     "output_type": "execute_result"
    }
   ],
   "source": [
    "my_dict.values()"
   ]
  },
  {
   "cell_type": "markdown",
   "id": "5231385d-fbef-4c15-bf4c-8a1bdba44d73",
   "metadata": {},
   "source": [
    "# 17. set(): Creates a set."
   ]
  },
  {
   "cell_type": "code",
   "execution_count": 52,
   "id": "c668e46c-7a31-475e-b54a-883f84cae2f8",
   "metadata": {},
   "outputs": [],
   "source": [
    "my_set = set([1,2,3,4,5])"
   ]
  },
  {
   "cell_type": "code",
   "execution_count": 53,
   "id": "f28c10a8-6c2a-4d56-8637-5c73a2a3679e",
   "metadata": {},
   "outputs": [
    {
     "data": {
      "text/plain": [
       "{1, 2, 3, 4, 5}"
      ]
     },
     "execution_count": 53,
     "metadata": {},
     "output_type": "execute_result"
    }
   ],
   "source": [
    "my_set"
   ]
  },
  {
   "cell_type": "code",
   "execution_count": 54,
   "id": "cc67aea7-c38d-465f-a8f7-78c301f01b94",
   "metadata": {},
   "outputs": [
    {
     "data": {
      "text/plain": [
       "set"
      ]
     },
     "execution_count": 54,
     "metadata": {},
     "output_type": "execute_result"
    }
   ],
   "source": [
    "type(my_set)"
   ]
  },
  {
   "cell_type": "markdown",
   "id": "9014551c-3f17-4ec7-85d6-6aeea8242edf",
   "metadata": {},
   "source": [
    "# 18. enumerate(): Returns tuples with the index and corresponding element."
   ]
  },
  {
   "cell_type": "code",
   "execution_count": 56,
   "id": "f3510c62-64bd-46e2-88a2-a65b3614fa06",
   "metadata": {},
   "outputs": [
    {
     "name": "stdout",
     "output_type": "stream",
     "text": [
      "0 a\n",
      "1 b\n",
      "2 c\n",
      "3 d\n"
     ]
    }
   ],
   "source": [
    "my_list = [\"a\",\"b\",\"c\",\"d\"]\n",
    "for index,value in enumerate(my_list):\n",
    "    print(index,value)"
   ]
  },
  {
   "cell_type": "markdown",
   "id": "867ee7e1-0ad8-4886-95d7-d9bc39b60cbc",
   "metadata": {},
   "source": [
    "# 19. zip(): Combines two or more iterables element-wise."
   ]
  },
  {
   "cell_type": "code",
   "execution_count": 57,
   "id": "77c0aee5-d835-44d3-b660-1919f1475bac",
   "metadata": {},
   "outputs": [
    {
     "name": "stdout",
     "output_type": "stream",
     "text": [
      "<zip object at 0x000002D894A75A40>\n"
     ]
    }
   ],
   "source": [
    "name = [\"Fahim\",\"Rakib\",\"Hasan\"]\n",
    "ages = [24,23,25]\n",
    "zipped = zip(name,ages)\n",
    "print(zipped)"
   ]
  },
  {
   "cell_type": "code",
   "execution_count": 58,
   "id": "8905b6d1-98d3-4ad1-8487-541f2e9ea55d",
   "metadata": {},
   "outputs": [
    {
     "data": {
      "text/plain": [
       "zip"
      ]
     },
     "execution_count": 58,
     "metadata": {},
     "output_type": "execute_result"
    }
   ],
   "source": [
    "type(zipped)"
   ]
  },
  {
   "cell_type": "markdown",
   "id": "0bfcb618-1926-4f8b-86ad-53f014cd4298",
   "metadata": {},
   "source": [
    "# 20. reversed(): Returns a reverse iterator of a sequence."
   ]
  },
  {
   "cell_type": "code",
   "execution_count": 59,
   "id": "8635cd33-6cb5-46ec-97f7-0dd1a6db1378",
   "metadata": {},
   "outputs": [],
   "source": [
    "list1 = [1,2,3,4,5,6,7,8,9]\n",
    "reverse_list = reversed(list1)"
   ]
  },
  {
   "cell_type": "code",
   "execution_count": 60,
   "id": "78eea9b9-cdfa-41b1-ab0d-3fe7ba237d55",
   "metadata": {},
   "outputs": [
    {
     "data": {
      "text/plain": [
       "<list_reverseiterator at 0x2d894a98f10>"
      ]
     },
     "execution_count": 60,
     "metadata": {},
     "output_type": "execute_result"
    }
   ],
   "source": [
    "reverse_list"
   ]
  },
  {
   "cell_type": "code",
   "execution_count": 61,
   "id": "e6965de4-bd05-4f9b-93ec-4fe2516832f6",
   "metadata": {},
   "outputs": [],
   "source": [
    "list1 = [1,2,3,4,5,6,7,8,9]\n",
    "reverse_list = list(reversed(list1))"
   ]
  },
  {
   "cell_type": "code",
   "execution_count": 62,
   "id": "ba7841b0-cb7b-4dde-b7b9-39986d191684",
   "metadata": {},
   "outputs": [
    {
     "data": {
      "text/plain": [
       "[9, 8, 7, 6, 5, 4, 3, 2, 1]"
      ]
     },
     "execution_count": 62,
     "metadata": {},
     "output_type": "execute_result"
    }
   ],
   "source": [
    "reverse_list"
   ]
  },
  {
   "cell_type": "markdown",
   "id": "6a742b9f-57bd-4e80-8348-13433c55cfea",
   "metadata": {},
   "source": [
    "# 21. sum() (with start argument): Returns the sum of an iterable with an optional starting value."
   ]
  },
  {
   "cell_type": "code",
   "execution_count": 63,
   "id": "b621b022-303f-4a4d-8dd4-c1993e433325",
   "metadata": {},
   "outputs": [],
   "source": [
    "numbers = [1,2,3,4,5,6,7,8,9]\n",
    "total = sum(numbers,100) #sum(numbers,start)"
   ]
  },
  {
   "cell_type": "code",
   "execution_count": 64,
   "id": "2f9ad0f4-646c-4a07-a2c2-95db19b4d03b",
   "metadata": {},
   "outputs": [
    {
     "data": {
      "text/plain": [
       "145"
      ]
     },
     "execution_count": 64,
     "metadata": {},
     "output_type": "execute_result"
    }
   ],
   "source": [
    "total"
   ]
  },
  {
   "cell_type": "markdown",
   "id": "a1e007e4-fd50-4b12-92e5-97917512153c",
   "metadata": {},
   "source": [
    "# 22. abs() (for complex numbers): Returns the magnitude of a complex number."
   ]
  },
  {
   "cell_type": "markdown",
   "id": "1e1c84dd-ca13-4217-8ccd-16a25799a85a",
   "metadata": {},
   "source": [
    "The magnitude of a complex number is the distance from the origin (0,0) to the point representing the complex number in the complex plane. For a complex number (a + bi), where (a) is the real part and (b) is the imaginary part, the magnitude (or modulus) is given by the formula:\n",
    "\n",
    "[ |a + bi| = \\sqrt{a^2 + b^2} ]\n",
    "\n",
    "In other words, it's the square root of the sum of the squares of the real and imaginary parts. This magnitude represents the length of the vector in the complex plane."
   ]
  },
  {
   "cell_type": "code",
   "execution_count": 65,
   "id": "f380fdc2-b033-4037-9ec3-6f879b95396b",
   "metadata": {},
   "outputs": [],
   "source": [
    "complex_num = 3 + 4j\n",
    "magnitude = abs(complex_num)"
   ]
  },
  {
   "cell_type": "code",
   "execution_count": 66,
   "id": "bd233ccf-2663-4432-b978-14be9cd0b8ca",
   "metadata": {},
   "outputs": [
    {
     "data": {
      "text/plain": [
       "5.0"
      ]
     },
     "execution_count": 66,
     "metadata": {},
     "output_type": "execute_result"
    }
   ],
   "source": [
    "magnitude"
   ]
  },
  {
   "cell_type": "markdown",
   "id": "939a3af1-fe2e-49f3-841e-1ef0cfc3a3fe",
   "metadata": {},
   "source": [
    "# 23. slice(): Creates a slice object that can be used to slice sequences like lists and strings."
   ]
  },
  {
   "cell_type": "code",
   "execution_count": 67,
   "id": "950175ae-82f6-42e8-9cad-7352b1ac7a7e",
   "metadata": {},
   "outputs": [],
   "source": [
    "my_list = [1,2,3,4,5,6,7,8,9]\n",
    "my_slice = slice(1,4)\n",
    "sliced_list = my_list[my_slice]"
   ]
  },
  {
   "cell_type": "code",
   "execution_count": 68,
   "id": "982278c2-de19-45f1-b4c4-5b91ae9422e6",
   "metadata": {},
   "outputs": [
    {
     "data": {
      "text/plain": [
       "[2, 3, 4]"
      ]
     },
     "execution_count": 68,
     "metadata": {},
     "output_type": "execute_result"
    }
   ],
   "source": [
    "sliced_list"
   ]
  },
  {
   "cell_type": "markdown",
   "id": "fc296245-e427-4177-ae1a-4170b3cc6e65",
   "metadata": {},
   "source": [
    "# 24. chr(), ord() (extended usage): Handling Unicode characters and code points."
   ]
  },
  {
   "cell_type": "code",
   "execution_count": 69,
   "id": "f8de1d08-400e-4a1f-8400-a7b0637dc135",
   "metadata": {},
   "outputs": [],
   "source": [
    "euro_symbol = chr(8364)"
   ]
  },
  {
   "cell_type": "code",
   "execution_count": 70,
   "id": "614c657f-7da7-44c5-8745-83e43dad90a2",
   "metadata": {},
   "outputs": [
    {
     "data": {
      "text/plain": [
       "'€'"
      ]
     },
     "execution_count": 70,
     "metadata": {},
     "output_type": "execute_result"
    }
   ],
   "source": [
    "euro_symbol"
   ]
  },
  {
   "cell_type": "code",
   "execution_count": null,
   "id": "256e3b0b-c156-4904-b9f2-9d48f5bef5a6",
   "metadata": {},
   "outputs": [],
   "source": []
  }
 ],
 "metadata": {
  "kernelspec": {
   "display_name": "Python 3 (ipykernel)",
   "language": "python",
   "name": "python3"
  },
  "language_info": {
   "codemirror_mode": {
    "name": "ipython",
    "version": 3
   },
   "file_extension": ".py",
   "mimetype": "text/x-python",
   "name": "python",
   "nbconvert_exporter": "python",
   "pygments_lexer": "ipython3",
   "version": "3.12.7"
  }
 },
 "nbformat": 4,
 "nbformat_minor": 5
}
