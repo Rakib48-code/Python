{
 "cells": [
  {
   "cell_type": "code",
   "execution_count": 1,
   "id": "1b915a2c-9228-4d81-aa98-adc93a4d54e1",
   "metadata": {},
   "outputs": [],
   "source": [
    "def mulp1():\n",
    "    x = int(input(\"x = \"))\n",
    "    y = int(input(\"y = \"))\n",
    "    result = x*y\n",
    "    print(\"Result = \",result)\n",
    "\n",
    "def mulp2():\n",
    "    total = mulp1()\n",
    "    z = int(input(\"z = \"))\n",
    "    final_result = total * z\n",
    "    print(\"Final = \",final_result)"
   ]
  },
  {
   "cell_type": "code",
   "execution_count": 2,
   "id": "c4f3d407-f3fb-41e2-a6dd-415605749e27",
   "metadata": {},
   "outputs": [
    {
     "name": "stdin",
     "output_type": "stream",
     "text": [
      "x =  6\n",
      "y =  7\n"
     ]
    },
    {
     "name": "stdout",
     "output_type": "stream",
     "text": [
      "Result =  42\n"
     ]
    }
   ],
   "source": [
    "mulp1()"
   ]
  },
  {
   "cell_type": "code",
   "execution_count": 3,
   "id": "d02ad2cf-cfd9-4d36-b52f-9adbc85e3197",
   "metadata": {},
   "outputs": [
    {
     "name": "stdin",
     "output_type": "stream",
     "text": [
      "x =  4\n",
      "y =  5\n"
     ]
    },
    {
     "name": "stdout",
     "output_type": "stream",
     "text": [
      "Result =  20\n"
     ]
    },
    {
     "name": "stdin",
     "output_type": "stream",
     "text": [
      "z =  10\n"
     ]
    },
    {
     "ename": "TypeError",
     "evalue": "unsupported operand type(s) for *: 'NoneType' and 'int'",
     "output_type": "error",
     "traceback": [
      "\u001b[1;31m---------------------------------------------------------------------------\u001b[0m",
      "\u001b[1;31mTypeError\u001b[0m                                 Traceback (most recent call last)",
      "Cell \u001b[1;32mIn[3], line 1\u001b[0m\n\u001b[1;32m----> 1\u001b[0m \u001b[43mmulp2\u001b[49m\u001b[43m(\u001b[49m\u001b[43m)\u001b[49m\n",
      "Cell \u001b[1;32mIn[1], line 10\u001b[0m, in \u001b[0;36mmulp2\u001b[1;34m()\u001b[0m\n\u001b[0;32m      8\u001b[0m total \u001b[38;5;241m=\u001b[39m mulp1()\n\u001b[0;32m      9\u001b[0m z \u001b[38;5;241m=\u001b[39m \u001b[38;5;28mint\u001b[39m(\u001b[38;5;28minput\u001b[39m(\u001b[38;5;124m\"\u001b[39m\u001b[38;5;124mz = \u001b[39m\u001b[38;5;124m\"\u001b[39m))\n\u001b[1;32m---> 10\u001b[0m final_result \u001b[38;5;241m=\u001b[39m \u001b[43mtotal\u001b[49m\u001b[43m \u001b[49m\u001b[38;5;241;43m*\u001b[39;49m\u001b[43m \u001b[49m\u001b[43mz\u001b[49m\n\u001b[0;32m     11\u001b[0m \u001b[38;5;28mprint\u001b[39m(\u001b[38;5;124m\"\u001b[39m\u001b[38;5;124mFinal = \u001b[39m\u001b[38;5;124m\"\u001b[39m,final_result)\n",
      "\u001b[1;31mTypeError\u001b[0m: unsupported operand type(s) for *: 'NoneType' and 'int'"
     ]
    }
   ],
   "source": [
    "mulp2()"
   ]
  },
  {
   "cell_type": "code",
   "execution_count": 4,
   "id": "2468ab9c-8ec7-42f2-9c1e-d6da5c6b20c2",
   "metadata": {},
   "outputs": [],
   "source": [
    "def mulp1():\n",
    "    x = int(input(\"x = \"))\n",
    "    y = int(input(\"y = \"))\n",
    "    result = x*y\n",
    "    print(\"Result = \",result)\n",
    "    return result\n",
    "\n",
    "def mulp2():\n",
    "    total = mulp1() #call first function\n",
    "    z = int(input(\"z = \"))\n",
    "    final_result = total * z\n",
    "    print(\"Final = \",final_result)"
   ]
  },
  {
   "cell_type": "code",
   "execution_count": 5,
   "id": "2ece2c23-7067-4770-a454-e9b4532c7576",
   "metadata": {},
   "outputs": [
    {
     "name": "stdin",
     "output_type": "stream",
     "text": [
      "x =  4\n",
      "y =  5\n"
     ]
    },
    {
     "name": "stdout",
     "output_type": "stream",
     "text": [
      "Result =  20\n"
     ]
    },
    {
     "name": "stdin",
     "output_type": "stream",
     "text": [
      "z =  20\n"
     ]
    },
    {
     "name": "stdout",
     "output_type": "stream",
     "text": [
      "Final =  400\n"
     ]
    }
   ],
   "source": [
    "mulp2()"
   ]
  },
  {
   "cell_type": "code",
   "execution_count": null,
   "id": "c9df0ac4-1445-4d3b-8ae2-585ab30c4c23",
   "metadata": {},
   "outputs": [],
   "source": []
  }
 ],
 "metadata": {
  "kernelspec": {
   "display_name": "Python 3 (ipykernel)",
   "language": "python",
   "name": "python3"
  },
  "language_info": {
   "codemirror_mode": {
    "name": "ipython",
    "version": 3
   },
   "file_extension": ".py",
   "mimetype": "text/x-python",
   "name": "python",
   "nbconvert_exporter": "python",
   "pygments_lexer": "ipython3",
   "version": "3.12.7"
  }
 },
 "nbformat": 4,
 "nbformat_minor": 5
}
