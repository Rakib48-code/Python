{
 "cells": [
  {
   "cell_type": "markdown",
   "id": "b67d36db-078c-4f31-9f64-8fd64afe3bf9",
   "metadata": {},
   "source": [
    "# PDF Reader"
   ]
  },
  {
   "cell_type": "code",
   "execution_count": 1,
   "id": "a6e99531-1f31-47af-b86b-f9abc2c0a83c",
   "metadata": {},
   "outputs": [],
   "source": [
    "# !pip install pypdf"
   ]
  },
  {
   "cell_type": "code",
   "execution_count": 2,
   "id": "3559198a-6702-4a97-a3e5-5848088215dc",
   "metadata": {},
   "outputs": [
    {
     "name": "stdout",
     "output_type": "stream",
     "text": [
      "Defaulting to user installation because normal site-packages is not writeable\n",
      "Collecting pypdf\n",
      "  Downloading pypdf-5.1.0-py3-none-any.whl.metadata (7.2 kB)\n",
      "Downloading pypdf-5.1.0-py3-none-any.whl (297 kB)\n",
      "Installing collected packages: pypdf\n",
      "Successfully installed pypdf-5.1.0\n"
     ]
    }
   ],
   "source": [
    "!pip install pypdf"
   ]
  },
  {
   "cell_type": "code",
   "execution_count": 3,
   "id": "2962ba14-6860-476b-9820-700b1428c147",
   "metadata": {},
   "outputs": [],
   "source": [
    "from pypdf import PdfReader\n",
    "pdf = PdfReader(\"py.pdf\")"
   ]
  },
  {
   "cell_type": "code",
   "execution_count": 4,
   "id": "bd18515f-bfd5-4dbe-8695-0183534fdd81",
   "metadata": {},
   "outputs": [
    {
     "data": {
      "text/plain": [
       "4"
      ]
     },
     "execution_count": 4,
     "metadata": {},
     "output_type": "execute_result"
    }
   ],
   "source": [
    "len(pdf.pages)"
   ]
  },
  {
   "cell_type": "code",
   "execution_count": 5,
   "id": "01c307e1-caaf-46b2-8764-b3c96d9fb69d",
   "metadata": {},
   "outputs": [
    {
     "data": {
      "text/plain": [
       "'Lorem ipsum \\nLorem ipsum dolor sit amet, consectetur adipiscing \\nelit. Nunc ac faucibus odio. \\nVestibulum neque massa, scelerisque sit amet ligula eu, congue molestie mi. Praesent ut\\nvarius sem. Nullam at porttitor arcu, nec lacinia nisi. Ut ac dolor vitae odio interdum\\ncondimentum.  Vivamus  dapibus  sodales  ex,  vitae  malesuada  ipsum  cursus\\nconvallis. Maecenas sed egestas nulla, ac condimentum orci.  Mauris diam felis,\\nvulputate ac suscipit et, iaculis non est. Curabitur semper arcu ac ligula semper, nec luctus\\nnisl blandit. Integer lacinia ante ac libero lobortis imperdiet. Nullam mollis convallis ipsum,\\nac accumsan nunc vehicula vitae. Nulla eget justo in felis tristique fringilla. Morbi sit amet\\ntortor quis risus auctor condimentum. Morbi in ullamcorper elit. Nulla iaculis tellus sit amet\\nmauris tempus fringilla.\\nMaecenas mauris lectus, lobortis et purus mattis, blandit dictum tellus.\\n\\uf0b7 Maecenas non lorem quis tellus placerat varius. \\n\\uf0b7 Nulla facilisi. \\n\\uf0b7 Aenean congue fringilla justo ut aliquam. \\n\\uf0b7 Mauris id ex erat. Nunc vulputate neque vitae justo facilisis, non condimentum ante\\nsagittis. \\n\\uf0b7 Morbi viverra semper lorem nec molestie. \\n\\uf0b7 Maecenas tincidunt est efficitur ligula euismod, sit amet ornare est vulputate.\\nRow 1 Row 2 Row 3 Row 4\\n0\\n2\\n4\\n6\\n8\\n10\\n12\\nColumn 1\\nColumn 2\\nColumn 3'"
      ]
     },
     "execution_count": 5,
     "metadata": {},
     "output_type": "execute_result"
    }
   ],
   "source": [
    "page = pdf.pages[0]\n",
    "page.extract_text() #1st page all text chole asbe"
   ]
  },
  {
   "cell_type": "code",
   "execution_count": 6,
   "id": "4ed0bc2c-8891-451e-bcc2-d54c956e529d",
   "metadata": {},
   "outputs": [
    {
     "ename": "ModuleNotFoundError",
     "evalue": "No module named 'pyPDF2'",
     "output_type": "error",
     "traceback": [
      "\u001b[1;31m---------------------------------------------------------------------------\u001b[0m",
      "\u001b[1;31mModuleNotFoundError\u001b[0m                       Traceback (most recent call last)",
      "Cell \u001b[1;32mIn[6], line 1\u001b[0m\n\u001b[1;32m----> 1\u001b[0m \u001b[38;5;28;01mimport\u001b[39;00m \u001b[38;5;21;01mpyPDF2\u001b[39;00m\n",
      "\u001b[1;31mModuleNotFoundError\u001b[0m: No module named 'pyPDF2'"
     ]
    }
   ],
   "source": [
    "import pyPDF2"
   ]
  },
  {
   "cell_type": "code",
   "execution_count": 7,
   "id": "9482ac80-ac49-47b4-b152-6f0eccf2ec3f",
   "metadata": {},
   "outputs": [
    {
     "ename": "ModuleNotFoundError",
     "evalue": "No module named 'PyPDF2'",
     "output_type": "error",
     "traceback": [
      "\u001b[1;31m---------------------------------------------------------------------------\u001b[0m",
      "\u001b[1;31mModuleNotFoundError\u001b[0m                       Traceback (most recent call last)",
      "Cell \u001b[1;32mIn[7], line 1\u001b[0m\n\u001b[1;32m----> 1\u001b[0m \u001b[38;5;28;01mimport\u001b[39;00m \u001b[38;5;21;01mPyPDF2\u001b[39;00m\n",
      "\u001b[1;31mModuleNotFoundError\u001b[0m: No module named 'PyPDF2'"
     ]
    }
   ],
   "source": [
    "import PyPDF2"
   ]
  },
  {
   "cell_type": "code",
   "execution_count": 8,
   "id": "22f8a685-6616-4cba-af24-ed6209f66bcf",
   "metadata": {},
   "outputs": [
    {
     "name": "stdout",
     "output_type": "stream",
     "text": [
      "Defaulting to user installation because normal site-packages is not writeable\n",
      "Collecting PyPDF2\n",
      "  Downloading pypdf2-3.0.1-py3-none-any.whl.metadata (6.8 kB)\n",
      "Downloading pypdf2-3.0.1-py3-none-any.whl (232 kB)\n",
      "Installing collected packages: PyPDF2\n",
      "Successfully installed PyPDF2-3.0.1\n"
     ]
    }
   ],
   "source": [
    "!pip install PyPDF2"
   ]
  },
  {
   "cell_type": "code",
   "execution_count": 9,
   "id": "87aa3def-88e6-49fa-9d19-9e4836e1f008",
   "metadata": {},
   "outputs": [],
   "source": [
    "import PyPDF2"
   ]
  },
  {
   "cell_type": "code",
   "execution_count": 11,
   "id": "8b815534-568a-40b4-b1ab-894cf1a8150d",
   "metadata": {},
   "outputs": [
    {
     "name": "stdout",
     "output_type": "stream",
     "text": [
      "Lorem ipsum \n",
      "Lorem ipsum dolor sit amet, consectetur adipiscing \n",
      "elit. Nunc ac faucibus odio. \n",
      "Vestibulum neque massa, scelerisque sit amet ligula eu, congue molestie mi. Praesent ut\n",
      "varius sem. Nullam at porttitor arcu, nec lacinia nisi. Ut ac dolor vitae odio interdum\n",
      "condimentum.  Vivamus  dapibus  sodales  ex,  vitae  malesuada  ipsum  cursus\n",
      "convallis. Maecenas sed egestas nulla, ac condimentum orci.  Mauris diam felis,\n",
      "vulputate ac suscipit et, iaculis non est. Curabitur semper arcu ac ligula semper, nec luctus\n",
      "nisl blandit. Integer lacinia ante ac libero lobortis imperdiet. Nullam mollis convallis ipsum,\n",
      "ac accumsan nunc vehicula vitae. Nulla eget justo in felis tristique fringilla. Morbi sit amet\n",
      "tortor quis risus auctor condimentum. Morbi in ullamcorper elit. Nulla iaculis tellus sit amet\n",
      "mauris tempus fringilla.\n",
      "Maecenas mauris lectus, lobortis et purus mattis, blandit dictum tellus.\n",
      "Maecenas non lorem quis tellus placerat varius. \n",
      "Nulla facilisi. \n",
      "Aenean congue fringilla justo ut aliquam. \n",
      "Mauris id ex erat. Nunc vulputate neque vitae justo facilisis, non condimentum ante\n",
      "sagittis. \n",
      "Morbi viverra semper lorem nec molestie. \n",
      "Maecenas tincidunt est efficitur ligula euismod, sit amet ornare est vulputate.\n",
      "Row 1Row 2Row 3Row 4024681012\n",
      "Column 1\n",
      "Column 2\n",
      "Column 3\n",
      "\n",
      "\n",
      "In non mauris justo. Duis vehicula mi vel mi pretium, a viverra erat efficitur. Cras aliquam\n",
      "est ac eros varius, id iaculis dui auctor. Duis pretium neque ligula, et pulvinar mi placerat\n",
      "et. Nulla nec nunc sit amet nunc posuere vestibulum. Ut id neque eget tortor mattis\n",
      "tristique. Donec ante est, blandit sit amet tristique vel, lacinia pulvinar arcu. Pellentesque\n",
      "scelerisque fermentum erat, id posuere justo pulvinar ut. Cras id eros sed enim aliquam\n",
      "lobortis. Sed lobortis nisl ut eros efficitur tincidunt. Cras justo mi, porttitor quis mattis vel,\n",
      "ultricies ut purus. Ut facilisis et lacus eu cursus.\n",
      "In eleifend velit vitae libero sollicitudin euismod. Fusce vitae vestibulum velit. Pellentesque\n",
      "vulputate lectus quis pellentesque commodo. Aliquam erat volutpat. Vestibulum in egestas\n",
      "velit. Pellentesque fermentum nisl vitae fringilla venenatis. Etiam id mauris vitae orci\n",
      "maximus ultricies. \n",
      "Cras fringilla ipsum magna, in fringilla dui commodo \n",
      "a.\n",
      "Lorem ipsum Lorem ipsum Lorem ipsum\n",
      "1 In eleifend velit vitae libero sollicitudin euismod. Lorem\n",
      "2 Cras fringilla ipsum magna, in fringilla dui commodo\n",
      "a.Ipsum\n",
      "3 Aliquam erat volutpat. Lorem\n",
      "4 Fusce vitae vestibulum velit. Lorem\n",
      "5 Etiam vehicula luctus fermentum. Ipsum\n",
      "Etiam vehicula luctus fermentum. In vel metus congue, pulvinar lectus vel, fermentum dui.\n",
      "Maecenas ante orci, egestas ut aliquet sit amet, sagittis a magna. Aliquam ante quam,\n",
      "pellentesque ut dignissim quis, laoreet eget est. Aliquam erat volutpat. Class aptent taciti\n",
      "sociosqu ad litora torquent per conubia nostra, per inceptos himenaeos. Ut ullamcorper\n",
      "justo sapien, in cursus libero viverra eget. Vivamus auctor imperdiet urna, at pulvinar leo\n",
      "posuere laoreet. Suspendisse neque nisl, fringilla at iaculis scelerisque, ornare vel dolor. Ut\n",
      "et  pulvinar  nunc.  Pellentesque  fringilla  mollis  efficitur.  Nullam  venenatis  commodo\n",
      "imperdiet. Morbi velit neque, semper quis lorem quis, efficitur dignissim ipsum. Ut ac lorem\n",
      "sed turpis imperdiet eleifend sit amet id sapien.\n",
      "\n",
      "\n",
      "Lorem ipsum dolor sit amet, consectetur adipiscing \n",
      "elit. \n",
      "Nunc ac faucibus odio. Vestibulum neque massa, scelerisque sit amet ligula eu, congue\n",
      "molestie mi. Praesent ut varius sem. Nullam at porttitor arcu, nec lacinia nisi. Ut ac dolor\n",
      "vitae odio interdum condimentum. Vivamus dapibus sodales ex, vitae malesuada ipsum\n",
      "cursus convallis. Maecenas sed egestas nulla, ac condimentum orci. Mauris diam felis,\n",
      "vulputate ac suscipit et, iaculis non est. Curabitur semper arcu ac ligula semper, nec luctus\n",
      "nisl blandit. Integer lacinia ante ac libero lobortis imperdiet. Nullam mollis convallis ipsum,\n",
      "ac accumsan nunc vehicula vitae. Nulla eget justo in felis tristique fringilla. Morbi sit amet\n",
      "tortor quis risus auctor condimentum. Morbi in ullamcorper elit. Nulla iaculis tellus sit amet\n",
      "mauris tempus fringilla.\n",
      "Maecenas mauris lectus, lobortis et purus mattis, blandit \n",
      "dictum tellus. \n",
      "Maecenas non lorem quis tellus placerat varius. Nulla facilisi. Aenean congue fringilla justo\n",
      "ut aliquam. Mauris id ex erat. Nunc vulputate neque vitae justo facilisis, non condimentum\n",
      "ante sagittis. Morbi viverra semper lorem nec molestie. Maecenas tincidunt est efficitur\n",
      "ligula euismod, sit amet ornare est vulputate.\n",
      "In non mauris justo. Duis vehicula mi vel mi pretium, a viverra erat efficitur. Cras aliquam\n",
      "est ac eros varius, id iaculis dui auctor. Duis pretium neque ligula, et pulvinar mi placerat\n",
      "et. Nulla nec nunc sit amet nunc posuere vestibulum. Ut id neque eget tortor mattis\n",
      "tristique. Donec ante est, blandit sit amet tristique vel, lacinia pulvinar arcu. Pellentesque\n",
      "scelerisque fermentum erat, id posuere justo pulvinar ut. Cras id eros sed enim aliquam\n",
      "lobortis. Sed lobortis nisl ut eros efficitur tincidunt. Cras justo mi, porttitor quis mattis vel,\n",
      "ultricies ut purus. Ut facilisis et lacus eu cursus.\n",
      "In eleifend velit vitae libero sollicitudin euismod. \n",
      "Fusce vitae vestibulum velit. Pellentesque vulputate lectus quis pellentesque commodo.\n",
      "Aliquam erat volutpat. Vestibulum in egestas velit. Pellentesque fermentum nisl vitae\n",
      "fringilla  venenatis.  Etiam  id  mauris  vitae  orci  maximus  ultricies.  Cras  fringilla  ipsum\n",
      "magna, in fringilla dui commodo a.\n",
      "Etiam vehicula luctus fermentum. In vel metus congue, pulvinar lectus vel, fermentum dui.\n",
      "Maecenas ante orci, egestas ut aliquet sit amet, sagittis a magna. Aliquam ante quam,\n",
      "pellentesque ut dignissim quis, laoreet eget est. Aliquam erat volutpat. Class aptent taciti\n",
      "sociosqu ad litora torquent per conubia nostra, per inceptos himenaeos. Ut ullamcorper\n",
      "justo sapien, in cursus libero viverra eget. Vivamus auctor imperdiet urna, at pulvinar leo\n",
      "posuere laoreet. Suspendisse neque nisl, fringilla at iaculis scelerisque, ornare vel dolor. Ut\n",
      "et  pulvinar  nunc.  Pellentesque  fringilla  mollis  efficitur.  Nullam  venenatis  commodo\n",
      "imperdiet. Morbi velit neque, semper quis lorem quis, efficitur dignissim ipsum. Ut ac lorem\n",
      "sed turpis imperdiet eleifend sit amet id sapien.\n",
      "\n",
      "\n",
      "\n",
      "\n",
      "\n"
     ]
    }
   ],
   "source": [
    "path = \"py.pdf\"\n",
    "with open(path, \"rb\") as file:\n",
    "    reader = PyPDF2.PdfReader(file)\n",
    "    for page in reader.pages:\n",
    "        text = page.extract_text()\n",
    "        print(text)\n",
    "        print('\\n')"
   ]
  },
  {
   "cell_type": "code",
   "execution_count": null,
   "id": "0dd819ff-e071-4c37-9eab-45b4de6e320d",
   "metadata": {},
   "outputs": [],
   "source": []
  }
 ],
 "metadata": {
  "kernelspec": {
   "display_name": "Python 3 (ipykernel)",
   "language": "python",
   "name": "python3"
  },
  "language_info": {
   "codemirror_mode": {
    "name": "ipython",
    "version": 3
   },
   "file_extension": ".py",
   "mimetype": "text/x-python",
   "name": "python",
   "nbconvert_exporter": "python",
   "pygments_lexer": "ipython3",
   "version": "3.12.7"
  }
 },
 "nbformat": 4,
 "nbformat_minor": 5
}
