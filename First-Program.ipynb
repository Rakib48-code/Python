{
 "cells": [
  {
   "cell_type": "code",
   "execution_count": 1,
   "id": "c1bfed77-9a81-431e-8c01-00f645b956f8",
   "metadata": {},
   "outputs": [
    {
     "name": "stdout",
     "output_type": "stream",
     "text": [
      "Hello World!\n"
     ]
    }
   ],
   "source": [
    "print(\"Hello World!\") #shift+enter"
   ]
  },
  {
   "cell_type": "code",
   "execution_count": 2,
   "id": "df4e9b30-6dbe-46dc-a7c5-4995b687e36f",
   "metadata": {},
   "outputs": [
    {
     "name": "stdout",
     "output_type": "stream",
     "text": [
      "1 2 3 4 Rakib [10, 20] (100, 200, 'python') True {600, 500} 50.59\n"
     ]
    }
   ],
   "source": [
    "print(1,2,3,4,\"Rakib\",[10,20],(100,200,\"python\"),True,{500,600},50.59)"
   ]
  },
  {
   "cell_type": "code",
   "execution_count": 3,
   "id": "9b3138f5-f8e6-4416-99a5-3a2ccfc50e7f",
   "metadata": {},
   "outputs": [
    {
     "name": "stdout",
     "output_type": "stream",
     "text": [
      "Hello World & Welcome to Rakib python course\n"
     ]
    }
   ],
   "source": [
    "print(\"Hello World\", \"Welcome to Rakib python course\", sep = \" & \")"
   ]
  },
  {
   "cell_type": "code",
   "execution_count": 4,
   "id": "ff8f8cad-197e-44f7-880a-ba642697ca44",
   "metadata": {},
   "outputs": [
    {
     "name": "stdout",
     "output_type": "stream",
     "text": [
      "Hello World & Welcome to Rakib python course!"
     ]
    }
   ],
   "source": [
    "print(\"Hello World\", \"Welcome to Rakib python course\", sep = \" & \", end = \"!\")"
   ]
  },
  {
   "cell_type": "code",
   "execution_count": null,
   "id": "6a2b1bf8-64e2-49e3-9f18-83c3d306092b",
   "metadata": {},
   "outputs": [],
   "source": []
  }
 ],
 "metadata": {
  "kernelspec": {
   "display_name": "Python 3 (ipykernel)",
   "language": "python",
   "name": "python3"
  },
  "language_info": {
   "codemirror_mode": {
    "name": "ipython",
    "version": 3
   },
   "file_extension": ".py",
   "mimetype": "text/x-python",
   "name": "python",
   "nbconvert_exporter": "python",
   "pygments_lexer": "ipython3",
   "version": "3.12.7"
  }
 },
 "nbformat": 4,
 "nbformat_minor": 5
}
