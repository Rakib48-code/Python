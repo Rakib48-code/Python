{
 "cells": [
  {
   "cell_type": "markdown",
   "id": "9bb7fd02-2579-4279-a65c-04707f81bef0",
   "metadata": {},
   "source": [
    "# Variables and I/O"
   ]
  },
  {
   "cell_type": "code",
   "execution_count": 1,
   "id": "f6709340-ed9c-46c7-baf7-c364130bbdb0",
   "metadata": {},
   "outputs": [
    {
     "name": "stdout",
     "output_type": "stream",
     "text": [
      "Hello World\n"
     ]
    }
   ],
   "source": [
    "var = \"Hello World\"\n",
    "print(var)"
   ]
  },
  {
   "cell_type": "code",
   "execution_count": 2,
   "id": "6381dca2-7f95-4263-9b22-7ead2c412fbd",
   "metadata": {},
   "outputs": [
    {
     "name": "stdout",
     "output_type": "stream",
     "text": [
      "var\n"
     ]
    }
   ],
   "source": [
    "var = \"Hello World\"\n",
    "print(\"var\")"
   ]
  },
  {
   "cell_type": "code",
   "execution_count": 3,
   "id": "ec052765-8b6b-4670-8bfc-6936299d89f5",
   "metadata": {},
   "outputs": [
    {
     "name": "stdout",
     "output_type": "stream",
     "text": [
      "Hello World\n",
      "My sentence is Hello World\n"
     ]
    }
   ],
   "source": [
    "var = \"Hello World\"\n",
    "print(var)\n",
    "\n",
    "print(\"My sentence is \"+var)"
   ]
  },
  {
   "cell_type": "code",
   "execution_count": 4,
   "id": "b5c87bb3-2fc3-4cd7-b511-86564dc7bae3",
   "metadata": {},
   "outputs": [
    {
     "data": {
      "text/plain": [
       "2725941180080"
      ]
     },
     "execution_count": 4,
     "metadata": {},
     "output_type": "execute_result"
    }
   ],
   "source": [
    "id(var)"
   ]
  },
  {
   "cell_type": "code",
   "execution_count": 5,
   "id": "ecfba515-9fe3-41bd-b5e6-fa83c273317a",
   "metadata": {},
   "outputs": [
    {
     "data": {
      "text/plain": [
       "52"
      ]
     },
     "execution_count": 5,
     "metadata": {},
     "output_type": "execute_result"
    }
   ],
   "source": [
    "import sys\n",
    "sys.getsizeof(var)"
   ]
  },
  {
   "cell_type": "code",
   "execution_count": 6,
   "id": "c8185d5f-2add-41a4-9476-64e0d1c7a78e",
   "metadata": {},
   "outputs": [],
   "source": [
    "x = 100"
   ]
  },
  {
   "cell_type": "code",
   "execution_count": 7,
   "id": "3b17d902-05d6-44e7-afa6-39e80aa4f17e",
   "metadata": {},
   "outputs": [
    {
     "data": {
      "text/plain": [
       "100"
      ]
     },
     "execution_count": 7,
     "metadata": {},
     "output_type": "execute_result"
    }
   ],
   "source": [
    "x"
   ]
  },
  {
   "cell_type": "code",
   "execution_count": 8,
   "id": "1b969895-ed11-46bc-8df4-237f3cc94388",
   "metadata": {},
   "outputs": [],
   "source": [
    "y = 100"
   ]
  },
  {
   "cell_type": "code",
   "execution_count": 9,
   "id": "870a9f5f-2406-4674-8c1d-c43ce82c6165",
   "metadata": {},
   "outputs": [
    {
     "data": {
      "text/plain": [
       "100"
      ]
     },
     "execution_count": 9,
     "metadata": {},
     "output_type": "execute_result"
    }
   ],
   "source": [
    "y"
   ]
  },
  {
   "cell_type": "code",
   "execution_count": 10,
   "id": "fbd7a30e-6ef7-46de-b96c-47e751d0ed00",
   "metadata": {},
   "outputs": [
    {
     "data": {
      "text/plain": [
       "140705896412696"
      ]
     },
     "execution_count": 10,
     "metadata": {},
     "output_type": "execute_result"
    }
   ],
   "source": [
    "id(x)"
   ]
  },
  {
   "cell_type": "code",
   "execution_count": 11,
   "id": "8edb8bc9-bec9-46f7-8dd2-83034ad7a408",
   "metadata": {},
   "outputs": [
    {
     "data": {
      "text/plain": [
       "140705896412696"
      ]
     },
     "execution_count": 11,
     "metadata": {},
     "output_type": "execute_result"
    }
   ],
   "source": [
    "id(y)"
   ]
  },
  {
   "cell_type": "code",
   "execution_count": 12,
   "id": "1ab88941-e16c-42a7-822c-5b44423b5ca7",
   "metadata": {},
   "outputs": [
    {
     "data": {
      "text/plain": [
       "2725940454832"
      ]
     },
     "execution_count": 12,
     "metadata": {},
     "output_type": "execute_result"
    }
   ],
   "source": [
    "x = 1000\n",
    "y = 1000\n",
    "id(x)"
   ]
  },
  {
   "cell_type": "code",
   "execution_count": 13,
   "id": "9b41e8bb-cec7-4dd9-871d-237c7bec9763",
   "metadata": {},
   "outputs": [
    {
     "data": {
      "text/plain": [
       "2725940455472"
      ]
     },
     "execution_count": 13,
     "metadata": {},
     "output_type": "execute_result"
    }
   ],
   "source": [
    "id(y)"
   ]
  },
  {
   "cell_type": "code",
   "execution_count": 14,
   "id": "e7102f6e-0426-4c72-94e3-1ed3e2b0a9a6",
   "metadata": {},
   "outputs": [
    {
     "data": {
      "text/plain": [
       "'Rakib'"
      ]
     },
     "execution_count": 14,
     "metadata": {},
     "output_type": "execute_result"
    }
   ],
   "source": [
    "name = \"Rakib\"\n",
    "x = \"Rakib\"\n",
    "x"
   ]
  },
  {
   "cell_type": "code",
   "execution_count": 18,
   "id": "8901d8ae-0115-46ab-b4fe-b25f5330026a",
   "metadata": {},
   "outputs": [
    {
     "ename": "SyntaxError",
     "evalue": "invalid decimal literal (3009738999.py, line 1)",
     "output_type": "error",
     "traceback": [
      "\u001b[1;36m  Cell \u001b[1;32mIn[18], line 1\u001b[1;36m\u001b[0m\n\u001b[1;33m    9num = 10\u001b[0m\n\u001b[1;37m    ^\u001b[0m\n\u001b[1;31mSyntaxError\u001b[0m\u001b[1;31m:\u001b[0m invalid decimal literal\n"
     ]
    }
   ],
   "source": [
    "9num = 10"
   ]
  },
  {
   "cell_type": "code",
   "execution_count": 19,
   "id": "f86f065d-b38f-4e17-93c4-76fa4d131f35",
   "metadata": {},
   "outputs": [
    {
     "data": {
      "text/plain": [
       "20"
      ]
     },
     "execution_count": 19,
     "metadata": {},
     "output_type": "execute_result"
    }
   ],
   "source": [
    "var9 = 20\n",
    "var9"
   ]
  },
  {
   "cell_type": "markdown",
   "id": "e1d76eef-93c7-4927-8499-f0db0abb7463",
   "metadata": {},
   "source": [
    "var-2 = 200"
   ]
  },
  {
   "cell_type": "code",
   "execution_count": 21,
   "id": "1cf37499-1a83-4846-9965-641dc2cbfeee",
   "metadata": {},
   "outputs": [
    {
     "data": {
      "text/plain": [
       "200"
      ]
     },
     "execution_count": 21,
     "metadata": {},
     "output_type": "execute_result"
    }
   ],
   "source": [
    "var_2 = 200\n",
    "var_2"
   ]
  },
  {
   "cell_type": "markdown",
   "id": "8187f18a-a8bd-4b04-878d-14daf1bc289a",
   "metadata": {},
   "source": [
    "# Multiple variable value assign"
   ]
  },
  {
   "cell_type": "code",
   "execution_count": 22,
   "id": "a18b43bc-6d40-4bb6-9b55-9f130d061fde",
   "metadata": {},
   "outputs": [],
   "source": [
    "x,y,z = 10 ,100,1000"
   ]
  },
  {
   "cell_type": "code",
   "execution_count": 23,
   "id": "c7def54d-3f86-40c0-8d63-fffae979f9b6",
   "metadata": {},
   "outputs": [
    {
     "data": {
      "text/plain": [
       "10"
      ]
     },
     "execution_count": 23,
     "metadata": {},
     "output_type": "execute_result"
    }
   ],
   "source": [
    "x"
   ]
  },
  {
   "cell_type": "code",
   "execution_count": 24,
   "id": "7f6c9d72-48f3-474e-9487-362a99d5f411",
   "metadata": {},
   "outputs": [
    {
     "data": {
      "text/plain": [
       "100"
      ]
     },
     "execution_count": 24,
     "metadata": {},
     "output_type": "execute_result"
    }
   ],
   "source": [
    "y"
   ]
  },
  {
   "cell_type": "code",
   "execution_count": 25,
   "id": "f612b206-6a14-49f9-8ac9-4b3cf192f3c3",
   "metadata": {},
   "outputs": [
    {
     "data": {
      "text/plain": [
       "1000"
      ]
     },
     "execution_count": 25,
     "metadata": {},
     "output_type": "execute_result"
    }
   ],
   "source": [
    "z"
   ]
  },
  {
   "cell_type": "code",
   "execution_count": 26,
   "id": "cb76eb00-7182-405d-bab3-ba737d59ea66",
   "metadata": {},
   "outputs": [
    {
     "ename": "ValueError",
     "evalue": "not enough values to unpack (expected 3, got 2)",
     "output_type": "error",
     "traceback": [
      "\u001b[1;31m---------------------------------------------------------------------------\u001b[0m",
      "\u001b[1;31mValueError\u001b[0m                                Traceback (most recent call last)",
      "Cell \u001b[1;32mIn[26], line 1\u001b[0m\n\u001b[1;32m----> 1\u001b[0m x,y,z \u001b[38;5;241m=\u001b[39m \u001b[38;5;241m10\u001b[39m,\u001b[38;5;241m100\u001b[39m\n",
      "\u001b[1;31mValueError\u001b[0m: not enough values to unpack (expected 3, got 2)"
     ]
    }
   ],
   "source": [
    "x,y,z = 10,100"
   ]
  },
  {
   "cell_type": "code",
   "execution_count": 27,
   "id": "89b56876-6aeb-4fc2-8b80-29f527e1d5df",
   "metadata": {},
   "outputs": [],
   "source": [
    "x,y,z = 10,100,\"Rakib\""
   ]
  },
  {
   "cell_type": "code",
   "execution_count": 28,
   "id": "6d043c13-f467-4fc7-8804-1b255b5b7602",
   "metadata": {},
   "outputs": [
    {
     "data": {
      "text/plain": [
       "10"
      ]
     },
     "execution_count": 28,
     "metadata": {},
     "output_type": "execute_result"
    }
   ],
   "source": [
    "x"
   ]
  },
  {
   "cell_type": "code",
   "execution_count": 29,
   "id": "65fc7fe3-10a6-48dc-a953-9112485178f0",
   "metadata": {},
   "outputs": [
    {
     "data": {
      "text/plain": [
       "100"
      ]
     },
     "execution_count": 29,
     "metadata": {},
     "output_type": "execute_result"
    }
   ],
   "source": [
    "y"
   ]
  },
  {
   "cell_type": "code",
   "execution_count": 30,
   "id": "e4e47214-4fa3-465b-9e45-19ef0fd74b32",
   "metadata": {},
   "outputs": [
    {
     "data": {
      "text/plain": [
       "'Rakib'"
      ]
     },
     "execution_count": 30,
     "metadata": {},
     "output_type": "execute_result"
    }
   ],
   "source": [
    "z"
   ]
  },
  {
   "cell_type": "code",
   "execution_count": 31,
   "id": "00a19abc-6dc8-480c-a903-392533ea6aed",
   "metadata": {},
   "outputs": [],
   "source": [
    "X = 1\n",
    "x = 2"
   ]
  },
  {
   "cell_type": "code",
   "execution_count": 32,
   "id": "5684af17-002c-40d3-a1fe-42a04f388375",
   "metadata": {},
   "outputs": [
    {
     "data": {
      "text/plain": [
       "2"
      ]
     },
     "execution_count": 32,
     "metadata": {},
     "output_type": "execute_result"
    }
   ],
   "source": [
    "x"
   ]
  },
  {
   "cell_type": "code",
   "execution_count": 33,
   "id": "2d72183e-30b9-4bf4-805f-8e89ade31ded",
   "metadata": {},
   "outputs": [
    {
     "data": {
      "text/plain": [
       "1"
      ]
     },
     "execution_count": 33,
     "metadata": {},
     "output_type": "execute_result"
    }
   ],
   "source": [
    "X"
   ]
  },
  {
   "cell_type": "code",
   "execution_count": 34,
   "id": "c447bb23-4ad3-4d9a-b961-84f2a5b7025f",
   "metadata": {},
   "outputs": [],
   "source": [
    "studentid = 1003\n",
    "student_id = 1003 # snake case"
   ]
  },
  {
   "cell_type": "code",
   "execution_count": 35,
   "id": "866c6dbd-ba3c-4d35-a34f-509caefedea7",
   "metadata": {},
   "outputs": [
    {
     "data": {
      "text/plain": [
       "1003"
      ]
     },
     "execution_count": 35,
     "metadata": {},
     "output_type": "execute_result"
    }
   ],
   "source": [
    "student_id"
   ]
  },
  {
   "cell_type": "code",
   "execution_count": 36,
   "id": "4e684541-dde0-49a8-b496-9f89a65ceede",
   "metadata": {},
   "outputs": [
    {
     "data": {
      "text/plain": [
       "1003"
      ]
     },
     "execution_count": 36,
     "metadata": {},
     "output_type": "execute_result"
    }
   ],
   "source": [
    "studentid"
   ]
  },
  {
   "cell_type": "markdown",
   "id": "87449184-30c3-4b46-b68f-5baebf9c0698",
   "metadata": {},
   "source": [
    "# Local Vs Global"
   ]
  },
  {
   "cell_type": "code",
   "execution_count": 37,
   "id": "92603aad-525a-4cbd-b6b9-db53da5d9a87",
   "metadata": {},
   "outputs": [
    {
     "name": "stdout",
     "output_type": "stream",
     "text": [
      "My Num Is = 500\n"
     ]
    }
   ],
   "source": [
    "x = 100 #global \n",
    "def func():\n",
    "    x = 500 #local\n",
    "    print(\"My Num Is =\",x)\n",
    "func()"
   ]
  },
  {
   "cell_type": "code",
   "execution_count": 38,
   "id": "d157523a-20de-4064-95ee-31b71618c5b5",
   "metadata": {},
   "outputs": [
    {
     "name": "stdout",
     "output_type": "stream",
     "text": [
      "My num is = 500\n",
      "My num is = 1000\n"
     ]
    }
   ],
   "source": [
    "x = 1000 #global\n",
    "def func1():\n",
    "    x = 500 #local\n",
    "    print(\"My num is =\",x)\n",
    "func1()\n",
    "print(\"My num is =\",x)"
   ]
  },
  {
   "cell_type": "code",
   "execution_count": 39,
   "id": "fad8b0a9-4e76-4b9d-ac8c-33845f94f2b0",
   "metadata": {},
   "outputs": [
    {
     "name": "stdout",
     "output_type": "stream",
     "text": [
      "My num is : 500\n",
      "My num is : 500\n"
     ]
    }
   ],
   "source": [
    "def func2():\n",
    "    global x\n",
    "    x = 500 #local\n",
    "    print(\"My num is :\",x)\n",
    "func2()\n",
    "print(\"My num is :\",x)"
   ]
  },
  {
   "cell_type": "code",
   "execution_count": null,
   "id": "7f5b749a-896b-42e8-a1da-a64e38da4b5b",
   "metadata": {},
   "outputs": [],
   "source": []
  }
 ],
 "metadata": {
  "kernelspec": {
   "display_name": "Python 3 (ipykernel)",
   "language": "python",
   "name": "python3"
  },
  "language_info": {
   "codemirror_mode": {
    "name": "ipython",
    "version": 3
   },
   "file_extension": ".py",
   "mimetype": "text/x-python",
   "name": "python",
   "nbconvert_exporter": "python",
   "pygments_lexer": "ipython3",
   "version": "3.12.7"
  }
 },
 "nbformat": 4,
 "nbformat_minor": 5
}
