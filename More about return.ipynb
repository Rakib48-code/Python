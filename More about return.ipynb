{
 "cells": [
  {
   "cell_type": "markdown",
   "id": "cf77bf27-db9c-4804-8d09-5eaf9987a6d7",
   "metadata": {},
   "source": [
    "# More About Return"
   ]
  },
  {
   "cell_type": "code",
   "execution_count": 1,
   "id": "0ea14547-89ff-435c-8167-aa6751ca02ef",
   "metadata": {},
   "outputs": [],
   "source": [
    "def user_input():\n",
    "    x1 = int(input(\"Enter x1 value : \"))\n",
    "    x2 = int(input(\"Enter x2 value : \"))\n",
    "    y1 = int(input(\"Enter y1 value : \"))\n",
    "    y2 = int(input(\"Enter y2 value : \"))\n",
    "\n",
    "    return x1,y1"
   ]
  },
  {
   "cell_type": "code",
   "execution_count": 2,
   "id": "4da52e64-c137-4375-8824-43048f98ea86",
   "metadata": {},
   "outputs": [
    {
     "name": "stdin",
     "output_type": "stream",
     "text": [
      "Enter x1 value :  4\n",
      "Enter x2 value :  5\n",
      "Enter y1 value :  6\n",
      "Enter y2 value :  7\n"
     ]
    },
    {
     "data": {
      "text/plain": [
       "(4, 6)"
      ]
     },
     "execution_count": 2,
     "metadata": {},
     "output_type": "execute_result"
    }
   ],
   "source": [
    "user_input()"
   ]
  },
  {
   "cell_type": "code",
   "execution_count": 3,
   "id": "2b5d05bf-90fa-428b-ba13-0bc50f11eb57",
   "metadata": {},
   "outputs": [],
   "source": [
    "def user_input():\n",
    "    x1 = int(input(\"Enter x1 value : \"))\n",
    "    x2 = int(input(\"Enter x2 value : \"))\n",
    "    y1 = int(input(\"Enter y1 value : \"))\n",
    "    y2 = int(input(\"Enter y2 value : \"))\n",
    "\n",
    "    return x1,y1,x2,y2"
   ]
  },
  {
   "cell_type": "code",
   "execution_count": 4,
   "id": "a4d4d53f-e7f3-4feb-852d-1b56f26f932c",
   "metadata": {},
   "outputs": [
    {
     "name": "stdin",
     "output_type": "stream",
     "text": [
      "Enter x1 value :  10\n",
      "Enter x2 value :  20\n",
      "Enter y1 value :  30\n",
      "Enter y2 value :  40\n"
     ]
    },
    {
     "data": {
      "text/plain": [
       "(10, 30, 20, 40)"
      ]
     },
     "execution_count": 4,
     "metadata": {},
     "output_type": "execute_result"
    }
   ],
   "source": [
    "user_input()"
   ]
  },
  {
   "cell_type": "code",
   "execution_count": 5,
   "id": "c69306bc-f907-4b6a-9819-754fe7865050",
   "metadata": {},
   "outputs": [],
   "source": [
    "def user_input():\n",
    "    x1 = int(input(\"Enter x1 value : \"))\n",
    "    x2 = int(input(\"Enter x2 value : \"))\n",
    "    y1 = int(input(\"Enter y1 value : \"))\n",
    "    y2 = int(input(\"Enter y2 value : \"))\n",
    "\n",
    "    return (x1,y1),(x2,y2)"
   ]
  },
  {
   "cell_type": "code",
   "execution_count": 6,
   "id": "7f139d35-b12b-4920-8b43-fbe5c8c39a3a",
   "metadata": {},
   "outputs": [
    {
     "name": "stdin",
     "output_type": "stream",
     "text": [
      "Enter x1 value :  70\n",
      "Enter x2 value :  80\n",
      "Enter y1 value :  90\n",
      "Enter y2 value :  100\n"
     ]
    },
    {
     "data": {
      "text/plain": [
       "((70, 90), (80, 100))"
      ]
     },
     "execution_count": 6,
     "metadata": {},
     "output_type": "execute_result"
    }
   ],
   "source": [
    "user_input()"
   ]
  },
  {
   "cell_type": "code",
   "execution_count": 7,
   "id": "17eb298e-bc19-46ed-b2c9-44ff86bf9da7",
   "metadata": {},
   "outputs": [],
   "source": [
    "def user_input():\n",
    "    x1 = int(input(\"Enter x1 value : \"))\n",
    "    x2 = int(input(\"Enter x2 value : \"))\n",
    "    y1 = int(input(\"Enter y1 value : \"))\n",
    "    y2 = int(input(\"Enter y2 value : \"))\n",
    "\n",
    "    return (x1,y1),(x2,y2)"
   ]
  },
  {
   "cell_type": "code",
   "execution_count": 8,
   "id": "8936002c-fbe5-4592-b583-e945259bb951",
   "metadata": {},
   "outputs": [
    {
     "name": "stdin",
     "output_type": "stream",
     "text": [
      "Enter x1 value :  2\n",
      "Enter x2 value :  3\n",
      "Enter y1 value :  4\n",
      "Enter y2 value :  5\n"
     ]
    }
   ],
   "source": [
    "r1,r2 = user_input()"
   ]
  },
  {
   "cell_type": "code",
   "execution_count": 9,
   "id": "dc362b27-046b-4c27-8c36-059b39791b61",
   "metadata": {},
   "outputs": [
    {
     "data": {
      "text/plain": [
       "(2, 4)"
      ]
     },
     "execution_count": 9,
     "metadata": {},
     "output_type": "execute_result"
    }
   ],
   "source": [
    "r1"
   ]
  },
  {
   "cell_type": "code",
   "execution_count": 10,
   "id": "3a4d06f5-543e-41b0-89ed-5483531a9ce9",
   "metadata": {},
   "outputs": [
    {
     "data": {
      "text/plain": [
       "(3, 5)"
      ]
     },
     "execution_count": 10,
     "metadata": {},
     "output_type": "execute_result"
    }
   ],
   "source": [
    "r2"
   ]
  },
  {
   "cell_type": "code",
   "execution_count": 11,
   "id": "e519a79d-b192-480b-9747-ba5edbb6e359",
   "metadata": {},
   "outputs": [],
   "source": [
    "def user_input():\n",
    "    x1 = int(input(\"Enter x1 value : \"))\n",
    "    x2 = int(input(\"Enter x2 value : \"))\n",
    "    y1 = int(input(\"Enter y1 value : \"))\n",
    "    y2 = int(input(\"Enter y2 value : \"))\n",
    "\n",
    "    return (x1,y1),(x2,y2)"
   ]
  },
  {
   "cell_type": "code",
   "execution_count": 12,
   "id": "104424b1-efe8-41b9-9527-16a45a65b956",
   "metadata": {},
   "outputs": [
    {
     "name": "stdin",
     "output_type": "stream",
     "text": [
      "Enter x1 value :  23\n",
      "Enter x2 value :  24\n",
      "Enter y1 value :  25\n",
      "Enter y2 value :  22\n"
     ]
    }
   ],
   "source": [
    "r1,_ = user_input()"
   ]
  },
  {
   "cell_type": "code",
   "execution_count": 13,
   "id": "346940fd-9e3d-4377-8df1-910e3e3989f0",
   "metadata": {},
   "outputs": [
    {
     "data": {
      "text/plain": [
       "(23, 25)"
      ]
     },
     "execution_count": 13,
     "metadata": {},
     "output_type": "execute_result"
    }
   ],
   "source": [
    "r1"
   ]
  },
  {
   "cell_type": "code",
   "execution_count": 14,
   "id": "4193e734-bf43-46ea-9081-a90dc409f017",
   "metadata": {},
   "outputs": [],
   "source": [
    "def user_input():\n",
    "    x1 = int(input(\"Enter x1 value : \"))\n",
    "    x2 = int(input(\"Enter x2 value : \"))\n",
    "    y1 = int(input(\"Enter y1 value : \"))\n",
    "    y2 = int(input(\"Enter y2 value : \"))\n",
    "\n",
    "    return (x1,y1),(x2,y2)"
   ]
  },
  {
   "cell_type": "code",
   "execution_count": 15,
   "id": "243eec8e-66b9-4203-90ce-d7824e38e2e0",
   "metadata": {},
   "outputs": [
    {
     "name": "stdin",
     "output_type": "stream",
     "text": [
      "Enter x1 value :  33\n",
      "Enter x2 value :  34\n",
      "Enter y1 value :  35\n",
      "Enter y2 value :  36\n"
     ]
    },
    {
     "ename": "ValueError",
     "evalue": "too many values to unpack (expected 1)",
     "output_type": "error",
     "traceback": [
      "\u001b[1;31m---------------------------------------------------------------------------\u001b[0m",
      "\u001b[1;31mValueError\u001b[0m                                Traceback (most recent call last)",
      "Cell \u001b[1;32mIn[15], line 1\u001b[0m\n\u001b[1;32m----> 1\u001b[0m r1,\u001b[38;5;241m=\u001b[39m user_input()\n",
      "\u001b[1;31mValueError\u001b[0m: too many values to unpack (expected 1)"
     ]
    }
   ],
   "source": [
    "r1,= user_input()"
   ]
  },
  {
   "cell_type": "code",
   "execution_count": 16,
   "id": "7707675f-7c78-4bcd-a75c-a94b8dac59c1",
   "metadata": {},
   "outputs": [],
   "source": [
    "def user_input():\n",
    "    x1 = int(input(\"Enter x1 value : \"))\n",
    "    x2 = int(input(\"Enter x2 value : \"))\n",
    "    y1 = int(input(\"Enter y1 value : \"))\n",
    "    y2 = int(input(\"Enter y2 value : \"))\n",
    "\n",
    "    return (x1,y1),(x2,y2)"
   ]
  },
  {
   "cell_type": "code",
   "execution_count": 18,
   "id": "09c3895a-b8db-4e46-92f9-e0ec47a4cdba",
   "metadata": {},
   "outputs": [
    {
     "name": "stdin",
     "output_type": "stream",
     "text": [
      "Enter x1 value :  1\n",
      "Enter x2 value :  2\n",
      "Enter y1 value :  3\n",
      "Enter y2 value :  4\n"
     ]
    }
   ],
   "source": [
    "r1 = user_input()"
   ]
  },
  {
   "cell_type": "code",
   "execution_count": 19,
   "id": "5ef2bb68-1b40-4c10-89ce-dbe779487090",
   "metadata": {},
   "outputs": [
    {
     "data": {
      "text/plain": [
       "((1, 3), (2, 4))"
      ]
     },
     "execution_count": 19,
     "metadata": {},
     "output_type": "execute_result"
    }
   ],
   "source": [
    "r1"
   ]
  },
  {
   "cell_type": "code",
   "execution_count": 20,
   "id": "5f30bea3-14e3-4afd-bd7b-14e494b8224a",
   "metadata": {},
   "outputs": [
    {
     "data": {
      "text/plain": [
       "(9, 27)"
      ]
     },
     "execution_count": 20,
     "metadata": {},
     "output_type": "execute_result"
    }
   ],
   "source": [
    "def sq_and_cube(x):\n",
    "    sq = x**2 #square\n",
    "    cube = x**3 #cube\n",
    "\n",
    "    return sq,cube\n",
    "sq_and_cube(3)"
   ]
  },
  {
   "cell_type": "code",
   "execution_count": null,
   "id": "223cbf1f-32c2-4a92-9d4e-8a7e307da7e4",
   "metadata": {},
   "outputs": [],
   "source": []
  }
 ],
 "metadata": {
  "kernelspec": {
   "display_name": "Python 3 (ipykernel)",
   "language": "python",
   "name": "python3"
  },
  "language_info": {
   "codemirror_mode": {
    "name": "ipython",
    "version": 3
   },
   "file_extension": ".py",
   "mimetype": "text/x-python",
   "name": "python",
   "nbconvert_exporter": "python",
   "pygments_lexer": "ipython3",
   "version": "3.12.7"
  }
 },
 "nbformat": 4,
 "nbformat_minor": 5
}
