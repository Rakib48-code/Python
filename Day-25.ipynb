{
 "cells": [
  {
   "cell_type": "markdown",
   "id": "3b5dede5-ba0e-4c20-9fe9-88907ead96ec",
   "metadata": {},
   "source": [
    "# Unpacking Elements"
   ]
  },
  {
   "cell_type": "code",
   "execution_count": 1,
   "id": "43ca2089-9785-4b49-966d-ac1ce2eb7ee3",
   "metadata": {},
   "outputs": [
    {
     "name": "stdout",
     "output_type": "stream",
     "text": [
      "((1, 'rakib'), (2, 'fahim'), (3, 'faysal'))\n"
     ]
    }
   ],
   "source": [
    "ids = (1,2,3)\n",
    "name = (\"rakib\",\"fahim\",\"faysal\")\n",
    "zipped = tuple(zip(ids,name))\n",
    "print(zipped)"
   ]
  },
  {
   "cell_type": "code",
   "execution_count": 2,
   "id": "56f83465-2069-4cbe-9f62-50f89f5c4b51",
   "metadata": {},
   "outputs": [
    {
     "name": "stdout",
     "output_type": "stream",
     "text": [
      "(1, 2, 3)\n",
      "('rakib', 'fahim', 'faysal')\n"
     ]
    }
   ],
   "source": [
    "ids_new,name_new = zip(*zipped) #unzip\n",
    "print(ids_new)\n",
    "print(name_new)"
   ]
  },
  {
   "cell_type": "code",
   "execution_count": 3,
   "id": "39cc8e38-7b98-41f4-913d-4ac91f1e107c",
   "metadata": {},
   "outputs": [
    {
     "name": "stdout",
     "output_type": "stream",
     "text": [
      "1\n"
     ]
    }
   ],
   "source": [
    "i1,n1 = zipped[0]\n",
    "print(i1)"
   ]
  },
  {
   "cell_type": "code",
   "execution_count": 4,
   "id": "8248d9fe-5b21-4935-89f0-f47424a3ea69",
   "metadata": {},
   "outputs": [
    {
     "name": "stdout",
     "output_type": "stream",
     "text": [
      "rakib\n"
     ]
    }
   ],
   "source": [
    "print(n1)"
   ]
  },
  {
   "cell_type": "markdown",
   "id": "78f621b4-ccfc-47cc-851a-440e418acc3e",
   "metadata": {},
   "source": [
    "# Unpacking using loop"
   ]
  },
  {
   "cell_type": "code",
   "execution_count": 5,
   "id": "85dffba9-70b5-4de4-a508-91fcbb3658e1",
   "metadata": {},
   "outputs": [
    {
     "data": {
      "text/plain": [
       "((1, 'rakib'), (2, 'fahim'), (3, 'faysal'))"
      ]
     },
     "execution_count": 5,
     "metadata": {},
     "output_type": "execute_result"
    }
   ],
   "source": [
    "zipped"
   ]
  },
  {
   "cell_type": "code",
   "execution_count": 6,
   "id": "c66a3c6a-d779-4047-852e-8d7bb06f57b1",
   "metadata": {},
   "outputs": [
    {
     "name": "stdout",
     "output_type": "stream",
     "text": [
      "1 rakib\n",
      "2 fahim\n",
      "3 faysal\n"
     ]
    }
   ],
   "source": [
    "for ids,name in zipped:\n",
    "    print(ids,name)"
   ]
  },
  {
   "cell_type": "markdown",
   "id": "ec65c3e6-c3d8-4291-be99-e58413214505",
   "metadata": {},
   "source": [
    "# Enumerating : iterate over pairs"
   ]
  },
  {
   "cell_type": "code",
   "execution_count": 7,
   "id": "779544b6-1bf0-4917-a1b9-989e56c2ee6c",
   "metadata": {},
   "outputs": [
    {
     "name": "stdout",
     "output_type": "stream",
     "text": [
      "(0, (1, 'rakib'))\n",
      "(1, (2, 'fahim'))\n",
      "(2, (3, 'faysal'))\n"
     ]
    }
   ],
   "source": [
    "for data in enumerate(zipped):\n",
    "    #upacking pair: ids,name\n",
    "    ids,name = data\n",
    "    print(data)"
   ]
  },
  {
   "cell_type": "code",
   "execution_count": 8,
   "id": "b2484999-b8a9-4267-b0aa-2195fbcb297d",
   "metadata": {},
   "outputs": [
    {
     "name": "stdout",
     "output_type": "stream",
     "text": [
      "Rank 0, id= 1, name= rakib\n",
      "Rank 1, id= 2, name= fahim\n",
      "Rank 2, id= 3, name= faysal\n"
     ]
    }
   ],
   "source": [
    "for index,pair in enumerate(zipped):\n",
    "    ids,name = pair\n",
    "    print(\"Rank {}, id= {}, name= {}\".format(index,ids,name))"
   ]
  },
  {
   "cell_type": "code",
   "execution_count": null,
   "id": "42b566d5-076c-444e-99fb-760fc76920a9",
   "metadata": {},
   "outputs": [],
   "source": []
  }
 ],
 "metadata": {
  "kernelspec": {
   "display_name": "Python 3 (ipykernel)",
   "language": "python",
   "name": "python3"
  },
  "language_info": {
   "codemirror_mode": {
    "name": "ipython",
    "version": 3
   },
   "file_extension": ".py",
   "mimetype": "text/x-python",
   "name": "python",
   "nbconvert_exporter": "python",
   "pygments_lexer": "ipython3",
   "version": "3.12.7"
  }
 },
 "nbformat": 4,
 "nbformat_minor": 5
}
