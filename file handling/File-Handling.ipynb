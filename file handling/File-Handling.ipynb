{
 "cells": [
  {
   "cell_type": "markdown",
   "id": "aa1efc10-0235-4b0d-b241-d493d56bc2b4",
   "metadata": {},
   "source": [
    "# Example 1: Reading Text from a File"
   ]
  },
  {
   "cell_type": "markdown",
   "id": "0852efa8-8edd-40bc-9449-122efa90d3a6",
   "metadata": {},
   "source": [
    "Before reading from a file, you need to make sure the file exists. This example will show you how to open a text file and read its contents line by line, which is useful for processing files that are too large to fit into memory all at once."
   ]
  },
  {
   "cell_type": "code",
   "execution_count": 3,
   "id": "f4b06aad-7a66-496a-8da1-35610a5ab7db",
   "metadata": {},
   "outputs": [
    {
     "name": "stdout",
     "output_type": "stream",
     "text": [
      "hi my name is Rakib hasan , i am learning odoo in python\n"
     ]
    }
   ],
   "source": [
    "with open(\"py1.txt\", \"r\") as file:\n",
    "    # Read each line in the file one at a time\n",
    "    for line in file:\n",
    "        # Process each line\n",
    "        print(line.strip()) ## The strip() method removes any leading/trailing whitespace & newline characters"
   ]
  },
  {
   "cell_type": "markdown",
   "id": "b99301c6-7e8b-4454-9652-a65bb6e5bc83",
   "metadata": {},
   "source": [
    "# current directory dekhte"
   ]
  },
  {
   "cell_type": "code",
   "execution_count": 2,
   "id": "a00a80a8-3d87-4a1e-b352-1cb6f70c2316",
   "metadata": {},
   "outputs": [
    {
     "name": "stdout",
     "output_type": "stream",
     "text": [
      "D:\\condalab\\Python Course\\file handling\n"
     ]
    }
   ],
   "source": [
    "import os\n",
    "print(os.getcwd())\n"
   ]
  },
  {
   "cell_type": "markdown",
   "id": "201e2c42-313a-4906-a697-067ca138dafc",
   "metadata": {},
   "source": [
    "# Example 2: Writing Text to a File"
   ]
  },
  {
   "cell_type": "markdown",
   "id": "719e15b5-413c-47ef-a6f4-146e5b16a6ac",
   "metadata": {},
   "source": [
    "Write strings to a file, which is useful for logging, saving outputs, etc. We'll open a file in write mode ('w'), which creates the file if it doesn't exist or truncates it if it does."
   ]
  },
  {
   "cell_type": "code",
   "execution_count": 4,
   "id": "842b76f9-03ae-4c20-871e-f214b16191f2",
   "metadata": {},
   "outputs": [],
   "source": [
    "lines_to_write = ['We are allowing you to learn Python, Django, Machine Learning & AI', 'Python makes file handling easy.','Visit: www.aiquest.org']"
   ]
  },
  {
   "cell_type": "code",
   "execution_count": 5,
   "id": "a7a5a43a-0ab2-41f5-a151-124e3da933df",
   "metadata": {},
   "outputs": [],
   "source": [
    "# Open the file in write mode ('w')\n",
    "with open(\"py2.txt\", \"w\") as file:\n",
    "    for line in lines_to_write:\n",
    "        # Write each line to the file with a newline character at the end\n",
    "        file.write(line + '\\n')"
   ]
  },
  {
   "cell_type": "markdown",
   "id": "a3d0d15a-b0e9-4a7d-bf47-170cf768fc74",
   "metadata": {},
   "source": [
    "# Example 3: Appending Text to an Existing File"
   ]
  },
  {
   "cell_type": "code",
   "execution_count": 6,
   "id": "c0f4d9ed-53c8-48b5-9313-6e9c680fef99",
   "metadata": {},
   "outputs": [],
   "source": [
    "new_text1 = ['Learn data science smartly', 'AI is Future']"
   ]
  },
  {
   "cell_type": "code",
   "execution_count": 7,
   "id": "2cbe6279-f3af-4c92-8932-360242442596",
   "metadata": {},
   "outputs": [],
   "source": [
    "# Open the file in append mode ('a')\n",
    "with open(\"py2.txt\", \"a\") as file:\n",
    "    for line in new_text1:\n",
    "        # Append each line to the file\n",
    "        file.write(line + '\\n')"
   ]
  },
  {
   "cell_type": "code",
   "execution_count": null,
   "id": "b902732d-9ccf-44f2-9414-5c2a21dd0ee3",
   "metadata": {},
   "outputs": [],
   "source": []
  }
 ],
 "metadata": {
  "kernelspec": {
   "display_name": "Python 3 (ipykernel)",
   "language": "python",
   "name": "python3"
  },
  "language_info": {
   "codemirror_mode": {
    "name": "ipython",
    "version": 3
   },
   "file_extension": ".py",
   "mimetype": "text/x-python",
   "name": "python",
   "nbconvert_exporter": "python",
   "pygments_lexer": "ipython3",
   "version": "3.12.7"
  }
 },
 "nbformat": 4,
 "nbformat_minor": 5
}
