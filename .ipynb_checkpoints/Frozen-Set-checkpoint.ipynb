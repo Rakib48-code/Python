{
 "cells": [
  {
   "cell_type": "markdown",
   "id": "cbf30d36-647e-4a49-988c-0289e3b0ef7d",
   "metadata": {},
   "source": [
    "# Frozenset in python"
   ]
  },
  {
   "cell_type": "code",
   "execution_count": 1,
   "id": "dea026fe-7ff2-4141-bf4f-de6f98d18a3e",
   "metadata": {},
   "outputs": [],
   "source": [
    "s1 = {1,2,3,4}\n",
    "s2 = {\"python\",\"odoo\"}"
   ]
  },
  {
   "cell_type": "code",
   "execution_count": 2,
   "id": "81b665d2-8cdc-4e2e-9d63-dfe1a0a664f3",
   "metadata": {},
   "outputs": [
    {
     "data": {
      "text/plain": [
       "{1, 2, 3, 4}"
      ]
     },
     "execution_count": 2,
     "metadata": {},
     "output_type": "execute_result"
    }
   ],
   "source": [
    "s1"
   ]
  },
  {
   "cell_type": "code",
   "execution_count": 3,
   "id": "3e75ddb4-8b3d-47ea-977d-a034587ef6e6",
   "metadata": {},
   "outputs": [
    {
     "data": {
      "text/plain": [
       "{'odoo', 'python'}"
      ]
     },
     "execution_count": 3,
     "metadata": {},
     "output_type": "execute_result"
    }
   ],
   "source": [
    "s2"
   ]
  },
  {
   "cell_type": "code",
   "execution_count": 4,
   "id": "fe173c67-6cf3-4a4c-b200-6d4c7253f509",
   "metadata": {},
   "outputs": [
    {
     "data": {
      "text/plain": [
       "set"
      ]
     },
     "execution_count": 4,
     "metadata": {},
     "output_type": "execute_result"
    }
   ],
   "source": [
    "type(s1)"
   ]
  },
  {
   "cell_type": "code",
   "execution_count": 5,
   "id": "c7d0d9d9-23ec-4a81-88b1-7660afa8a4df",
   "metadata": {},
   "outputs": [
    {
     "data": {
      "text/plain": [
       "set"
      ]
     },
     "execution_count": 5,
     "metadata": {},
     "output_type": "execute_result"
    }
   ],
   "source": [
    "type(s2)"
   ]
  },
  {
   "cell_type": "markdown",
   "id": "7c80d35b-f031-4758-8ce8-7c1cd9fae74f",
   "metadata": {},
   "source": [
    "# FrozenSet()"
   ]
  },
  {
   "cell_type": "code",
   "execution_count": 6,
   "id": "d8281dc8-12f6-4fe6-a1e7-1ded9a43ab5f",
   "metadata": {},
   "outputs": [
    {
     "data": {
      "text/plain": [
       "frozenset({1, 2, 3, 4})"
      ]
     },
     "execution_count": 6,
     "metadata": {},
     "output_type": "execute_result"
    }
   ],
   "source": [
    "s3 = frozenset(s1)\n",
    "s3"
   ]
  },
  {
   "cell_type": "code",
   "execution_count": 7,
   "id": "e2d14bd0-203c-43a4-8431-f27b2743d8d0",
   "metadata": {},
   "outputs": [
    {
     "data": {
      "text/plain": [
       "frozenset"
      ]
     },
     "execution_count": 7,
     "metadata": {},
     "output_type": "execute_result"
    }
   ],
   "source": [
    "type(s3)"
   ]
  },
  {
   "cell_type": "code",
   "execution_count": 8,
   "id": "5da349d7-db98-49a9-bc18-0029e7e079bc",
   "metadata": {},
   "outputs": [
    {
     "ename": "AttributeError",
     "evalue": "'frozenset' object has no attribute 'add'",
     "output_type": "error",
     "traceback": [
      "\u001b[1;31m---------------------------------------------------------------------------\u001b[0m",
      "\u001b[1;31mAttributeError\u001b[0m                            Traceback (most recent call last)",
      "Cell \u001b[1;32mIn[8], line 1\u001b[0m\n\u001b[1;32m----> 1\u001b[0m \u001b[43ms3\u001b[49m\u001b[38;5;241;43m.\u001b[39;49m\u001b[43madd\u001b[49m(\u001b[38;5;241m11\u001b[39m)\n",
      "\u001b[1;31mAttributeError\u001b[0m: 'frozenset' object has no attribute 'add'"
     ]
    }
   ],
   "source": [
    "s3.add(11)"
   ]
  },
  {
   "cell_type": "code",
   "execution_count": 9,
   "id": "3a022312-a702-4268-a082-7ee1d4611020",
   "metadata": {},
   "outputs": [
    {
     "ename": "AttributeError",
     "evalue": "'frozenset' object has no attribute 'remove'",
     "output_type": "error",
     "traceback": [
      "\u001b[1;31m---------------------------------------------------------------------------\u001b[0m",
      "\u001b[1;31mAttributeError\u001b[0m                            Traceback (most recent call last)",
      "Cell \u001b[1;32mIn[9], line 1\u001b[0m\n\u001b[1;32m----> 1\u001b[0m \u001b[43ms3\u001b[49m\u001b[38;5;241;43m.\u001b[39;49m\u001b[43mremove\u001b[49m(\u001b[38;5;241m1\u001b[39m)\n",
      "\u001b[1;31mAttributeError\u001b[0m: 'frozenset' object has no attribute 'remove'"
     ]
    }
   ],
   "source": [
    "s3.remove(1)"
   ]
  },
  {
   "cell_type": "code",
   "execution_count": 10,
   "id": "35ace927-b735-4123-a1fa-c00cb83774af",
   "metadata": {},
   "outputs": [
    {
     "name": "stdout",
     "output_type": "stream",
     "text": [
      "frozenset({1, 2, 3, 4, 67, 56})\n"
     ]
    }
   ],
   "source": [
    "l1 = [1,2,3,4,56,67]\n",
    "s4 = frozenset(l1)\n",
    "print(s4)"
   ]
  },
  {
   "cell_type": "code",
   "execution_count": 11,
   "id": "804273a9-9d43-4db6-9fcd-5f6b5a9dd1db",
   "metadata": {},
   "outputs": [
    {
     "data": {
      "text/plain": [
       "frozenset({1, 2, 3, 4})"
      ]
     },
     "execution_count": 11,
     "metadata": {},
     "output_type": "execute_result"
    }
   ],
   "source": [
    "s3"
   ]
  },
  {
   "cell_type": "code",
   "execution_count": 12,
   "id": "de627fd5-f1c6-437e-bbd4-d3b38458cb20",
   "metadata": {},
   "outputs": [
    {
     "data": {
      "text/plain": [
       "frozenset({1, 2, 3, 4, 56, 67})"
      ]
     },
     "execution_count": 12,
     "metadata": {},
     "output_type": "execute_result"
    }
   ],
   "source": [
    "s4"
   ]
  },
  {
   "cell_type": "code",
   "execution_count": 13,
   "id": "f2443d97-1a20-4949-a3fd-9c89e639897a",
   "metadata": {},
   "outputs": [
    {
     "data": {
      "text/plain": [
       "frozenset({1, 2, 3, 4, 56, 67})"
      ]
     },
     "execution_count": 13,
     "metadata": {},
     "output_type": "execute_result"
    }
   ],
   "source": [
    "s3.union(s4)"
   ]
  },
  {
   "cell_type": "code",
   "execution_count": 14,
   "id": "87e40177-faea-4151-a23f-b268f3db027b",
   "metadata": {},
   "outputs": [
    {
     "data": {
      "text/plain": [
       "frozenset({1, 2, 3, 4})"
      ]
     },
     "execution_count": 14,
     "metadata": {},
     "output_type": "execute_result"
    }
   ],
   "source": [
    "s3.intersection(s4) #two set match element return"
   ]
  },
  {
   "cell_type": "code",
   "execution_count": 16,
   "id": "f27d2ac6-8fb3-498a-a961-4ee1f6799b2e",
   "metadata": {},
   "outputs": [
    {
     "data": {
      "text/plain": [
       "'rakib hasan'"
      ]
     },
     "execution_count": 16,
     "metadata": {},
     "output_type": "execute_result"
    }
   ],
   "source": [
    "s5 = \"rakib hasan\"\n",
    "s5"
   ]
  },
  {
   "cell_type": "code",
   "execution_count": 17,
   "id": "0244db99-882e-4f24-95ba-2ce6a0125640",
   "metadata": {},
   "outputs": [
    {
     "data": {
      "text/plain": [
       "frozenset({' ', 'a', 'b', 'h', 'i', 'k', 'n', 'r', 's'})"
      ]
     },
     "execution_count": 17,
     "metadata": {},
     "output_type": "execute_result"
    }
   ],
   "source": [
    "s6 = frozenset(s5)\n",
    "s6"
   ]
  },
  {
   "cell_type": "code",
   "execution_count": 18,
   "id": "deb2a521-979e-4eda-8785-95a03caace97",
   "metadata": {},
   "outputs": [
    {
     "ename": "SyntaxError",
     "evalue": "invalid syntax (1434076959.py, line 1)",
     "output_type": "error",
     "traceback": [
      "\u001b[1;36m  Cell \u001b[1;32mIn[18], line 1\u001b[1;36m\u001b[0m\n\u001b[1;33m    list(x) for x in s5\u001b[0m\n\u001b[1;37m            ^\u001b[0m\n\u001b[1;31mSyntaxError\u001b[0m\u001b[1;31m:\u001b[0m invalid syntax\n"
     ]
    }
   ],
   "source": [
    "list(x) for x in s5"
   ]
  },
  {
   "cell_type": "code",
   "execution_count": 19,
   "id": "71075410-c638-4dff-9997-72401157db4d",
   "metadata": {},
   "outputs": [
    {
     "data": {
      "text/plain": [
       "[['r'], ['a'], ['k'], ['i'], ['b'], [' '], ['h'], ['a'], ['s'], ['a'], ['n']]"
      ]
     },
     "execution_count": 19,
     "metadata": {},
     "output_type": "execute_result"
    }
   ],
   "source": [
    "[list(x) for x in s5]"
   ]
  },
  {
   "cell_type": "code",
   "execution_count": 20,
   "id": "2430f665-eefa-4e9f-966d-f717d1239848",
   "metadata": {},
   "outputs": [
    {
     "data": {
      "text/plain": [
       "[('r',),\n",
       " ('a',),\n",
       " ('k',),\n",
       " ('i',),\n",
       " ('b',),\n",
       " (' ',),\n",
       " ('h',),\n",
       " ('a',),\n",
       " ('s',),\n",
       " ('a',),\n",
       " ('n',)]"
      ]
     },
     "execution_count": 20,
     "metadata": {},
     "output_type": "execute_result"
    }
   ],
   "source": [
    "[tuple(x) for x in s5]"
   ]
  },
  {
   "cell_type": "code",
   "execution_count": 21,
   "id": "b08800e0-2572-4e06-a13c-4dcc58da4b3d",
   "metadata": {},
   "outputs": [
    {
     "data": {
      "text/plain": [
       "[{'r'}, {'a'}, {'k'}, {'i'}, {'b'}, {' '}, {'h'}, {'a'}, {'s'}, {'a'}, {'n'}]"
      ]
     },
     "execution_count": 21,
     "metadata": {},
     "output_type": "execute_result"
    }
   ],
   "source": [
    "[set(x) for x in s5]"
   ]
  },
  {
   "cell_type": "markdown",
   "id": "ff29b903-fb19-444c-a007-6de47de74586",
   "metadata": {},
   "source": [
    "# Set Methods"
   ]
  },
  {
   "cell_type": "code",
   "execution_count": null,
   "id": "b074a691-5d9d-4016-a94a-b756bb6d695b",
   "metadata": {},
   "outputs": [],
   "source": []
  }
 ],
 "metadata": {
  "kernelspec": {
   "display_name": "Python 3 (ipykernel)",
   "language": "python",
   "name": "python3"
  },
  "language_info": {
   "codemirror_mode": {
    "name": "ipython",
    "version": 3
   },
   "file_extension": ".py",
   "mimetype": "text/x-python",
   "name": "python",
   "nbconvert_exporter": "python",
   "pygments_lexer": "ipython3",
   "version": "3.12.7"
  }
 },
 "nbformat": 4,
 "nbformat_minor": 5
}
