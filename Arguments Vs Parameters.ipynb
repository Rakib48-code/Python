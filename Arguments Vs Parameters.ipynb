{
 "cells": [
  {
   "cell_type": "markdown",
   "id": "ea4db2d7-f778-45d1-83a3-525e208e746a",
   "metadata": {},
   "source": [
    "# Parameters Vs. Arguments?"
   ]
  },
  {
   "cell_type": "markdown",
   "id": "91a10958-d997-410f-a5b0-a25480eee49d",
   "metadata": {},
   "source": [
    "Parameters: These are the names listed in the function definition. They act as placeholders for the actual values that will be passed into the function when it is called.\n",
    "\n",
    "Arguments: These are the actual values that are passed to a function when it is called. Arguments are the values that replace the parameters when the function is invoked."
   ]
  },
  {
   "cell_type": "code",
   "execution_count": 1,
   "id": "e15dfb47-4ed4-4373-8edf-1a034549f911",
   "metadata": {},
   "outputs": [
    {
     "data": {
      "text/plain": [
       "30"
      ]
     },
     "execution_count": 1,
     "metadata": {},
     "output_type": "execute_result"
    }
   ],
   "source": [
    "def add_num(x,y): #x,y are parameters\n",
    "    result = x+y\n",
    "    return result\n",
    "add_num(10,20)"
   ]
  },
  {
   "cell_type": "code",
   "execution_count": 2,
   "id": "9ceb9c05-ac18-4589-b15f-6a175993d3cb",
   "metadata": {},
   "outputs": [
    {
     "name": "stdout",
     "output_type": "stream",
     "text": [
      "10\n"
     ]
    }
   ],
   "source": [
    "def add_num(x,y): #x,y are parameters\n",
    "    print(x)\n",
    "add_num(10,20)"
   ]
  },
  {
   "cell_type": "markdown",
   "id": "0e26f23b-5a38-43bf-ae92-cae321b4d41b",
   "metadata": {},
   "source": [
    "1. positional arguments\n",
    "2. keyword arguments\n",
    "3. default arguments\n",
    "4. variable length arguments"
   ]
  },
  {
   "cell_type": "markdown",
   "id": "990f861a-2a7a-4903-8028-e6f13ec7ba1b",
   "metadata": {},
   "source": [
    "# positional arguments"
   ]
  },
  {
   "cell_type": "code",
   "execution_count": 3,
   "id": "cb2a9152-067f-4401-9499-a296446cdf84",
   "metadata": {},
   "outputs": [
    {
     "data": {
      "text/plain": [
       "30"
      ]
     },
     "execution_count": 3,
     "metadata": {},
     "output_type": "execute_result"
    }
   ],
   "source": [
    "def add_num(x,y): #x,y are parameters\n",
    "    result = x+y\n",
    "    return result\n",
    "add_num(10,20) #10,20 are arguments"
   ]
  },
  {
   "cell_type": "markdown",
   "id": "9bf0fc56-ae8c-449e-acbf-fe6f2477f01a",
   "metadata": {},
   "source": [
    "# keyword arguments"
   ]
  },
  {
   "cell_type": "code",
   "execution_count": 4,
   "id": "9a90e912-57f4-457f-9bcd-45fecf87a659",
   "metadata": {},
   "outputs": [
    {
     "name": "stdout",
     "output_type": "stream",
     "text": [
      "odoo developer\n",
      "100000\n"
     ]
    }
   ],
   "source": [
    "def personal(job,income):\n",
    "    print(job)\n",
    "    print(income)\n",
    "personal(\"odoo developer\",100000)"
   ]
  },
  {
   "cell_type": "code",
   "execution_count": 7,
   "id": "fd0c6829-a1e0-44d4-b15e-527367ca76b7",
   "metadata": {},
   "outputs": [
    {
     "name": "stdout",
     "output_type": "stream",
     "text": [
      "job :  100000\n",
      "income:  odoo developer\n"
     ]
    }
   ],
   "source": [
    "def personal(job,income):\n",
    "    print(\"job : \",job)\n",
    "    print(\"income: \",income)\n",
    "personal(100000,\"odoo developer\")"
   ]
  },
  {
   "cell_type": "markdown",
   "id": "4b08e194-aab9-40ef-89cb-8921e4e7d4a7",
   "metadata": {},
   "source": [
    "# RIGHT KEYWORD ARGUMENT"
   ]
  },
  {
   "cell_type": "code",
   "execution_count": 8,
   "id": "7f19ebfe-7c91-43c7-88e8-d109a6206bbc",
   "metadata": {},
   "outputs": [
    {
     "name": "stdout",
     "output_type": "stream",
     "text": [
      "job :  odoo developer\n",
      "income:  100000\n"
     ]
    }
   ],
   "source": [
    "def personal(job,income):\n",
    "    print(\"job : \",job)\n",
    "    print(\"income: \",income)\n",
    "personal(income = 100000,job = \"odoo developer\")"
   ]
  },
  {
   "cell_type": "markdown",
   "id": "4a7c6a54-bcd8-4317-a359-b6126fd700a4",
   "metadata": {},
   "source": [
    "# DEFAULT ARGUMENTS"
   ]
  },
  {
   "cell_type": "code",
   "execution_count": 9,
   "id": "35a72860-cd03-4276-a6e4-75a0ae62f4b8",
   "metadata": {},
   "outputs": [
    {
     "ename": "TypeError",
     "evalue": "personal() missing 1 required positional argument: 'income'",
     "output_type": "error",
     "traceback": [
      "\u001b[1;31m---------------------------------------------------------------------------\u001b[0m",
      "\u001b[1;31mTypeError\u001b[0m                                 Traceback (most recent call last)",
      "Cell \u001b[1;32mIn[9], line 4\u001b[0m\n\u001b[0;32m      2\u001b[0m     \u001b[38;5;28mprint\u001b[39m(\u001b[38;5;124m\"\u001b[39m\u001b[38;5;124mjob : \u001b[39m\u001b[38;5;124m\"\u001b[39m,job)\n\u001b[0;32m      3\u001b[0m     \u001b[38;5;28mprint\u001b[39m(\u001b[38;5;124m\"\u001b[39m\u001b[38;5;124mincome: \u001b[39m\u001b[38;5;124m\"\u001b[39m,income)\n\u001b[1;32m----> 4\u001b[0m \u001b[43mpersonal\u001b[49m\u001b[43m(\u001b[49m\u001b[38;5;124;43m\"\u001b[39;49m\u001b[38;5;124;43modoo developer\u001b[39;49m\u001b[38;5;124;43m\"\u001b[39;49m\u001b[43m)\u001b[49m\n",
      "\u001b[1;31mTypeError\u001b[0m: personal() missing 1 required positional argument: 'income'"
     ]
    }
   ],
   "source": [
    "def personal(job,income):\n",
    "    print(\"job : \",job)\n",
    "    print(\"income: \",income)\n",
    "personal(\"odoo developer\")"
   ]
  },
  {
   "cell_type": "code",
   "execution_count": 10,
   "id": "5da08acb-6630-425e-a556-57f2ecb49017",
   "metadata": {},
   "outputs": [
    {
     "name": "stdout",
     "output_type": "stream",
     "text": [
      "job :  odoo developer\n",
      "income:  1000\n"
     ]
    }
   ],
   "source": [
    "def personal(job,income= 1000): #income default value set\n",
    "    print(\"job : \",job)\n",
    "    print(\"income: \",income)\n",
    "personal(\"odoo developer\")"
   ]
  },
  {
   "cell_type": "code",
   "execution_count": 11,
   "id": "17325217-1a7d-4048-b9fb-487127978390",
   "metadata": {},
   "outputs": [
    {
     "name": "stdout",
     "output_type": "stream",
     "text": [
      "job :  odoo developer\n",
      "income:  200000\n"
     ]
    }
   ],
   "source": [
    "def personal(job,income= 1000): #income default value set\n",
    "    print(\"job : \",job)\n",
    "    print(\"income: \",income)\n",
    "personal(\"odoo developer\",200000) #200000 this value piority beshi"
   ]
  },
  {
   "cell_type": "markdown",
   "id": "24a838bd-75ef-469b-aac6-d768197f3c13",
   "metadata": {},
   "source": [
    "# variable length arguments"
   ]
  },
  {
   "cell_type": "code",
   "execution_count": 12,
   "id": "b0542220-72eb-4c37-a301-0fe3fcaa7cff",
   "metadata": {},
   "outputs": [
    {
     "name": "stdout",
     "output_type": "stream",
     "text": [
      "(10, 20, 12345, 6, 77, 5)\n"
     ]
    },
    {
     "data": {
      "text/plain": [
       "12463"
      ]
     },
     "execution_count": 12,
     "metadata": {},
     "output_type": "execute_result"
    }
   ],
   "source": [
    "def add_num(*x):\n",
    "    print(x)\n",
    "    result = sum(x)\n",
    "    return result\n",
    "add_num(10,20,12345,6,77,5)"
   ]
  },
  {
   "cell_type": "code",
   "execution_count": 13,
   "id": "0cfc6f42-08c0-4a22-814c-1412ce365646",
   "metadata": {},
   "outputs": [
    {
     "name": "stdout",
     "output_type": "stream",
     "text": [
      "10\n",
      "(20, 102, 343, 5, 55777, 88)\n"
     ]
    }
   ],
   "source": [
    "def add_num(x,*y):\n",
    "    print(x)\n",
    "    print(y)\n",
    "    \n",
    "add_num(10,20,102,343,5,55777,88)"
   ]
  },
  {
   "cell_type": "markdown",
   "id": "226846ce-6eea-4fb7-8f49-2e17727f3cab",
   "metadata": {},
   "source": [
    "# args and *kwagrs"
   ]
  },
  {
   "cell_type": "code",
   "execution_count": null,
   "id": "0e099b36-7f88-4b8b-bc1d-220a06d2f4f0",
   "metadata": {},
   "outputs": [],
   "source": []
  }
 ],
 "metadata": {
  "kernelspec": {
   "display_name": "Python 3 (ipykernel)",
   "language": "python",
   "name": "python3"
  },
  "language_info": {
   "codemirror_mode": {
    "name": "ipython",
    "version": 3
   },
   "file_extension": ".py",
   "mimetype": "text/x-python",
   "name": "python",
   "nbconvert_exporter": "python",
   "pygments_lexer": "ipython3",
   "version": "3.12.7"
  }
 },
 "nbformat": 4,
 "nbformat_minor": 5
}
