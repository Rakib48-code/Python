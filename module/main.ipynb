{
 "cells": [
  {
   "cell_type": "code",
   "execution_count": 1,
   "id": "1986a395-37bd-4744-9790-bfc172a073cd",
   "metadata": {},
   "outputs": [
    {
     "ename": "NameError",
     "evalue": "name 'greet' is not defined",
     "output_type": "error",
     "traceback": [
      "\u001b[1;31m---------------------------------------------------------------------------\u001b[0m",
      "\u001b[1;31mNameError\u001b[0m                                 Traceback (most recent call last)",
      "Cell \u001b[1;32mIn[1], line 1\u001b[0m\n\u001b[1;32m----> 1\u001b[0m \u001b[43mgreet\u001b[49m(\u001b[38;5;124m\"\u001b[39m\u001b[38;5;124mRakib\u001b[39m\u001b[38;5;124m\"\u001b[39m)\n\u001b[0;32m      2\u001b[0m square(\u001b[38;5;241m10\u001b[39m)\n",
      "\u001b[1;31mNameError\u001b[0m: name 'greet' is not defined"
     ]
    }
   ],
   "source": [
    "greet(\"Rakib\")\n",
    "square(10)"
   ]
  },
  {
   "cell_type": "code",
   "execution_count": 2,
   "id": "255f14c8-7e7b-4eb9-b3d1-98df6bec9488",
   "metadata": {},
   "outputs": [
    {
     "name": "stdout",
     "output_type": "stream",
     "text": [
      "My name is Rakib!\n"
     ]
    },
    {
     "data": {
      "text/plain": [
       "100"
      ]
     },
     "execution_count": 2,
     "metadata": {},
     "output_type": "execute_result"
    }
   ],
   "source": [
    "import test_modules\n",
    "\n",
    "test_modules.greet(\"Rakib\")\n",
    "test_modules.square(10)"
   ]
  },
  {
   "cell_type": "code",
   "execution_count": 3,
   "id": "acbaf9ae-76cb-4bba-9841-c246035b8363",
   "metadata": {},
   "outputs": [
    {
     "name": "stdout",
     "output_type": "stream",
     "text": [
      "My name is Fahim!\n"
     ]
    }
   ],
   "source": [
    "from test_modules import greet\n",
    "greet(\"Fahim\")"
   ]
  },
  {
   "cell_type": "code",
   "execution_count": 4,
   "id": "4a1d54d7-f22f-4cac-b4f7-569e79dc7dbb",
   "metadata": {},
   "outputs": [
    {
     "data": {
      "text/plain": [
       "100"
      ]
     },
     "execution_count": 4,
     "metadata": {},
     "output_type": "execute_result"
    }
   ],
   "source": [
    "from test_modules import square\n",
    "square(10)"
   ]
  },
  {
   "cell_type": "markdown",
   "id": "fb2d624b-7a10-4584-b0a4-4b5da3c6f404",
   "metadata": {},
   "source": [
    "# Module er sob function ke ek sathe call korte import er * dilei hbe"
   ]
  },
  {
   "cell_type": "code",
   "execution_count": 5,
   "id": "51ebbb32-085a-497b-9622-8cd5521a2cea",
   "metadata": {},
   "outputs": [
    {
     "name": "stdout",
     "output_type": "stream",
     "text": [
      "My name is Fahim!\n"
     ]
    },
    {
     "data": {
      "text/plain": [
       "400"
      ]
     },
     "execution_count": 5,
     "metadata": {},
     "output_type": "execute_result"
    }
   ],
   "source": [
    "from test_modules import *\n",
    "greet(\"Fahim\")\n",
    "square(20)"
   ]
  },
  {
   "cell_type": "code",
   "execution_count": null,
   "id": "f5fc1dac-f82d-45a4-af93-fcda545d3aeb",
   "metadata": {},
   "outputs": [],
   "source": []
  }
 ],
 "metadata": {
  "kernelspec": {
   "display_name": "Python 3 (ipykernel)",
   "language": "python",
   "name": "python3"
  },
  "language_info": {
   "codemirror_mode": {
    "name": "ipython",
    "version": 3
   },
   "file_extension": ".py",
   "mimetype": "text/x-python",
   "name": "python",
   "nbconvert_exporter": "python",
   "pygments_lexer": "ipython3",
   "version": "3.12.7"
  }
 },
 "nbformat": 4,
 "nbformat_minor": 5
}
