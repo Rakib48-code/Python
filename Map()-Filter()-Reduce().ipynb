{
 "cells": [
  {
   "cell_type": "markdown",
   "id": "0f75888f-54b7-4e83-b8c5-e0826b0e5dc8",
   "metadata": {},
   "source": [
    "# Lambda with map(), filter(), reduce()"
   ]
  },
  {
   "cell_type": "markdown",
   "id": "4ae8b3f1-6cee-4431-9e84-c3a3668676dd",
   "metadata": {},
   "source": [
    "map(): when you want to apply a function to each element of an iterable and get a transformed iterable as a result.\n",
    "\n",
    "filter(): Use filter when you want to selectively include or exclude elements from an iterable based on a condition.\n",
    "    \n",
    "reduce(): Use reduce when you want to successively apply a binary function to the items of an iterable, reducing it to a single accumulated result."
   ]
  },
  {
   "cell_type": "code",
   "execution_count": 1,
   "id": "c7eba2c9-87f1-4867-b883-761f22de3122",
   "metadata": {},
   "outputs": [
    {
     "data": {
      "text/plain": [
       "[1, 2, 4, 5, 6, 7]"
      ]
     },
     "execution_count": 1,
     "metadata": {},
     "output_type": "execute_result"
    }
   ],
   "source": [
    "num = [1,2,4,5,6,7]\n",
    "num"
   ]
  },
  {
   "cell_type": "code",
   "execution_count": 2,
   "id": "ab1ab493-ec51-4888-b086-f6b0e8a9d06b",
   "metadata": {},
   "outputs": [
    {
     "data": {
      "text/plain": [
       "27"
      ]
     },
     "execution_count": 2,
     "metadata": {},
     "output_type": "execute_result"
    }
   ],
   "source": [
    "def sq(x):\n",
    "    return x**x\n",
    "sq(3)"
   ]
  },
  {
   "cell_type": "markdown",
   "id": "b9e9df17-949e-4843-a1e5-ff1c69330e54",
   "metadata": {},
   "source": [
    "Iterable object are list,tuple,set,dict"
   ]
  },
  {
   "cell_type": "markdown",
   "id": "ede38c6b-00e4-4080-b8b9-7f7540af6c45",
   "metadata": {},
   "source": [
    "# map(function,iterable object)"
   ]
  },
  {
   "cell_type": "code",
   "execution_count": 8,
   "id": "1606029e-60e2-40d5-aaf9-03427a23d7fb",
   "metadata": {},
   "outputs": [],
   "source": [
    "no = [1,2,4,5,7,10]"
   ]
  },
  {
   "cell_type": "code",
   "execution_count": 9,
   "id": "531806f8-9d3b-42d6-ac3e-6f56f8c83970",
   "metadata": {},
   "outputs": [
    {
     "data": {
      "text/plain": [
       "[1, 2, 4, 5, 7, 10]"
      ]
     },
     "execution_count": 9,
     "metadata": {},
     "output_type": "execute_result"
    }
   ],
   "source": [
    "no"
   ]
  },
  {
   "cell_type": "code",
   "execution_count": 11,
   "id": "ff10c723-ecba-4c5a-8bc9-54c7b47822e2",
   "metadata": {},
   "outputs": [],
   "source": [
    "no = list(map(lambda x:x**2,no))"
   ]
  },
  {
   "cell_type": "code",
   "execution_count": 12,
   "id": "b698fc2c-86d5-4109-a819-bf8f8996a333",
   "metadata": {},
   "outputs": [
    {
     "data": {
      "text/plain": [
       "[1, 4, 16, 25, 49, 100]"
      ]
     },
     "execution_count": 12,
     "metadata": {},
     "output_type": "execute_result"
    }
   ],
   "source": [
    "no"
   ]
  },
  {
   "cell_type": "markdown",
   "id": "376b009d-6221-4cfe-8004-29dde1a2af8e",
   "metadata": {},
   "source": [
    "# filter(function,iterable object)"
   ]
  },
  {
   "cell_type": "code",
   "execution_count": 13,
   "id": "c1ddf30d-2570-4200-aba0-8409a9fe094d",
   "metadata": {},
   "outputs": [],
   "source": [
    "no = [1,2,4,5,7,10]"
   ]
  },
  {
   "cell_type": "code",
   "execution_count": 14,
   "id": "8aad4e1e-c030-4ced-971a-e395a8c30489",
   "metadata": {},
   "outputs": [
    {
     "data": {
      "text/plain": [
       "[1, 2, 4, 5, 7, 10]"
      ]
     },
     "execution_count": 14,
     "metadata": {},
     "output_type": "execute_result"
    }
   ],
   "source": [
    "no"
   ]
  },
  {
   "cell_type": "code",
   "execution_count": 15,
   "id": "4bd933d6-a2e1-4da7-ba65-248076acbf33",
   "metadata": {},
   "outputs": [
    {
     "data": {
      "text/plain": [
       "[1, 5, 7]"
      ]
     },
     "execution_count": 15,
     "metadata": {},
     "output_type": "execute_result"
    }
   ],
   "source": [
    "no = list(filter(lambda no: no % 2 ==1,no)) #no % 2 !== 0 same as no % 2 == 1\n",
    "no"
   ]
  },
  {
   "cell_type": "markdown",
   "id": "9a2fc7ea-e405-4948-b8f6-22c5cbc61220",
   "metadata": {},
   "source": [
    "# Reduce"
   ]
  },
  {
   "cell_type": "code",
   "execution_count": 2,
   "id": "59080340-f5d4-403f-ac36-69810ef33234",
   "metadata": {},
   "outputs": [],
   "source": [
    "from functools import reduce"
   ]
  },
  {
   "cell_type": "code",
   "execution_count": 3,
   "id": "4274c9b4-a1d2-46ef-b27d-5d610764e7fa",
   "metadata": {},
   "outputs": [
    {
     "data": {
      "text/plain": [
       "67"
      ]
     },
     "execution_count": 3,
     "metadata": {},
     "output_type": "execute_result"
    }
   ],
   "source": [
    "num = [1,22,44]\n",
    "reduce(lambda a,b:a+b,num)"
   ]
  },
  {
   "cell_type": "code",
   "execution_count": null,
   "id": "883dbe2c-cd61-4055-bf7e-80918221909b",
   "metadata": {},
   "outputs": [],
   "source": []
  }
 ],
 "metadata": {
  "kernelspec": {
   "display_name": "Python 3 (ipykernel)",
   "language": "python",
   "name": "python3"
  },
  "language_info": {
   "codemirror_mode": {
    "name": "ipython",
    "version": 3
   },
   "file_extension": ".py",
   "mimetype": "text/x-python",
   "name": "python",
   "nbconvert_exporter": "python",
   "pygments_lexer": "ipython3",
   "version": "3.12.7"
  }
 },
 "nbformat": 4,
 "nbformat_minor": 5
}
