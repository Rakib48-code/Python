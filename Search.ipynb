{
 "cells": [
  {
   "cell_type": "markdown",
   "id": "eaa2a640-d2e8-4425-abe9-156ecd21c637",
   "metadata": {},
   "source": [
    "# How to search and replace text in a file in python"
   ]
  },
  {
   "cell_type": "code",
   "execution_count": 2,
   "id": "e595609e-6ec0-4a0c-8282-f4d6fd722c29",
   "metadata": {},
   "outputs": [],
   "source": [
    "search_word = \"rakib\"\n",
    "replace_word = \"Fahim\"\n",
    "\n",
    "with open(r'text1.txt', 'r') as file:\n",
    "    data = file.read()\n",
    "    data = data.replace(search_word, replace_word)\n",
    "with open(r'text1.txt', 'w') as file:\n",
    "    file.write(data)"
   ]
  },
  {
   "cell_type": "code",
   "execution_count": null,
   "id": "fd18ac6e-ea75-4d88-ac9d-0670d39c9b16",
   "metadata": {},
   "outputs": [],
   "source": []
  },
  {
   "cell_type": "code",
   "execution_count": 3,
   "id": "d97090a0-3614-49a9-ac05-bf5a4c641d60",
   "metadata": {},
   "outputs": [
    {
     "data": {
      "text/plain": [
       "'Hi my name is Rakib'"
      ]
     },
     "execution_count": 3,
     "metadata": {},
     "output_type": "execute_result"
    }
   ],
   "source": [
    "text = \"Hi my name is Fahim\"\n",
    "replace_word = \"Fahim\" #search word\n",
    "search_word = \"Rakib\" #replace word\n",
    "\n",
    "import re\n",
    "re.sub(replace_word,search_word,text) #re.sub(search_word,repalce word,string variable)"
   ]
  },
  {
   "cell_type": "code",
   "execution_count": null,
   "id": "b6fe3282-0417-4bb0-8224-e970b58be5ca",
   "metadata": {},
   "outputs": [],
   "source": []
  }
 ],
 "metadata": {
  "kernelspec": {
   "display_name": "Python 3 (ipykernel)",
   "language": "python",
   "name": "python3"
  },
  "language_info": {
   "codemirror_mode": {
    "name": "ipython",
    "version": 3
   },
   "file_extension": ".py",
   "mimetype": "text/x-python",
   "name": "python",
   "nbconvert_exporter": "python",
   "pygments_lexer": "ipython3",
   "version": "3.12.7"
  }
 },
 "nbformat": 4,
 "nbformat_minor": 5
}
