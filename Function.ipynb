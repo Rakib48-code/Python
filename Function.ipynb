{
 "cells": [
  {
   "cell_type": "markdown",
   "id": "17723866-67d4-4a6d-9515-8fc67f8fb76e",
   "metadata": {},
   "source": [
    "# 1. Understanding Functions:"
   ]
  },
  {
   "cell_type": "markdown",
   "id": "0dfea725-21be-444b-a35c-4d5369f29706",
   "metadata": {},
   "source": [
    "-> A function is a block of organized, reusable code that performs a specific task.\n",
    "-> Functions help in making your code modular, more readable, and easier to maintain."
   ]
  },
  {
   "cell_type": "markdown",
   "id": "f73f4cc8-2f9e-4a7c-8d6d-c46c6f33e84f",
   "metadata": {},
   "source": [
    "# 2. Function Definition:"
   ]
  },
  {
   "cell_type": "markdown",
   "id": "4ccd9a82-aee3-45c4-83e1-983a6daa2076",
   "metadata": {},
   "source": [
    "To define a function, use the def keyword followed by the function name and parentheses. For example:"
   ]
  },
  {
   "cell_type": "code",
   "execution_count": 1,
   "id": "8bf8a371-e959-483b-95f2-114d7e886f80",
   "metadata": {},
   "outputs": [],
   "source": [
    "def func():\n",
    "    print(2+2)\n",
    "    print(\"My name is Rakib Hasan\")"
   ]
  },
  {
   "cell_type": "markdown",
   "id": "b0e0fe1c-bf78-4dee-bc8e-a562c0366799",
   "metadata": {},
   "source": [
    "# 3. Function Call"
   ]
  },
  {
   "cell_type": "markdown",
   "id": "9dfcbff9-c5af-46bd-8457-c0819cd6c73f",
   "metadata": {},
   "source": [
    "To execute a function, call it by using its name followed by parentheses:"
   ]
  },
  {
   "cell_type": "code",
   "execution_count": 2,
   "id": "6ef42e01-236a-47c4-b0a9-8bae34322621",
   "metadata": {},
   "outputs": [
    {
     "name": "stdout",
     "output_type": "stream",
     "text": [
      "4\n",
      "My name is Rakib Hasan\n"
     ]
    }
   ],
   "source": [
    "func()"
   ]
  },
  {
   "cell_type": "markdown",
   "id": "3cd45646-cdb0-473e-b87f-c534c73b88dd",
   "metadata": {},
   "source": [
    "# 4. Parameters:"
   ]
  },
  {
   "cell_type": "markdown",
   "id": "272a4f4f-913e-4516-acd8-7921250041f9",
   "metadata": {},
   "source": [
    "Functions can accept parameters (inputs). Parameters are variables that are used as placeholders for the actual values when the function is called."
   ]
  },
  {
   "cell_type": "code",
   "execution_count": 5,
   "id": "263390c6-e259-43be-8d5d-696679459305",
   "metadata": {},
   "outputs": [],
   "source": [
    "def person(name):\n",
    "    print(f\"My name is {name}\")"
   ]
  },
  {
   "cell_type": "markdown",
   "id": "46836449-396a-44c0-8548-f1a5ae0998b6",
   "metadata": {},
   "source": [
    "You can call this function with a specific value:"
   ]
  },
  {
   "cell_type": "code",
   "execution_count": 4,
   "id": "1e07f361-e0b4-4964-a098-842a8fbd6323",
   "metadata": {},
   "outputs": [
    {
     "name": "stdout",
     "output_type": "stream",
     "text": [
      "My name is Fahim Hasan\n"
     ]
    }
   ],
   "source": [
    "person(\"Fahim Hasan\")"
   ]
  },
  {
   "cell_type": "markdown",
   "id": "87d999d8-1a1e-4e6c-9ce3-e8eae85c4ff3",
   "metadata": {},
   "source": [
    "# 5. Return Statement:"
   ]
  },
  {
   "cell_type": "markdown",
   "id": "59cef83c-eb41-4270-bfca-ec31fda1d184",
   "metadata": {},
   "source": [
    "Functions can return a value using the \"return\" statement. This is useful when you want to use the result of a function elsewhere in your code."
   ]
  },
  {
   "cell_type": "code",
   "execution_count": 6,
   "id": "7e2a018d-b7ca-4311-a0ae-420846c44ed2",
   "metadata": {},
   "outputs": [],
   "source": [
    "def add():\n",
    "    return 10 + 10"
   ]
  },
  {
   "cell_type": "code",
   "execution_count": 7,
   "id": "36428364-6be3-417f-aab2-712ec9b51edd",
   "metadata": {},
   "outputs": [
    {
     "data": {
      "text/plain": [
       "20"
      ]
     },
     "execution_count": 7,
     "metadata": {},
     "output_type": "execute_result"
    }
   ],
   "source": [
    "add()"
   ]
  },
  {
   "cell_type": "code",
   "execution_count": 8,
   "id": "5780b2ed-86e3-48c5-896c-9d4233a8a67e",
   "metadata": {},
   "outputs": [],
   "source": [
    "def add():\n",
    "    return func()"
   ]
  },
  {
   "cell_type": "code",
   "execution_count": 9,
   "id": "7afd4c31-fc2a-4b86-a1f5-a1f3124a9511",
   "metadata": {},
   "outputs": [
    {
     "name": "stdout",
     "output_type": "stream",
     "text": [
      "4\n",
      "My name is Rakib Hasan\n"
     ]
    }
   ],
   "source": [
    "add()"
   ]
  },
  {
   "cell_type": "markdown",
   "id": "dab597c6-d852-4c77-984c-ccb4c3781450",
   "metadata": {},
   "source": [
    "# Question: 01"
   ]
  },
  {
   "cell_type": "markdown",
   "id": "f8ac9c3f-8058-4953-94a5-1b6833d24113",
   "metadata": {},
   "source": [
    "Write a function that wont take any parameters explicitly. Instead, it defines local variables a and b within the function and returns their sum. The values of a and b are fixed within the function"
   ]
  },
  {
   "cell_type": "code",
   "execution_count": 16,
   "id": "9c0b2a03-e355-41ad-8a0b-79670650c629",
   "metadata": {},
   "outputs": [],
   "source": [
    "def addition():\n",
    "    a = 100\n",
    "    b = 400\n",
    "    return a+b"
   ]
  },
  {
   "cell_type": "code",
   "execution_count": 17,
   "id": "66293b19-df75-4128-9826-6e1b030ec7be",
   "metadata": {},
   "outputs": [
    {
     "data": {
      "text/plain": [
       "500"
      ]
     },
     "execution_count": 17,
     "metadata": {},
     "output_type": "execute_result"
    }
   ],
   "source": [
    "addition()"
   ]
  },
  {
   "cell_type": "code",
   "execution_count": 18,
   "id": "c135428f-ba48-4bd9-a1ae-55462c0d48a5",
   "metadata": {},
   "outputs": [],
   "source": [
    "def addition():\n",
    "    a = 100\n",
    "    b = 400\n",
    "    result = a+b\n",
    "    return result"
   ]
  },
  {
   "cell_type": "code",
   "execution_count": 19,
   "id": "25c17952-eba0-4b1e-b390-a5694652fd3e",
   "metadata": {},
   "outputs": [
    {
     "data": {
      "text/plain": [
       "500"
      ]
     },
     "execution_count": 19,
     "metadata": {},
     "output_type": "execute_result"
    }
   ],
   "source": [
    "addition()"
   ]
  },
  {
   "cell_type": "markdown",
   "id": "413ad6f9-6208-4c91-ab50-9a9988802943",
   "metadata": {},
   "source": [
    "# Question: 02"
   ]
  },
  {
   "cell_type": "markdown",
   "id": "6cb46912-7e3b-4bf3-a05b-9dd6c621a2a0",
   "metadata": {},
   "source": [
    "Write a function that will take two parameters, a and b, and returns their sum. The values of a and b will not fixed within the function; they are determined by the arguments passed when the function is called. That will make the function more flexible because it can add any two numbers, not just the fixed values in the first function."
   ]
  },
  {
   "cell_type": "code",
   "execution_count": 20,
   "id": "0d092cea-4883-4df7-a8b9-aa129b50a71b",
   "metadata": {},
   "outputs": [],
   "source": [
    "def parameters(a,b):\n",
    "    result = a + b\n",
    "    return result"
   ]
  },
  {
   "cell_type": "code",
   "execution_count": 21,
   "id": "504804dd-fd7a-4e41-90d0-df74317c5665",
   "metadata": {},
   "outputs": [
    {
     "data": {
      "text/plain": [
       "500"
      ]
     },
     "execution_count": 21,
     "metadata": {},
     "output_type": "execute_result"
    }
   ],
   "source": [
    "parameters(250,250)"
   ]
  },
  {
   "cell_type": "code",
   "execution_count": 22,
   "id": "31f1f34e-886d-47df-8ee6-ebac221234b1",
   "metadata": {},
   "outputs": [],
   "source": [
    "def parameters(a,b):\n",
    "    result = a + b\n",
    "    return result"
   ]
  },
  {
   "cell_type": "code",
   "execution_count": 24,
   "id": "0adcea36-6a64-4db6-8fec-c17a5c2e7ae4",
   "metadata": {},
   "outputs": [
    {
     "data": {
      "text/plain": [
       "2000"
      ]
     },
     "execution_count": 24,
     "metadata": {},
     "output_type": "execute_result"
    }
   ],
   "source": [
    "parameters(1000, 1000)"
   ]
  },
  {
   "cell_type": "markdown",
   "id": "b749ee81-5602-4169-89ba-8207937224fb",
   "metadata": {},
   "source": [
    "The key difference lies in the flexibility and reusability of the second function, which can add any two numbers based on the arguments provided, while the first function is limited to adding the fixed values a and b."
   ]
  },
  {
   "cell_type": "code",
   "execution_count": null,
   "id": "af75e7a7-028e-4d98-af11-527693c125ce",
   "metadata": {},
   "outputs": [],
   "source": []
  }
 ],
 "metadata": {
  "kernelspec": {
   "display_name": "Python 3 (ipykernel)",
   "language": "python",
   "name": "python3"
  },
  "language_info": {
   "codemirror_mode": {
    "name": "ipython",
    "version": 3
   },
   "file_extension": ".py",
   "mimetype": "text/x-python",
   "name": "python",
   "nbconvert_exporter": "python",
   "pygments_lexer": "ipython3",
   "version": "3.12.7"
  }
 },
 "nbformat": 4,
 "nbformat_minor": 5
}
