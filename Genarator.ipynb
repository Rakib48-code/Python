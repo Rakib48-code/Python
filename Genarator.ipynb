{
 "cells": [
  {
   "cell_type": "markdown",
   "id": "f3585faf-047d-45db-b852-6fa4b0b38d08",
   "metadata": {},
   "source": [
    "# generator ek bare print kora jai \n",
    "# ekta iteration(for loop) chalaite hoi"
   ]
  },
  {
   "cell_type": "code",
   "execution_count": 1,
   "id": "fa19bd9d-5a42-4329-b39d-a8b51a75e97f",
   "metadata": {},
   "outputs": [
    {
     "name": "stdout",
     "output_type": "stream",
     "text": [
      "0\n",
      "1\n",
      "2\n",
      "3\n",
      "4\n",
      "5\n",
      "6\n",
      "7\n",
      "8\n",
      "9\n"
     ]
    }
   ],
   "source": [
    "sq_gen = (x for x in range(10)) #this line are generator\n",
    "for i in sq_gen:\n",
    "    print(i)"
   ]
  },
  {
   "cell_type": "code",
   "execution_count": 2,
   "id": "1ae1b67c-a0a1-44d7-9a89-b2c637c4a415",
   "metadata": {},
   "outputs": [
    {
     "name": "stdout",
     "output_type": "stream",
     "text": [
      "0\n",
      "1\n",
      "4\n",
      "9\n",
      "16\n",
      "25\n",
      "36\n",
      "49\n",
      "64\n",
      "81\n"
     ]
    }
   ],
   "source": [
    "sq_gen = (x**2 for x in range(10)) #this line are generator\n",
    "for i in sq_gen:\n",
    "    print(i)"
   ]
  },
  {
   "cell_type": "code",
   "execution_count": 3,
   "id": "264ca1a0-359b-4687-bb5a-dbb10ea37927",
   "metadata": {},
   "outputs": [
    {
     "name": "stdout",
     "output_type": "stream",
     "text": [
      "0\n",
      "2\n",
      "4\n",
      "6\n",
      "8\n"
     ]
    }
   ],
   "source": [
    "sq_gen = (x for x in range(10) if x % 2 == 0) #this line are generator\n",
    "for i in sq_gen:\n",
    "    print(i)"
   ]
  },
  {
   "cell_type": "code",
   "execution_count": null,
   "id": "2d3e6bc2-e830-4b68-ac22-fd7aa1d2d537",
   "metadata": {},
   "outputs": [],
   "source": []
  }
 ],
 "metadata": {
  "kernelspec": {
   "display_name": "Python 3 (ipykernel)",
   "language": "python",
   "name": "python3"
  },
  "language_info": {
   "codemirror_mode": {
    "name": "ipython",
    "version": 3
   },
   "file_extension": ".py",
   "mimetype": "text/x-python",
   "name": "python",
   "nbconvert_exporter": "python",
   "pygments_lexer": "ipython3",
   "version": "3.12.7"
  }
 },
 "nbformat": 4,
 "nbformat_minor": 5
}
