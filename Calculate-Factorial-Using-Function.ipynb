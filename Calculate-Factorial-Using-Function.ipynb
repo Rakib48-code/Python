{
 "cells": [
  {
   "cell_type": "markdown",
   "id": "db9cd310-3542-4202-9352-fd426d10dfb0",
   "metadata": {},
   "source": [
    "# The Factorial"
   ]
  },
  {
   "cell_type": "code",
   "execution_count": 3,
   "id": "04cdd083-ab3e-47e7-ad31-12d93fb98e1d",
   "metadata": {},
   "outputs": [
    {
     "data": {
      "text/plain": [
       "120"
      ]
     },
     "execution_count": 3,
     "metadata": {},
     "output_type": "execute_result"
    }
   ],
   "source": [
    "def fact(x):\n",
    "    result = 1\n",
    "    if x==1 or x==0:\n",
    "        print(f\"The {x}! is = 1\")\n",
    "        return 1\n",
    "    else:\n",
    "        for i in range(x):\n",
    "            result = result * (i+1)\n",
    "        return result\n",
    "\n",
    "fact(5)    "
   ]
  },
  {
   "cell_type": "code",
   "execution_count": null,
   "id": "226822e8-2d60-4bea-87e4-943e5a3b77da",
   "metadata": {},
   "outputs": [],
   "source": []
  }
 ],
 "metadata": {
  "kernelspec": {
   "display_name": "Python 3 (ipykernel)",
   "language": "python",
   "name": "python3"
  },
  "language_info": {
   "codemirror_mode": {
    "name": "ipython",
    "version": 3
   },
   "file_extension": ".py",
   "mimetype": "text/x-python",
   "name": "python",
   "nbconvert_exporter": "python",
   "pygments_lexer": "ipython3",
   "version": "3.12.7"
  }
 },
 "nbformat": 4,
 "nbformat_minor": 5
}
