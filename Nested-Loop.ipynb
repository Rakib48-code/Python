{
 "cells": [
  {
   "cell_type": "markdown",
   "id": "be43c529-19ee-4cba-bb5a-a17c87b403f6",
   "metadata": {},
   "source": [
    "# Build Pyramid"
   ]
  },
  {
   "cell_type": "code",
   "execution_count": 2,
   "id": "94e2d10d-f994-4495-a383-875b4f16dc32",
   "metadata": {},
   "outputs": [
    {
     "name": "stdout",
     "output_type": "stream",
     "text": [
      "R \n",
      "R R \n",
      "R R R \n",
      "R R R R \n",
      "R R R R R \n"
     ]
    }
   ],
   "source": [
    "row = 5\n",
    "#outer loop\n",
    "for x in range(1,row+1):\n",
    "    #inner loop\n",
    "    for y in range(1,x+1):\n",
    "        print(\"R\",end = \" \")\n",
    "    print(\"\")"
   ]
  },
  {
   "cell_type": "markdown",
   "id": "525a04ff-c5fc-415f-9440-24340c5221ed",
   "metadata": {},
   "source": [
    "# Nested Loop using while loop"
   ]
  },
  {
   "cell_type": "code",
   "execution_count": 3,
   "id": "4e9d51f5-fb96-46e6-bd96-c08c73a8ff1a",
   "metadata": {},
   "outputs": [
    {
     "name": "stdout",
     "output_type": "stream",
     "text": [
      "1 2 3 4 \n",
      "\n",
      "1 2 3 4 \n",
      "\n",
      "1 2 3 4 \n",
      "\n",
      "1 2 3 4 \n",
      "\n"
     ]
    }
   ],
   "source": [
    "n = [1,2,3,4]\n",
    "#outer loop\n",
    "for i in n:\n",
    "    #inner loop\n",
    "    index = 0\n",
    "    while index < len(n):\n",
    "        print(n[index], end = \" \")\n",
    "        index += 1\n",
    "    print(\"\\n\")"
   ]
  },
  {
   "cell_type": "code",
   "execution_count": 4,
   "id": "5574461b-ccfc-4a59-badd-b492e9c5a161",
   "metadata": {},
   "outputs": [
    {
     "name": "stdout",
     "output_type": "stream",
     "text": [
      "1 2 3 4 1 2 3 4 1 2 3 4 1 2 3 4 "
     ]
    }
   ],
   "source": [
    "n = [1,2,3,4]\n",
    "#outer loop\n",
    "for i in n:\n",
    "    #inner loop\n",
    "    index = 0\n",
    "    while index < len(n):\n",
    "        print(n[index], end = \" \")\n",
    "        index += 1\n",
    "    #print(\"\\n\")"
   ]
  },
  {
   "cell_type": "code",
   "execution_count": null,
   "id": "f4e317d8-3800-40c6-aa1f-9578bee75eb0",
   "metadata": {},
   "outputs": [],
   "source": []
  }
 ],
 "metadata": {
  "kernelspec": {
   "display_name": "Python 3 (ipykernel)",
   "language": "python",
   "name": "python3"
  },
  "language_info": {
   "codemirror_mode": {
    "name": "ipython",
    "version": 3
   },
   "file_extension": ".py",
   "mimetype": "text/x-python",
   "name": "python",
   "nbconvert_exporter": "python",
   "pygments_lexer": "ipython3",
   "version": "3.12.7"
  }
 },
 "nbformat": 4,
 "nbformat_minor": 5
}
