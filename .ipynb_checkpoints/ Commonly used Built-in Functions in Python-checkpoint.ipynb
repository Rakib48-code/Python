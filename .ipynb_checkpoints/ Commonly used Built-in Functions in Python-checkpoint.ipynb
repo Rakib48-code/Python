{
 "cells": [
  {
   "cell_type": "markdown",
   "id": "1aa58bf3-2a59-4054-954e-0d96a23a58a4",
   "metadata": {},
   "source": [
    "#  Commonly used Built-in Functions in Python"
   ]
  },
  {
   "cell_type": "markdown",
   "id": "47a1e0a9-92db-4a80-9f44-fa012edaf614",
   "metadata": {},
   "source": [
    "# 1. print(): Outputs text or variables to the console."
   ]
  },
  {
   "cell_type": "code",
   "execution_count": 1,
   "id": "c259e2ed-4b2d-4598-8852-b391d290fc98",
   "metadata": {},
   "outputs": [
    {
     "name": "stdout",
     "output_type": "stream",
     "text": [
      "Hello World!\n"
     ]
    }
   ],
   "source": [
    "print(\"Hello World!\")"
   ]
  },
  {
   "cell_type": "markdown",
   "id": "458b9d63-ecec-4b12-8a8c-99cabe242ed7",
   "metadata": {},
   "source": [
    "# 2. len(): Returns the length of an object."
   ]
  },
  {
   "cell_type": "code",
   "execution_count": 2,
   "id": "cd334ba1-604b-409a-903d-216ab24f6cd8",
   "metadata": {},
   "outputs": [
    {
     "name": "stdout",
     "output_type": "stream",
     "text": [
      "10\n"
     ]
    }
   ],
   "source": [
    "my_list = [1,2,3,4,5,6,7,8,9,0]\n",
    "print(len(my_list))"
   ]
  },
  {
   "cell_type": "code",
   "execution_count": 3,
   "id": "c4bfc145-1671-4a85-9aa2-d981b6115a34",
   "metadata": {},
   "outputs": [
    {
     "name": "stdout",
     "output_type": "stream",
     "text": [
      "11\n"
     ]
    }
   ],
   "source": [
    "name = \"Rakib Hasan\"\n",
    "length = len(name)\n",
    "print(length)"
   ]
  },
  {
   "cell_type": "markdown",
   "id": "7c83aeb0-35af-4d6c-9275-1d7c91a158f6",
   "metadata": {},
   "source": [
    "# 3. input(): Reads input from the user."
   ]
  },
  {
   "cell_type": "code",
   "execution_count": 4,
   "id": "59f765cf-eb9e-4264-b06c-a488ce2eaebe",
   "metadata": {},
   "outputs": [
    {
     "name": "stdin",
     "output_type": "stream",
     "text": [
      "Enter your name :  Fahim Hasan\n"
     ]
    },
    {
     "name": "stdout",
     "output_type": "stream",
     "text": [
      "('My name is ', 'Fahim Hasan')\n"
     ]
    }
   ],
   "source": [
    "name = input(\"Enter your name : \")\n",
    "result = (\"My name is \",name)\n",
    "print(result)"
   ]
  },
  {
   "cell_type": "code",
   "execution_count": 5,
   "id": "b9c72b48-c73a-4884-97ac-9f589e444c2c",
   "metadata": {},
   "outputs": [
    {
     "name": "stdin",
     "output_type": "stream",
     "text": [
      "Enter Name :  rakib\n"
     ]
    },
    {
     "name": "stdout",
     "output_type": "stream",
     "text": [
      "my name is rakib\n"
     ]
    }
   ],
   "source": [
    "nam = input(\"Enter Name : \")\n",
    "val = \"my name is\"\n",
    "print(val,nam)"
   ]
  },
  {
   "cell_type": "markdown",
   "id": "f1eea4b4-31b1-4969-b192-567311d0aa84",
   "metadata": {},
   "source": [
    "# 4. type(): Returns the type of an object."
   ]
  },
  {
   "cell_type": "code",
   "execution_count": 6,
   "id": "bdd92729-6a0a-44f2-ba82-06a76cfa66e5",
   "metadata": {},
   "outputs": [
    {
     "data": {
      "text/plain": [
       "int"
      ]
     },
     "execution_count": 6,
     "metadata": {},
     "output_type": "execute_result"
    }
   ],
   "source": [
    "x = 5\n",
    "type(x)"
   ]
  },
  {
   "cell_type": "code",
   "execution_count": 7,
   "id": "48e58345-b3f0-4a5d-a036-2d1d9d458784",
   "metadata": {},
   "outputs": [
    {
     "data": {
      "text/plain": [
       "float"
      ]
     },
     "execution_count": 7,
     "metadata": {},
     "output_type": "execute_result"
    }
   ],
   "source": [
    "y = 10.50\n",
    "type(y)"
   ]
  },
  {
   "cell_type": "markdown",
   "id": "66a32bc6-dc49-4dd5-954c-5e20b083e5bc",
   "metadata": {},
   "source": [
    "# 5. int(), float(), str(): Converts values to integers, floats, or strings."
   ]
  },
  {
   "cell_type": "code",
   "execution_count": 8,
   "id": "dcaf8723-d127-4bd5-bf4a-93083da8db69",
   "metadata": {},
   "outputs": [
    {
     "data": {
      "text/plain": [
       "int"
      ]
     },
     "execution_count": 8,
     "metadata": {},
     "output_type": "execute_result"
    }
   ],
   "source": [
    "#string to int\n",
    "num = '99'\n",
    "convert_num = int(num)\n",
    "type(convert_num)"
   ]
  },
  {
   "cell_type": "code",
   "execution_count": 11,
   "id": "ff300c21-a5cb-436b-8d4c-ed9d16d474c5",
   "metadata": {},
   "outputs": [
    {
     "data": {
      "text/plain": [
       "float"
      ]
     },
     "execution_count": 11,
     "metadata": {},
     "output_type": "execute_result"
    }
   ],
   "source": [
    "#int to float\n",
    "num1 = 99\n",
    "conv_float = float(num1)\n",
    "type(conv_float)"
   ]
  },
  {
   "cell_type": "code",
   "execution_count": 12,
   "id": "fd7e4114-f22d-4184-a8cc-62b71d1e2874",
   "metadata": {},
   "outputs": [
    {
     "data": {
      "text/plain": [
       "int"
      ]
     },
     "execution_count": 12,
     "metadata": {},
     "output_type": "execute_result"
    }
   ],
   "source": [
    "#float to int\n",
    "f = 99.99\n",
    "conv_int = int(f)\n",
    "type(conv_int)"
   ]
  },
  {
   "cell_type": "markdown",
   "id": "7a0f157a-07e3-4552-ab6a-6c8113cf86ea",
   "metadata": {},
   "source": [
    "# 6. range(): Generates a sequence of numbers."
   ]
  },
  {
   "cell_type": "code",
   "execution_count": 13,
   "id": "de23b9f8-7a03-488c-abb1-e8c5b95cc3e5",
   "metadata": {},
   "outputs": [
    {
     "name": "stdout",
     "output_type": "stream",
     "text": [
      "range(1, 10)\n"
     ]
    }
   ],
   "source": [
    "x = range(1,10)\n",
    "print(x)"
   ]
  },
  {
   "cell_type": "code",
   "execution_count": 14,
   "id": "2b3ff843-cb7e-4541-af0c-4ffe742f5c57",
   "metadata": {},
   "outputs": [
    {
     "name": "stdout",
     "output_type": "stream",
     "text": [
      "[1, 2, 3, 4, 5, 6, 7, 8, 9, 10]\n"
     ]
    }
   ],
   "source": [
    "numbers = list(range(1,11))\n",
    "print(numbers)"
   ]
  },
  {
   "cell_type": "markdown",
   "id": "abb02355-8b9c-43df-82f9-ed949a51d364",
   "metadata": {},
   "source": [
    "# 7. sum(): Returns the sum of all elements in an iterable."
   ]
  },
  {
   "cell_type": "code",
   "execution_count": 15,
   "id": "9eea9917-7d9d-4805-85fa-2114cb8472cf",
   "metadata": {},
   "outputs": [
    {
     "name": "stdout",
     "output_type": "stream",
     "text": [
      "55\n"
     ]
    }
   ],
   "source": [
    "list1 = [1,2,3,4,5,6,7,8,9,10]\n",
    "fin = sum(list1)\n",
    "print(fin)"
   ]
  },
  {
   "cell_type": "code",
   "execution_count": null,
   "id": "5297ed46-da5d-48e8-a2de-0f7ec7a5f741",
   "metadata": {},
   "outputs": [],
   "source": []
  }
 ],
 "metadata": {
  "kernelspec": {
   "display_name": "Python 3 (ipykernel)",
   "language": "python",
   "name": "python3"
  },
  "language_info": {
   "codemirror_mode": {
    "name": "ipython",
    "version": 3
   },
   "file_extension": ".py",
   "mimetype": "text/x-python",
   "name": "python",
   "nbconvert_exporter": "python",
   "pygments_lexer": "ipython3",
   "version": "3.12.7"
  }
 },
 "nbformat": 4,
 "nbformat_minor": 5
}
