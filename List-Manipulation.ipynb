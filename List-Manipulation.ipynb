{
 "cells": [
  {
   "cell_type": "code",
   "execution_count": 2,
   "id": "d84cf2ee-6500-4b57-8ad3-ef5af9e4d446",
   "metadata": {},
   "outputs": [
    {
     "data": {
      "text/plain": [
       "[1, 2, 3, 4, 5, 6, 7, 8, 9]"
      ]
     },
     "execution_count": 2,
     "metadata": {},
     "output_type": "execute_result"
    }
   ],
   "source": [
    "def remove_duplicates(input_list):\n",
    "    unique_list = []\n",
    "\n",
    "    for i in input_list:\n",
    "        if i not in unique_list:\n",
    "            unique_list.append(i)\n",
    "    return unique_list\n",
    "        \n",
    "input_list = [1,2,3,4,3,4,5,6,7,8,9,4,6,7,2,4,6,7]\n",
    "remove_duplicates(input_list)"
   ]
  },
  {
   "cell_type": "code",
   "execution_count": 4,
   "id": "e04ba5bb-0ec3-4659-a5c1-d6978f3750a2",
   "metadata": {},
   "outputs": [
    {
     "name": "stdout",
     "output_type": "stream",
     "text": [
      "real list = [1, 2, 3, 4, 3, 4, 5, 6, 7, 8, 9, 4, 6, 7, 2, 4, 6, 7]\n"
     ]
    }
   ],
   "source": [
    "print(f\"real list = {input_list}\")"
   ]
  },
  {
   "cell_type": "code",
   "execution_count": 10,
   "id": "ddac4429-38a0-4245-8630-4559cea3cd41",
   "metadata": {},
   "outputs": [
    {
     "name": "stdout",
     "output_type": "stream",
     "text": [
      "final list = [1, 2, 3, 4, 5, 6, 7, 8, 9]\n"
     ]
    }
   ],
   "source": [
    "print(f\"final list = {remove_duplicates(input_list)}\")"
   ]
  },
  {
   "cell_type": "markdown",
   "id": "5b935e77-4c06-4d78-a7b1-290451fc16a4",
   "metadata": {},
   "source": [
    "# List comprehension"
   ]
  },
  {
   "cell_type": "code",
   "execution_count": 12,
   "id": "d75a29d0-eeae-45c6-a338-c7d7ffbecfe2",
   "metadata": {},
   "outputs": [
    {
     "data": {
      "text/plain": [
       "[2, 4, 6, 8, 10, 12, 14, 16, 18]"
      ]
     },
     "execution_count": 12,
     "metadata": {},
     "output_type": "execute_result"
    }
   ],
   "source": [
    "def double_elements(input_list):\n",
    "    double_list = [2*x for x in input_list]\n",
    "\n",
    "    return double_list\n",
    "input_list = [1,2,3,4,5,6,7,8,9]\n",
    "double_elements(input_list)"
   ]
  },
  {
   "cell_type": "code",
   "execution_count": null,
   "id": "03bd40c7-7db0-4d8d-9ff4-76541054dd5f",
   "metadata": {},
   "outputs": [],
   "source": []
  }
 ],
 "metadata": {
  "kernelspec": {
   "display_name": "Python 3 (ipykernel)",
   "language": "python",
   "name": "python3"
  },
  "language_info": {
   "codemirror_mode": {
    "name": "ipython",
    "version": 3
   },
   "file_extension": ".py",
   "mimetype": "text/x-python",
   "name": "python",
   "nbconvert_exporter": "python",
   "pygments_lexer": "ipython3",
   "version": "3.12.7"
  }
 },
 "nbformat": 4,
 "nbformat_minor": 5
}
