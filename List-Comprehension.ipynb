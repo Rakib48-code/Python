{
 "cells": [
  {
   "cell_type": "code",
   "execution_count": 1,
   "id": "c844c404-9e29-43f7-833b-5e53b2e97482",
   "metadata": {},
   "outputs": [
    {
     "name": "stdout",
     "output_type": "stream",
     "text": [
      "[0, 1, 4, 9, 16, 25, 36, 49, 64, 81]\n"
     ]
    }
   ],
   "source": [
    "square = [x**2 for x in range(10)]\n",
    "print(square)"
   ]
  },
  {
   "cell_type": "code",
   "execution_count": 2,
   "id": "45caeecb-d034-4765-9d45-a2c3fcc760da",
   "metadata": {},
   "outputs": [
    {
     "data": {
      "text/plain": [
       "[0, 1, 2, 3, 4, 5, 6, 7, 8, 9]"
      ]
     },
     "execution_count": 2,
     "metadata": {},
     "output_type": "execute_result"
    }
   ],
   "source": [
    "[x for x in range(10)]"
   ]
  },
  {
   "cell_type": "code",
   "execution_count": 3,
   "id": "bac39b63-1bb2-49d7-99a9-d6872baa6f5b",
   "metadata": {},
   "outputs": [
    {
     "name": "stdout",
     "output_type": "stream",
     "text": [
      "0\n",
      "1\n",
      "2\n",
      "3\n",
      "4\n",
      "5\n",
      "6\n",
      "7\n",
      "8\n",
      "9\n"
     ]
    }
   ],
   "source": [
    "for x in range(10):\n",
    "    print(x)"
   ]
  },
  {
   "cell_type": "markdown",
   "id": "d3306a3b-f129-457b-9197-9c89df9d30fa",
   "metadata": {},
   "source": [
    "# using condition"
   ]
  },
  {
   "cell_type": "code",
   "execution_count": 4,
   "id": "a5a236e3-853a-494c-8d8c-37e0b87c4ac4",
   "metadata": {},
   "outputs": [
    {
     "name": "stdout",
     "output_type": "stream",
     "text": [
      "[0, 4, 16, 36, 64, 100]\n"
     ]
    }
   ],
   "source": [
    "val = [x**2 for x in range(11) if x % 2 == 0]\n",
    "print(val)"
   ]
  },
  {
   "cell_type": "code",
   "execution_count": 5,
   "id": "796c1ce3-f687-4270-95ec-357dd66a356d",
   "metadata": {},
   "outputs": [
    {
     "name": "stdout",
     "output_type": "stream",
     "text": [
      "['i', ' ', 'l', 'o', 'v', 'e', ' ', 'o', 'd', 'o', 'o', ' ', 's', 'o', ' ', 'm', 'u', 'c', 'h']\n"
     ]
    }
   ],
   "source": [
    "data = \"i love odoo so much\"\n",
    "var = [x for x in data]\n",
    "print(var)"
   ]
  },
  {
   "cell_type": "code",
   "execution_count": 6,
   "id": "3cff0d96-9dab-4778-a6ca-4cf548776343",
   "metadata": {},
   "outputs": [
    {
     "name": "stdout",
     "output_type": "stream",
     "text": [
      "[' ', 'l', 'o', 'v', 'e', ' ', 'o', 'd', 'o', 'o', ' ', 's', 'o', ' ', 'm', 'u', 'c', 'h']\n"
     ]
    }
   ],
   "source": [
    "data = \"i love odoo so much\"\n",
    "var = [x for x in data if x != \"i\"]\n",
    "print(var)"
   ]
  },
  {
   "cell_type": "code",
   "execution_count": 7,
   "id": "df8728fa-7bf9-4e01-9df4-183c0c5bc75b",
   "metadata": {},
   "outputs": [
    {
     "name": "stdout",
     "output_type": "stream",
     "text": [
      "['love', 'odoo', 'so', 'much']\n"
     ]
    }
   ],
   "source": [
    "data = \"i love odoo so much\"\n",
    "data = data.split()\n",
    "var = [x for x in data if x != \"i\"]\n",
    "print(var)"
   ]
  },
  {
   "cell_type": "markdown",
   "id": "fae06da5-6d88-4bdf-90f3-3df7604410b6",
   "metadata": {},
   "source": [
    "# Creating a Matrix Using List Comprehension in Python"
   ]
  },
  {
   "cell_type": "code",
   "execution_count": 9,
   "id": "cc770470-55da-4e4b-a5e9-44c905164825",
   "metadata": {},
   "outputs": [
    {
     "name": "stdout",
     "output_type": "stream",
     "text": [
      "[[0, 1, 2, 3, 4], [0, 1, 2, 3, 4], [0, 1, 2, 3, 4]]\n"
     ]
    }
   ],
   "source": [
    "matrix = [[j for j in range(5)] for i in range(3)] # [[inner loop] outer loop]\n",
    "print(matrix)"
   ]
  },
  {
   "cell_type": "markdown",
   "id": "ef6e5f17-fe9a-4abd-a2c9-1015da616ac6",
   "metadata": {},
   "source": [
    "# Using Functions In List Comprehension"
   ]
  },
  {
   "cell_type": "code",
   "execution_count": 1,
   "id": "c2232d35-dfee-4380-a24e-fd1e638f0568",
   "metadata": {},
   "outputs": [
    {
     "name": "stdout",
     "output_type": "stream",
     "text": [
      "[6, 6, 13, 7]\n"
     ]
    }
   ],
   "source": [
    "words = [\"python\",\"kotlin\",\"comprehension\",\"example\"]\n",
    "length = [len(word) for word in words]\n",
    "print(length)"
   ]
  }
 ],
 "metadata": {
  "kernelspec": {
   "display_name": "Python 3 (ipykernel)",
   "language": "python",
   "name": "python3"
  },
  "language_info": {
   "codemirror_mode": {
    "name": "ipython",
    "version": 3
   },
   "file_extension": ".py",
   "mimetype": "text/x-python",
   "name": "python",
   "nbconvert_exporter": "python",
   "pygments_lexer": "ipython3",
   "version": "3.12.7"
  }
 },
 "nbformat": 4,
 "nbformat_minor": 5
}
