{
 "cells": [
  {
   "cell_type": "markdown",
   "id": "87b742dd-a449-464b-8bba-3dd0568c40ef",
   "metadata": {},
   "source": [
    "# Zip in python"
   ]
  },
  {
   "cell_type": "code",
   "execution_count": 1,
   "id": "8b37a376-3fd6-47c9-a442-95238b8ff805",
   "metadata": {},
   "outputs": [
    {
     "name": "stdout",
     "output_type": "stream",
     "text": [
      "<zip object at 0x000001C9BA3A8700>\n"
     ]
    }
   ],
   "source": [
    "name = [\"rakib\",\"fahim\",\"faysal\"]\n",
    "versity = [\"smuct\",\"uosa\",\"wub\"]\n",
    "zipped = zip(name,versity)\n",
    "print(zipped)"
   ]
  },
  {
   "cell_type": "code",
   "execution_count": 2,
   "id": "3224d591-86a3-440b-a077-dd8f1c5b5cd6",
   "metadata": {},
   "outputs": [
    {
     "name": "stdout",
     "output_type": "stream",
     "text": [
      "[('rakib', 'smuct'), ('fahim', 'uosa'), ('faysal', 'wub')]\n"
     ]
    }
   ],
   "source": [
    "name = [\"rakib\",\"fahim\",\"faysal\"]\n",
    "versity = [\"smuct\",\"uosa\",\"wub\"]\n",
    "zipped = list(zip(name,versity))\n",
    "print(zipped)"
   ]
  },
  {
   "cell_type": "code",
   "execution_count": 3,
   "id": "e87aea71-148d-4117-a7fc-2e59c443e68f",
   "metadata": {},
   "outputs": [
    {
     "name": "stdout",
     "output_type": "stream",
     "text": [
      "(('rakib', 'smuct'), ('fahim', 'uosa'), ('faysal', 'wub'))\n"
     ]
    }
   ],
   "source": [
    "name = [\"rakib\",\"fahim\",\"faysal\"]\n",
    "versity = [\"smuct\",\"uosa\",\"wub\"]\n",
    "zipped = tuple(zip(name,versity))\n",
    "print(zipped)"
   ]
  },
  {
   "cell_type": "code",
   "execution_count": 4,
   "id": "4ee8edaa-5958-4504-89eb-48c65aaeecdb",
   "metadata": {},
   "outputs": [
    {
     "name": "stdout",
     "output_type": "stream",
     "text": [
      "{'rakib': 'smuct', 'fahim': 'uosa', 'faysal': 'wub'}\n"
     ]
    }
   ],
   "source": [
    "name = [\"rakib\",\"fahim\",\"faysal\"]\n",
    "versity = [\"smuct\",\"uosa\",\"wub\"]\n",
    "zipped = dict(zip(name,versity))\n",
    "print(zipped)"
   ]
  },
  {
   "cell_type": "code",
   "execution_count": 5,
   "id": "55b18031-3d6c-4605-bfde-26844e794457",
   "metadata": {},
   "outputs": [
    {
     "name": "stdout",
     "output_type": "stream",
     "text": [
      "{('faysal', 'wub'), ('rakib', 'smuct'), ('fahim', 'uosa')}\n"
     ]
    }
   ],
   "source": [
    "name = [\"rakib\",\"fahim\",\"faysal\"]\n",
    "versity = [\"smuct\",\"uosa\",\"wub\"]\n",
    "zipped = set(zip(name,versity))\n",
    "print(zipped)"
   ]
  },
  {
   "cell_type": "code",
   "execution_count": 6,
   "id": "eeefd90c-6f54-405e-af7d-b97ddabe76de",
   "metadata": {},
   "outputs": [
    {
     "name": "stdout",
     "output_type": "stream",
     "text": [
      "{'rakib': 'smuct', 'fahim': 'uosa', 'faysal': 'wub'}\n"
     ]
    }
   ],
   "source": [
    "name = [\"rakib\",\"fahim\",\"faysal\"]\n",
    "versity = [\"smuct\",\"uosa\",\"wub\"]\n",
    "zipped = dict(zip(name,versity))\n",
    "print(zipped)"
   ]
  },
  {
   "cell_type": "code",
   "execution_count": 7,
   "id": "f1ff6350-1e60-468a-93b3-b1e04b87f149",
   "metadata": {},
   "outputs": [
    {
     "data": {
      "text/plain": [
       "dict_keys(['rakib', 'fahim', 'faysal'])"
      ]
     },
     "execution_count": 7,
     "metadata": {},
     "output_type": "execute_result"
    }
   ],
   "source": [
    "zipped.keys()"
   ]
  },
  {
   "cell_type": "code",
   "execution_count": 8,
   "id": "982cc27c-0ece-4417-a964-b0a8038da102",
   "metadata": {},
   "outputs": [
    {
     "data": {
      "text/plain": [
       "dict_values(['smuct', 'uosa', 'wub'])"
      ]
     },
     "execution_count": 8,
     "metadata": {},
     "output_type": "execute_result"
    }
   ],
   "source": [
    "zipped.values()"
   ]
  },
  {
   "cell_type": "markdown",
   "id": "2a66752d-1daa-4021-831f-5932535e712e",
   "metadata": {},
   "source": [
    "# unzip"
   ]
  },
  {
   "cell_type": "code",
   "execution_count": 11,
   "id": "6eb32169-f533-45f6-8800-0cd32902af1d",
   "metadata": {},
   "outputs": [
    {
     "name": "stdout",
     "output_type": "stream",
     "text": [
      "[('rakib', 'smuct'), ('fahim', 'uosa'), ('faysal', 'wub')]\n"
     ]
    }
   ],
   "source": [
    "name = [\"rakib\",\"fahim\",\"faysal\"]\n",
    "versity = [\"smuct\",\"uosa\",\"wub\"]\n",
    "zipped = list(zip(name,versity))\n",
    "print(zipped)"
   ]
  },
  {
   "cell_type": "code",
   "execution_count": 12,
   "id": "f1bda051-c527-496e-8edf-d86c1802a058",
   "metadata": {},
   "outputs": [],
   "source": [
    "name1,versity1 = zip(*zipped)"
   ]
  },
  {
   "cell_type": "code",
   "execution_count": 13,
   "id": "11be612d-eabe-4c59-a061-072d327b042e",
   "metadata": {},
   "outputs": [
    {
     "data": {
      "text/plain": [
       "('rakib', 'fahim', 'faysal')"
      ]
     },
     "execution_count": 13,
     "metadata": {},
     "output_type": "execute_result"
    }
   ],
   "source": [
    "name1"
   ]
  },
  {
   "cell_type": "code",
   "execution_count": 14,
   "id": "11fb0650-f56e-407f-a90d-7da36b734fdc",
   "metadata": {},
   "outputs": [
    {
     "data": {
      "text/plain": [
       "('smuct', 'uosa', 'wub')"
      ]
     },
     "execution_count": 14,
     "metadata": {},
     "output_type": "execute_result"
    }
   ],
   "source": [
    "versity1"
   ]
  },
  {
   "cell_type": "code",
   "execution_count": null,
   "id": "d51e9036-a696-4cb9-bafb-cbb5ca828bcd",
   "metadata": {},
   "outputs": [],
   "source": []
  }
 ],
 "metadata": {
  "kernelspec": {
   "display_name": "Python 3 (ipykernel)",
   "language": "python",
   "name": "python3"
  },
  "language_info": {
   "codemirror_mode": {
    "name": "ipython",
    "version": 3
   },
   "file_extension": ".py",
   "mimetype": "text/x-python",
   "name": "python",
   "nbconvert_exporter": "python",
   "pygments_lexer": "ipython3",
   "version": "3.12.7"
  }
 },
 "nbformat": 4,
 "nbformat_minor": 5
}
