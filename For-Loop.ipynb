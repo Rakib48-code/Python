{
 "cells": [
  {
   "cell_type": "raw",
   "id": "d0e0cc23-2b74-49ca-b1f4-38d80c6e1092",
   "metadata": {},
   "source": [
    "name = \"rakib\""
   ]
  },
  {
   "cell_type": "code",
   "execution_count": 2,
   "id": "88f7f272-4387-4112-85d2-b99fcebd561e",
   "metadata": {},
   "outputs": [
    {
     "data": {
      "text/plain": [
       "'rakib'"
      ]
     },
     "execution_count": 2,
     "metadata": {},
     "output_type": "execute_result"
    }
   ],
   "source": [
    "name"
   ]
  },
  {
   "cell_type": "code",
   "execution_count": 3,
   "id": "1be65a26-85bc-4f73-a7a5-44cd8bde132e",
   "metadata": {},
   "outputs": [
    {
     "data": {
      "text/plain": [
       "str"
      ]
     },
     "execution_count": 3,
     "metadata": {},
     "output_type": "execute_result"
    }
   ],
   "source": [
    "type(name)"
   ]
  },
  {
   "cell_type": "code",
   "execution_count": 4,
   "id": "6b0dbe3d-4d4c-4be0-8a02-0f2e30d1a8ec",
   "metadata": {},
   "outputs": [],
   "source": [
    "data = [\"Rakib\"]"
   ]
  },
  {
   "cell_type": "code",
   "execution_count": 5,
   "id": "6e183eef-d3b0-4039-8c32-7b67dbd5dd40",
   "metadata": {},
   "outputs": [
    {
     "data": {
      "text/plain": [
       "list"
      ]
     },
     "execution_count": 5,
     "metadata": {},
     "output_type": "execute_result"
    }
   ],
   "source": [
    "type(data)"
   ]
  },
  {
   "cell_type": "code",
   "execution_count": 6,
   "id": "5c17887e-6fa6-4985-8ad5-f5b9b19b35c2",
   "metadata": {},
   "outputs": [
    {
     "data": {
      "text/plain": [
       "'Rakib'"
      ]
     },
     "execution_count": 6,
     "metadata": {},
     "output_type": "execute_result"
    }
   ],
   "source": [
    "data[0]"
   ]
  },
  {
   "cell_type": "code",
   "execution_count": 7,
   "id": "b45e7541-f482-4e71-96a5-11b8d270de0b",
   "metadata": {},
   "outputs": [
    {
     "name": "stdout",
     "output_type": "stream",
     "text": [
      "Rakib\n"
     ]
    }
   ],
   "source": [
    "for i in data:\n",
    "    print(i)"
   ]
  },
  {
   "cell_type": "code",
   "execution_count": 8,
   "id": "f5cdc438-9151-4240-8c86-a5c7876ccf32",
   "metadata": {},
   "outputs": [
    {
     "name": "stdout",
     "output_type": "stream",
     "text": [
      "0\n"
     ]
    }
   ],
   "source": [
    "for i in range(len(data)):\n",
    "    print(i)"
   ]
  },
  {
   "cell_type": "code",
   "execution_count": 9,
   "id": "158bc873-f44b-42ed-8fe7-742d3f6bd32e",
   "metadata": {},
   "outputs": [],
   "source": [
    "data = \"python\""
   ]
  },
  {
   "cell_type": "code",
   "execution_count": 10,
   "id": "63fb61a3-b3d3-4e9e-bba9-042aee8e0539",
   "metadata": {},
   "outputs": [
    {
     "data": {
      "text/plain": [
       "'p'"
      ]
     },
     "execution_count": 10,
     "metadata": {},
     "output_type": "execute_result"
    }
   ],
   "source": [
    "data[0]"
   ]
  },
  {
   "cell_type": "code",
   "execution_count": 11,
   "id": "8233d1fe-d674-45c4-aebf-76d5dcc0c75c",
   "metadata": {},
   "outputs": [
    {
     "data": {
      "text/plain": [
       "'n'"
      ]
     },
     "execution_count": 11,
     "metadata": {},
     "output_type": "execute_result"
    }
   ],
   "source": [
    "data[-1]"
   ]
  },
  {
   "cell_type": "code",
   "execution_count": 12,
   "id": "c3292084-f8e7-45ef-b8b1-0cf73e7f457a",
   "metadata": {},
   "outputs": [
    {
     "name": "stdout",
     "output_type": "stream",
     "text": [
      "p rakib\n",
      "y rakib\n",
      "t rakib\n",
      "h rakib\n",
      "o rakib\n",
      "n rakib\n"
     ]
    }
   ],
   "source": [
    "for x in data:\n",
    "    print(x,\"rakib\")"
   ]
  },
  {
   "cell_type": "code",
   "execution_count": 13,
   "id": "b7637347-df19-4fe3-acff-7e1c697fdd9e",
   "metadata": {},
   "outputs": [
    {
     "data": {
      "text/plain": [
       "range(0, 10)"
      ]
     },
     "execution_count": 13,
     "metadata": {},
     "output_type": "execute_result"
    }
   ],
   "source": [
    "range(10)"
   ]
  },
  {
   "cell_type": "code",
   "execution_count": 15,
   "id": "c74e4edd-cb5e-4f45-a6be-595ee31f6d25",
   "metadata": {},
   "outputs": [
    {
     "name": "stdout",
     "output_type": "stream",
     "text": [
      "p 0\n",
      "y 1\n",
      "t 2\n",
      "h 3\n",
      "o 4\n",
      "n 5\n"
     ]
    }
   ],
   "source": [
    "for x in range(len(data)):\n",
    "    print(data[x],x)"
   ]
  },
  {
   "cell_type": "code",
   "execution_count": 16,
   "id": "14837535-2e2b-4fa3-8b76-f5a8139c953b",
   "metadata": {},
   "outputs": [
    {
     "data": {
      "text/plain": [
       "6"
      ]
     },
     "execution_count": 16,
     "metadata": {},
     "output_type": "execute_result"
    }
   ],
   "source": [
    "len(data)"
   ]
  },
  {
   "cell_type": "code",
   "execution_count": 2,
   "id": "22f100ec-6d94-4835-8715-45c59291fd22",
   "metadata": {},
   "outputs": [],
   "source": [
    "data = \"Rakib\""
   ]
  },
  {
   "cell_type": "code",
   "execution_count": 3,
   "id": "05fcec07-5fc0-4073-a890-aafb7aa4cf9d",
   "metadata": {},
   "outputs": [
    {
     "data": {
      "text/plain": [
       "5"
      ]
     },
     "execution_count": 3,
     "metadata": {},
     "output_type": "execute_result"
    }
   ],
   "source": [
    "len(data)"
   ]
  },
  {
   "cell_type": "code",
   "execution_count": 4,
   "id": "b93ba115-3178-4c9b-a5ae-9f5cd5242c7b",
   "metadata": {},
   "outputs": [
    {
     "name": "stdout",
     "output_type": "stream",
     "text": [
      "R\n",
      "a\n",
      "k\n",
      "i\n",
      "b\n"
     ]
    }
   ],
   "source": [
    "for i in range(5):\n",
    "    print(data[i])"
   ]
  },
  {
   "cell_type": "code",
   "execution_count": 6,
   "id": "626b0414-f820-41da-8019-57ba179dd161",
   "metadata": {},
   "outputs": [
    {
     "name": "stdout",
     "output_type": "stream",
     "text": [
      "so\n",
      "so\n",
      "so\n",
      "so\n",
      "so\n",
      "so\n"
     ]
    }
   ],
   "source": [
    "var = \"i love data science so much\"\n",
    "var = var.split()\n",
    "for x in range(len(var)):\n",
    "    print(var[i])"
   ]
  },
  {
   "cell_type": "code",
   "execution_count": 7,
   "id": "5419266a-1ed3-4b0b-893e-3d4e1183122c",
   "metadata": {},
   "outputs": [
    {
     "name": "stdout",
     "output_type": "stream",
     "text": [
      "b\n",
      "b\n",
      "b\n",
      "b\n",
      "b\n",
      "b\n"
     ]
    }
   ],
   "source": [
    "var = \"i love data science so much\"\n",
    "var = var.split()\n",
    "for x in range(len(var)):\n",
    "    print(data[i])"
   ]
  },
  {
   "cell_type": "code",
   "execution_count": 8,
   "id": "e77a0514-3ef3-46fc-bed0-35b2808171d7",
   "metadata": {},
   "outputs": [
    {
     "name": "stdout",
     "output_type": "stream",
     "text": [
      "i\n",
      "love\n",
      "data\n",
      "science\n",
      "so\n",
      "much\n"
     ]
    }
   ],
   "source": [
    "var = \"i love data science so much\"\n",
    "var = var.split()\n",
    "for x in range(len(var)):\n",
    "    print(var[x])\n"
   ]
  },
  {
   "cell_type": "markdown",
   "id": "89f8974d-7324-499f-acbb-1bffecb6a843",
   "metadata": {},
   "source": [
    "# Sum Number using for loop"
   ]
  },
  {
   "cell_type": "code",
   "execution_count": 9,
   "id": "63929a91-1a0f-44eb-8af1-365e8b1d73fb",
   "metadata": {},
   "outputs": [
    {
     "name": "stdout",
     "output_type": "stream",
     "text": [
      "2 2\n",
      "5 3\n",
      "9 4\n",
      "64 55\n",
      "124 60\n",
      "201 77\n",
      "301 100\n"
     ]
    }
   ],
   "source": [
    "n = [2,3,4,55,60,77,100]\n",
    "total = 0\n",
    "for x in n:\n",
    "    total = total + x\n",
    "    print(total,x)\n"
   ]
  },
  {
   "cell_type": "code",
   "execution_count": 10,
   "id": "b14bdc63-6e88-4ebf-ab51-d60fa2a427de",
   "metadata": {},
   "outputs": [
    {
     "name": "stdout",
     "output_type": "stream",
     "text": [
      "301\n"
     ]
    }
   ],
   "source": [
    "n = [2,3,4,55,60,77,100]\n",
    "total = 0\n",
    "for x in n:\n",
    "    total = total + x\n",
    "   # print(total,x)\n",
    "print(total)"
   ]
  },
  {
   "cell_type": "code",
   "execution_count": 11,
   "id": "abf63a02-ba9a-4f91-bc6e-a11c897867fc",
   "metadata": {},
   "outputs": [
    {
     "name": "stdout",
     "output_type": "stream",
     "text": [
      "Rakib 0\n",
      "Rakib 1\n",
      "Rakib 2\n",
      "Rakib 3\n",
      "Rakib 4\n",
      "Rakib 5\n",
      "Rakib 6\n",
      "Rakib 7\n",
      "Rakib 8\n",
      "Rakib 9\n"
     ]
    }
   ],
   "source": [
    "for i in range(10):\n",
    "    print(\"Rakib\",i)"
   ]
  },
  {
   "cell_type": "code",
   "execution_count": 12,
   "id": "b5934bd8-e822-46fc-86bb-d90d93604fdf",
   "metadata": {},
   "outputs": [
    {
     "name": "stdout",
     "output_type": "stream",
     "text": [
      "Rakib 5\n",
      "Rakib 6\n",
      "Rakib 7\n",
      "Rakib 8\n",
      "Rakib 9\n"
     ]
    }
   ],
   "source": [
    "for i in range(5,10):\n",
    "    print(\"Rakib\",i)"
   ]
  },
  {
   "cell_type": "code",
   "execution_count": 13,
   "id": "c0d1eaae-26a0-40ee-a4f5-cf02c3b7669c",
   "metadata": {},
   "outputs": [
    {
     "name": "stdout",
     "output_type": "stream",
     "text": [
      "Rakib 5\n",
      "Rakib 7\n",
      "Rakib 9\n"
     ]
    }
   ],
   "source": [
    "for i in range(5,10,2):\n",
    "    print(\"Rakib\",i)"
   ]
  },
  {
   "cell_type": "code",
   "execution_count": 14,
   "id": "432e1cfb-b0a1-439d-ba31-c4debf633a6b",
   "metadata": {},
   "outputs": [
    {
     "name": "stdout",
     "output_type": "stream",
     "text": [
      "Rakib 100\n",
      "Rakib 90\n",
      "Rakib 80\n",
      "Rakib 70\n",
      "Rakib 60\n"
     ]
    }
   ],
   "source": [
    "for i in range(100,50,-10):\n",
    "    print(\"Rakib\",i)"
   ]
  },
  {
   "cell_type": "code",
   "execution_count": null,
   "id": "4f44dcd3-5868-454e-bea8-9a3cdcef41c6",
   "metadata": {},
   "outputs": [],
   "source": []
  }
 ],
 "metadata": {
  "kernelspec": {
   "display_name": "Python 3 (ipykernel)",
   "language": "python",
   "name": "python3"
  },
  "language_info": {
   "codemirror_mode": {
    "name": "ipython",
    "version": 3
   },
   "file_extension": ".py",
   "mimetype": "text/x-python",
   "name": "python",
   "nbconvert_exporter": "python",
   "pygments_lexer": "ipython3",
   "version": "3.12.7"
  }
 },
 "nbformat": 4,
 "nbformat_minor": 5
}
