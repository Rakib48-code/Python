{
 "cells": [
  {
   "cell_type": "markdown",
   "id": "9ade0167-1531-4cec-b49e-6c2a832b3695",
   "metadata": {},
   "source": [
    "# List In Python"
   ]
  },
  {
   "cell_type": "code",
   "execution_count": 1,
   "id": "2931d682-86bd-4d07-93a0-1a2372baa2dd",
   "metadata": {},
   "outputs": [
    {
     "name": "stdout",
     "output_type": "stream",
     "text": [
      "[1, 2, 3, 4, 5]\n"
     ]
    }
   ],
   "source": [
    "l1 = [1,2,3,4,5]\n",
    "print(l1)"
   ]
  },
  {
   "cell_type": "code",
   "execution_count": 2,
   "id": "90c13177-3b02-4ff3-8a40-473296bb053c",
   "metadata": {},
   "outputs": [
    {
     "data": {
      "text/plain": [
       "list"
      ]
     },
     "execution_count": 2,
     "metadata": {},
     "output_type": "execute_result"
    }
   ],
   "source": [
    "type(l1)"
   ]
  },
  {
   "cell_type": "code",
   "execution_count": 3,
   "id": "90a33fc8-34fe-477d-92d6-77f982001838",
   "metadata": {},
   "outputs": [
    {
     "data": {
      "text/plain": [
       "1"
      ]
     },
     "execution_count": 3,
     "metadata": {},
     "output_type": "execute_result"
    }
   ],
   "source": [
    "l1[0] #variable[index]"
   ]
  },
  {
   "cell_type": "code",
   "execution_count": 4,
   "id": "a202b807-28b7-40c9-94ca-54152ab6565c",
   "metadata": {},
   "outputs": [
    {
     "data": {
      "text/plain": [
       "5"
      ]
     },
     "execution_count": 4,
     "metadata": {},
     "output_type": "execute_result"
    }
   ],
   "source": [
    "l1[-1]"
   ]
  },
  {
   "cell_type": "code",
   "execution_count": 5,
   "id": "d599f143-1e9c-46b6-b4c5-75498fa0e5d0",
   "metadata": {},
   "outputs": [
    {
     "data": {
      "text/plain": [
       "[1, 2]"
      ]
     },
     "execution_count": 5,
     "metadata": {},
     "output_type": "execute_result"
    }
   ],
   "source": [
    "l1[0:2] #0 : 2-1"
   ]
  },
  {
   "cell_type": "code",
   "execution_count": 6,
   "id": "4752effd-9356-4d56-8a63-dd2c2c8f73c3",
   "metadata": {},
   "outputs": [
    {
     "data": {
      "text/plain": [
       "[1, 2, 3]"
      ]
     },
     "execution_count": 6,
     "metadata": {},
     "output_type": "execute_result"
    }
   ],
   "source": [
    "l1[0:3]"
   ]
  },
  {
   "cell_type": "code",
   "execution_count": 7,
   "id": "9aba70e3-aa71-418b-921e-872e4fab7b37",
   "metadata": {},
   "outputs": [
    {
     "data": {
      "text/plain": [
       "['Rakib', 2, 3, 4, 5]"
      ]
     },
     "execution_count": 7,
     "metadata": {},
     "output_type": "execute_result"
    }
   ],
   "source": [
    "l1[0] = \"Rakib\"\n",
    "l1"
   ]
  },
  {
   "cell_type": "code",
   "execution_count": 8,
   "id": "87975001-cc9e-4d09-951f-98964546c29f",
   "metadata": {},
   "outputs": [],
   "source": [
    "l2 = [1,2,3,4,55,6,6,7,8,9,9] #allow duplicate value"
   ]
  },
  {
   "cell_type": "code",
   "execution_count": 9,
   "id": "e2f969bb-73b2-4bf3-923c-bd49ff735e38",
   "metadata": {},
   "outputs": [
    {
     "data": {
      "text/plain": [
       "[1, 2, 3, 4, 55, 6, 6, 7, 8, 9, 9]"
      ]
     },
     "execution_count": 9,
     "metadata": {},
     "output_type": "execute_result"
    }
   ],
   "source": [
    "l2"
   ]
  },
  {
   "cell_type": "code",
   "execution_count": 10,
   "id": "79769998-b6e6-44a9-bd45-8300411f3df6",
   "metadata": {},
   "outputs": [],
   "source": [
    "l2.append(\"python\")"
   ]
  },
  {
   "cell_type": "code",
   "execution_count": 11,
   "id": "016ae49e-8d7a-4c51-8dcf-80e29847c0db",
   "metadata": {},
   "outputs": [
    {
     "data": {
      "text/plain": [
       "[1, 2, 3, 4, 55, 6, 6, 7, 8, 9, 9, 'python']"
      ]
     },
     "execution_count": 11,
     "metadata": {},
     "output_type": "execute_result"
    }
   ],
   "source": [
    "l2"
   ]
  },
  {
   "cell_type": "code",
   "execution_count": 12,
   "id": "6d501dab-f081-4d24-b738-bf1db8c8cb32",
   "metadata": {},
   "outputs": [
    {
     "data": {
      "text/plain": [
       "'python'"
      ]
     },
     "execution_count": 12,
     "metadata": {},
     "output_type": "execute_result"
    }
   ],
   "source": [
    "l2.pop()"
   ]
  },
  {
   "cell_type": "code",
   "execution_count": 13,
   "id": "04812ffd-a780-41a4-90d1-9151ee7cce59",
   "metadata": {},
   "outputs": [
    {
     "data": {
      "text/plain": [
       "[1, 2, 3, 4, 55, 6, 6, 7, 8, 9, 9]"
      ]
     },
     "execution_count": 13,
     "metadata": {},
     "output_type": "execute_result"
    }
   ],
   "source": [
    "l2"
   ]
  },
  {
   "cell_type": "code",
   "execution_count": 14,
   "id": "dd11a00c-c1a3-4ab4-94a0-de1ce18d691e",
   "metadata": {},
   "outputs": [
    {
     "data": {
      "text/plain": [
       "55"
      ]
     },
     "execution_count": 14,
     "metadata": {},
     "output_type": "execute_result"
    }
   ],
   "source": [
    "l2.pop(4)"
   ]
  },
  {
   "cell_type": "code",
   "execution_count": 15,
   "id": "cf937212-6b0e-4c1d-bf01-16e6c2ddd3e2",
   "metadata": {},
   "outputs": [
    {
     "data": {
      "text/plain": [
       "[1, 2, 3, 4, 6, 6, 7, 8, 9, 9]"
      ]
     },
     "execution_count": 15,
     "metadata": {},
     "output_type": "execute_result"
    }
   ],
   "source": [
    "l2"
   ]
  },
  {
   "cell_type": "markdown",
   "id": "c45b9c6e-3bb6-4c70-a9b1-3706ee34efbe",
   "metadata": {},
   "source": [
    "# Creating list using list constructor"
   ]
  },
  {
   "cell_type": "code",
   "execution_count": 16,
   "id": "9b87a541-0fb3-4574-9170-68842946fe18",
   "metadata": {},
   "outputs": [],
   "source": [
    "l3 = list((1,2,3,4,5,6,7,8,9))"
   ]
  },
  {
   "cell_type": "code",
   "execution_count": 17,
   "id": "ed20ea67-423a-43da-80b1-fb0d512c4af9",
   "metadata": {},
   "outputs": [
    {
     "data": {
      "text/plain": [
       "list"
      ]
     },
     "execution_count": 17,
     "metadata": {},
     "output_type": "execute_result"
    }
   ],
   "source": [
    "type(l3)"
   ]
  },
  {
   "cell_type": "code",
   "execution_count": 18,
   "id": "02fb7499-21af-427c-be33-3860cf3da935",
   "metadata": {},
   "outputs": [
    {
     "data": {
      "text/plain": [
       "[1, 2, 3, 4, 5, 6, 7, 8, 9]"
      ]
     },
     "execution_count": 18,
     "metadata": {},
     "output_type": "execute_result"
    }
   ],
   "source": [
    "l3"
   ]
  },
  {
   "cell_type": "code",
   "execution_count": 19,
   "id": "51a308f1-5c99-4862-8540-e5ebebe568b7",
   "metadata": {},
   "outputs": [
    {
     "data": {
      "text/plain": [
       "3"
      ]
     },
     "execution_count": 19,
     "metadata": {},
     "output_type": "execute_result"
    }
   ],
   "source": [
    "l3[2]"
   ]
  },
  {
   "cell_type": "markdown",
   "id": "466b6cea-1471-4207-8084-9af799504aab",
   "metadata": {},
   "source": [
    "# Input list from user"
   ]
  },
  {
   "cell_type": "code",
   "execution_count": 20,
   "id": "385243b0-eb71-4af0-869c-d906ec9dac9b",
   "metadata": {},
   "outputs": [
    {
     "name": "stdin",
     "output_type": "stream",
     "text": [
      "Enter your total index :  5\n",
      " rakib\n"
     ]
    },
    {
     "ename": "NameError",
     "evalue": "name 'num' is not defined",
     "output_type": "error",
     "traceback": [
      "\u001b[1;31m---------------------------------------------------------------------------\u001b[0m",
      "\u001b[1;31mNameError\u001b[0m                                 Traceback (most recent call last)",
      "Cell \u001b[1;32mIn[20], line 5\u001b[0m\n\u001b[0;32m      3\u001b[0m \u001b[38;5;28;01mfor\u001b[39;00m i \u001b[38;5;129;01min\u001b[39;00m \u001b[38;5;28mrange\u001b[39m(n):\n\u001b[0;32m      4\u001b[0m     new \u001b[38;5;241m=\u001b[39m \u001b[38;5;28minput\u001b[39m()\n\u001b[1;32m----> 5\u001b[0m     l4\u001b[38;5;241m.\u001b[39mappend(\u001b[43mnum\u001b[49m)\n\u001b[0;32m      6\u001b[0m     \u001b[38;5;28mprint\u001b[39m(l4)\n",
      "\u001b[1;31mNameError\u001b[0m: name 'num' is not defined"
     ]
    }
   ],
   "source": [
    "n = int(input(\"Enter your total index : \"))\n",
    "l4 = []\n",
    "for i in range(n):\n",
    "    new = input()\n",
    "    l4.append(num)\n",
    "    print(l4)"
   ]
  },
  {
   "cell_type": "code",
   "execution_count": 21,
   "id": "3badc7e2-46db-48fc-8674-411ce2acd229",
   "metadata": {},
   "outputs": [
    {
     "name": "stdin",
     "output_type": "stream",
     "text": [
      "Enter your total index :  5\n",
      " rakib\n"
     ]
    },
    {
     "name": "stdout",
     "output_type": "stream",
     "text": [
      "['rakib']\n"
     ]
    },
    {
     "name": "stdin",
     "output_type": "stream",
     "text": [
      " python\n"
     ]
    },
    {
     "name": "stdout",
     "output_type": "stream",
     "text": [
      "['rakib', 'python']\n"
     ]
    },
    {
     "name": "stdin",
     "output_type": "stream",
     "text": [
      " hasan\n"
     ]
    },
    {
     "name": "stdout",
     "output_type": "stream",
     "text": [
      "['rakib', 'python', 'hasan']\n"
     ]
    },
    {
     "name": "stdin",
     "output_type": "stream",
     "text": [
      " fahim\n"
     ]
    },
    {
     "name": "stdout",
     "output_type": "stream",
     "text": [
      "['rakib', 'python', 'hasan', 'fahim']\n"
     ]
    },
    {
     "name": "stdin",
     "output_type": "stream",
     "text": [
      " odoo\n"
     ]
    },
    {
     "name": "stdout",
     "output_type": "stream",
     "text": [
      "['rakib', 'python', 'hasan', 'fahim', 'odoo']\n"
     ]
    }
   ],
   "source": [
    "n = int(input(\"Enter your total index : \"))\n",
    "l4 = []\n",
    "for i in range(n):\n",
    "    new = input()\n",
    "    l4.append(new)\n",
    "    print(l4)"
   ]
  },
  {
   "cell_type": "code",
   "execution_count": 22,
   "id": "a0793070-1702-4c3e-ad0b-fd77e50efd52",
   "metadata": {},
   "outputs": [
    {
     "name": "stdin",
     "output_type": "stream",
     "text": [
      "Enter your total index :  5\n",
      " 1\n",
      " 2\n",
      " 3\n",
      " 4\n",
      " 5\n"
     ]
    },
    {
     "name": "stdout",
     "output_type": "stream",
     "text": [
      "['1', '2', '3', '4', '5']\n"
     ]
    }
   ],
   "source": [
    "n = int(input(\"Enter your total index : \"))\n",
    "l4 = []\n",
    "for i in range(n):\n",
    "    new = input()\n",
    "    l4.append(new)\n",
    "print(l4)"
   ]
  },
  {
   "cell_type": "code",
   "execution_count": 23,
   "id": "04bb3cd9-a35b-408b-9ffd-68ab888d834d",
   "metadata": {},
   "outputs": [
    {
     "data": {
      "text/plain": [
       "list"
      ]
     },
     "execution_count": 23,
     "metadata": {},
     "output_type": "execute_result"
    }
   ],
   "source": [
    "type(l4)"
   ]
  },
  {
   "cell_type": "markdown",
   "id": "6910b5fb-305c-4312-b785-4a157c7332f0",
   "metadata": {},
   "source": [
    "# List Methods"
   ]
  },
  {
   "cell_type": "code",
   "execution_count": 24,
   "id": "5ec1c98a-058f-4cb0-a4fe-2c5b2653ef3b",
   "metadata": {},
   "outputs": [],
   "source": [
    "list1 = [\"python\",'java','c',200,300,True,[2.3],[1,2]]"
   ]
  },
  {
   "cell_type": "code",
   "execution_count": 25,
   "id": "b8b8cdb1-211d-49c0-9fad-e82a05b919da",
   "metadata": {},
   "outputs": [
    {
     "data": {
      "text/plain": [
       "['python', 'java', 'c', 200, 300, True, [2.3], [1, 2]]"
      ]
     },
     "execution_count": 25,
     "metadata": {},
     "output_type": "execute_result"
    }
   ],
   "source": [
    "list1"
   ]
  },
  {
   "cell_type": "code",
   "execution_count": 26,
   "id": "27fa62bc-867f-4792-a01a-a7c5b9f82db7",
   "metadata": {},
   "outputs": [
    {
     "data": {
      "text/plain": [
       "'python'"
      ]
     },
     "execution_count": 26,
     "metadata": {},
     "output_type": "execute_result"
    }
   ],
   "source": [
    "list1[0]\n"
   ]
  },
  {
   "cell_type": "code",
   "execution_count": 27,
   "id": "7a25d1a3-56d5-4b47-8a21-9fbc83823c79",
   "metadata": {},
   "outputs": [
    {
     "data": {
      "text/plain": [
       "[1, 2]"
      ]
     },
     "execution_count": 27,
     "metadata": {},
     "output_type": "execute_result"
    }
   ],
   "source": [
    "list1[-1]"
   ]
  },
  {
   "cell_type": "code",
   "execution_count": 28,
   "id": "d15d7053-7627-4429-8523-50c9a09d3abd",
   "metadata": {},
   "outputs": [
    {
     "data": {
      "text/plain": [
       "1"
      ]
     },
     "execution_count": 28,
     "metadata": {},
     "output_type": "execute_result"
    }
   ],
   "source": [
    "list1[-1][0]"
   ]
  },
  {
   "cell_type": "code",
   "execution_count": 29,
   "id": "6087d611-2073-46e9-bb64-58e40a84e6b1",
   "metadata": {},
   "outputs": [
    {
     "data": {
      "text/plain": [
       "1"
      ]
     },
     "execution_count": 29,
     "metadata": {},
     "output_type": "execute_result"
    }
   ],
   "source": [
    "list1[-1][-2] # same as list1[-1][0]"
   ]
  },
  {
   "cell_type": "markdown",
   "id": "d82d9833-7caf-464e-84ff-04401348db01",
   "metadata": {},
   "source": [
    "# Copy()"
   ]
  },
  {
   "cell_type": "code",
   "execution_count": 30,
   "id": "2a03d531-df93-45fa-a1ee-4887947693d3",
   "metadata": {},
   "outputs": [],
   "source": [
    "list2 = list1 #it's mean list2 in assign list1"
   ]
  },
  {
   "cell_type": "code",
   "execution_count": 31,
   "id": "6e49194d-880a-4218-b06b-461e4238a726",
   "metadata": {},
   "outputs": [
    {
     "data": {
      "text/plain": [
       "['python', 'java', 'c', 200, 300, True, [2.3], [1, 2]]"
      ]
     },
     "execution_count": 31,
     "metadata": {},
     "output_type": "execute_result"
    }
   ],
   "source": [
    "list2"
   ]
  },
  {
   "cell_type": "code",
   "execution_count": 32,
   "id": "c6e169c8-8ae7-44aa-b68c-d24ec77d859b",
   "metadata": {},
   "outputs": [],
   "source": [
    "list3 = list1.copy()"
   ]
  },
  {
   "cell_type": "code",
   "execution_count": 33,
   "id": "00d5112a-58da-46ea-9693-2189fc1fc1c8",
   "metadata": {},
   "outputs": [
    {
     "data": {
      "text/plain": [
       "['python', 'java', 'c', 200, 300, True, [2.3], [1, 2]]"
      ]
     },
     "execution_count": 33,
     "metadata": {},
     "output_type": "execute_result"
    }
   ],
   "source": [
    "list3"
   ]
  },
  {
   "cell_type": "code",
   "execution_count": 34,
   "id": "41879f2e-8dcf-4f80-b022-a2f6af88024f",
   "metadata": {},
   "outputs": [],
   "source": [
    "list1[0] = \"odoo\""
   ]
  },
  {
   "cell_type": "code",
   "execution_count": 35,
   "id": "281c743b-58ee-42b5-b257-1c853f6c5cb9",
   "metadata": {},
   "outputs": [
    {
     "data": {
      "text/plain": [
       "['odoo', 'java', 'c', 200, 300, True, [2.3], [1, 2]]"
      ]
     },
     "execution_count": 35,
     "metadata": {},
     "output_type": "execute_result"
    }
   ],
   "source": [
    "list1"
   ]
  },
  {
   "cell_type": "code",
   "execution_count": 36,
   "id": "70ab12db-ae54-46b2-a7a7-b5e660f504eb",
   "metadata": {},
   "outputs": [
    {
     "data": {
      "text/plain": [
       "['odoo', 'java', 'c', 200, 300, True, [2.3], [1, 2]]"
      ]
     },
     "execution_count": 36,
     "metadata": {},
     "output_type": "execute_result"
    }
   ],
   "source": [
    "list2"
   ]
  },
  {
   "cell_type": "code",
   "execution_count": 37,
   "id": "a10cdfeb-6dc8-4db6-accb-698793d1ab18",
   "metadata": {},
   "outputs": [
    {
     "data": {
      "text/plain": [
       "['python', 'java', 'c', 200, 300, True, [2.3], [1, 2]]"
      ]
     },
     "execution_count": 37,
     "metadata": {},
     "output_type": "execute_result"
    }
   ],
   "source": [
    "list3"
   ]
  },
  {
   "cell_type": "code",
   "execution_count": 38,
   "id": "26824069-ba26-42ab-942b-0819e10cb603",
   "metadata": {},
   "outputs": [],
   "source": [
    "list3[0] = \"Odoo\""
   ]
  },
  {
   "cell_type": "code",
   "execution_count": 39,
   "id": "c8738676-17c1-4671-8111-1a7b8e90bbee",
   "metadata": {},
   "outputs": [
    {
     "data": {
      "text/plain": [
       "['Odoo', 'java', 'c', 200, 300, True, [2.3], [1, 2]]"
      ]
     },
     "execution_count": 39,
     "metadata": {},
     "output_type": "execute_result"
    }
   ],
   "source": [
    "list3"
   ]
  },
  {
   "cell_type": "code",
   "execution_count": 40,
   "id": "ee22ddc9-733a-4c4b-8fdc-263bfc79fcf0",
   "metadata": {},
   "outputs": [
    {
     "data": {
      "text/plain": [
       "['odoo', 'java', 'c', 200, 300, True, [2.3], [1, 2]]"
      ]
     },
     "execution_count": 40,
     "metadata": {},
     "output_type": "execute_result"
    }
   ],
   "source": [
    "list1"
   ]
  },
  {
   "cell_type": "markdown",
   "id": "d488a7ee-b88e-4841-9cf7-bd3bf9343a36",
   "metadata": {},
   "source": [
    "# append()"
   ]
  },
  {
   "cell_type": "code",
   "execution_count": 41,
   "id": "2e19a876-ea34-4dbf-b9f6-89f594a1cd84",
   "metadata": {},
   "outputs": [],
   "source": [
    "list1.append(100)"
   ]
  },
  {
   "cell_type": "code",
   "execution_count": 42,
   "id": "9d312050-c8fd-4db7-a863-cc83f9f62ed1",
   "metadata": {},
   "outputs": [
    {
     "data": {
      "text/plain": [
       "['odoo', 'java', 'c', 200, 300, True, [2.3], [1, 2], 100]"
      ]
     },
     "execution_count": 42,
     "metadata": {},
     "output_type": "execute_result"
    }
   ],
   "source": [
    "list1"
   ]
  },
  {
   "cell_type": "code",
   "execution_count": 43,
   "id": "952c7e96-2f08-4d11-afea-c75edeef3f99",
   "metadata": {},
   "outputs": [],
   "source": [
    "m = [1,2,3,\"Rakib\"]\n",
    "list1.append(m)"
   ]
  },
  {
   "cell_type": "code",
   "execution_count": 44,
   "id": "68beddc3-af7a-451e-9238-7dabaff019db",
   "metadata": {},
   "outputs": [
    {
     "data": {
      "text/plain": [
       "['odoo', 'java', 'c', 200, 300, True, [2.3], [1, 2], 100, [1, 2, 3, 'Rakib']]"
      ]
     },
     "execution_count": 44,
     "metadata": {},
     "output_type": "execute_result"
    }
   ],
   "source": [
    "list1"
   ]
  },
  {
   "cell_type": "code",
   "execution_count": 45,
   "id": "7a48b74b-9bba-459e-8eb1-b25c5adc2d0e",
   "metadata": {},
   "outputs": [
    {
     "data": {
      "text/plain": [
       "list[-1]"
      ]
     },
     "execution_count": 45,
     "metadata": {},
     "output_type": "execute_result"
    }
   ],
   "source": [
    "list[-1]"
   ]
  },
  {
   "cell_type": "code",
   "execution_count": 46,
   "id": "afa07e45-fb27-4665-a54d-6954a8205b85",
   "metadata": {},
   "outputs": [
    {
     "data": {
      "text/plain": [
       "[1, 2, 3, 'Rakib']"
      ]
     },
     "execution_count": 46,
     "metadata": {},
     "output_type": "execute_result"
    }
   ],
   "source": [
    "list1[-1]"
   ]
  },
  {
   "cell_type": "markdown",
   "id": "97704ccf-f469-4c93-86e5-a52c6611b8e8",
   "metadata": {},
   "source": [
    "# extend()"
   ]
  },
  {
   "cell_type": "code",
   "execution_count": 47,
   "id": "21083fca-00cb-4e72-a8e0-1cb7ab5ec235",
   "metadata": {},
   "outputs": [],
   "source": [
    "list1.extend(m)"
   ]
  },
  {
   "cell_type": "code",
   "execution_count": 48,
   "id": "60637693-0744-4c62-81ec-7e9423099916",
   "metadata": {},
   "outputs": [
    {
     "data": {
      "text/plain": [
       "['odoo',\n",
       " 'java',\n",
       " 'c',\n",
       " 200,\n",
       " 300,\n",
       " True,\n",
       " [2.3],\n",
       " [1, 2],\n",
       " 100,\n",
       " [1, 2, 3, 'Rakib'],\n",
       " 1,\n",
       " 2,\n",
       " 3,\n",
       " 'Rakib']"
      ]
     },
     "execution_count": 48,
     "metadata": {},
     "output_type": "execute_result"
    }
   ],
   "source": [
    "list1"
   ]
  },
  {
   "cell_type": "code",
   "execution_count": 49,
   "id": "167b054f-d38d-451e-8c1e-392cd053d6a0",
   "metadata": {},
   "outputs": [
    {
     "data": {
      "text/plain": [
       "'Rakib'"
      ]
     },
     "execution_count": 49,
     "metadata": {},
     "output_type": "execute_result"
    }
   ],
   "source": [
    "list1[-1]"
   ]
  },
  {
   "cell_type": "markdown",
   "id": "6136b36c-d739-4d4b-8fe2-43dc34913ceb",
   "metadata": {},
   "source": [
    "# insert()"
   ]
  },
  {
   "cell_type": "code",
   "execution_count": 50,
   "id": "1acc3133-aa44-4250-b7cc-f0843be095d9",
   "metadata": {},
   "outputs": [],
   "source": [
    "list1.insert(0,\"kotlin\") #variable.insert(index,add item)"
   ]
  },
  {
   "cell_type": "code",
   "execution_count": 51,
   "id": "027b832d-271c-45b9-8f4e-b549915d2449",
   "metadata": {},
   "outputs": [
    {
     "data": {
      "text/plain": [
       "['kotlin',\n",
       " 'odoo',\n",
       " 'java',\n",
       " 'c',\n",
       " 200,\n",
       " 300,\n",
       " True,\n",
       " [2.3],\n",
       " [1, 2],\n",
       " 100,\n",
       " [1, 2, 3, 'Rakib'],\n",
       " 1,\n",
       " 2,\n",
       " 3,\n",
       " 'Rakib']"
      ]
     },
     "execution_count": 51,
     "metadata": {},
     "output_type": "execute_result"
    }
   ],
   "source": [
    "list1"
   ]
  },
  {
   "cell_type": "markdown",
   "id": "a6339e86-a4fd-4201-8a25-5707286c5802",
   "metadata": {},
   "source": [
    "# index()"
   ]
  },
  {
   "cell_type": "code",
   "execution_count": 52,
   "id": "731e5610-fddb-4173-b67e-780119b0e0ea",
   "metadata": {},
   "outputs": [
    {
     "data": {
      "text/plain": [
       "9"
      ]
     },
     "execution_count": 52,
     "metadata": {},
     "output_type": "execute_result"
    }
   ],
   "source": [
    "list1.index(100) # variable.index(value)"
   ]
  },
  {
   "cell_type": "code",
   "execution_count": 53,
   "id": "f780641c-99c6-4cbd-be87-5aaea989ad9a",
   "metadata": {},
   "outputs": [
    {
     "data": {
      "text/plain": [
       "10"
      ]
     },
     "execution_count": 53,
     "metadata": {},
     "output_type": "execute_result"
    }
   ],
   "source": [
    "list1.index([1, 2, 3, 'Rakib'])"
   ]
  },
  {
   "cell_type": "markdown",
   "id": "26871071-2ceb-4a8a-a876-4734f680b759",
   "metadata": {},
   "source": [
    "# count()"
   ]
  },
  {
   "cell_type": "code",
   "execution_count": 54,
   "id": "932731f6-54b3-4e78-9907-3b7bdd4ee797",
   "metadata": {},
   "outputs": [
    {
     "data": {
      "text/plain": [
       "1"
      ]
     },
     "execution_count": 54,
     "metadata": {},
     "output_type": "execute_result"
    }
   ],
   "source": [
    "list1.count(\"Rakib\") #variable.count(value)"
   ]
  },
  {
   "cell_type": "markdown",
   "id": "23ce6995-e4ca-4ee2-a8c8-d2f08ca6f1ee",
   "metadata": {},
   "source": [
    "# sort()"
   ]
  },
  {
   "cell_type": "code",
   "execution_count": 55,
   "id": "7b06f60b-9423-42ac-a6a9-0594419886e6",
   "metadata": {},
   "outputs": [],
   "source": [
    "nam = [343,56,6,7,8,9,3,4,7,9,2]"
   ]
  },
  {
   "cell_type": "code",
   "execution_count": 56,
   "id": "8cb0f295-fef5-4f44-be0a-921d7e430f61",
   "metadata": {},
   "outputs": [],
   "source": [
    "nam.sort()"
   ]
  },
  {
   "cell_type": "code",
   "execution_count": 57,
   "id": "cc167d91-3892-4ce4-b213-89cdb814c7de",
   "metadata": {},
   "outputs": [
    {
     "data": {
      "text/plain": [
       "[2, 3, 4, 6, 7, 7, 8, 9, 9, 56, 343]"
      ]
     },
     "execution_count": 57,
     "metadata": {},
     "output_type": "execute_result"
    }
   ],
   "source": [
    "nam"
   ]
  },
  {
   "cell_type": "markdown",
   "id": "30ff4273-0ad2-4d51-86ed-04877fb16219",
   "metadata": {},
   "source": [
    "# reverse()"
   ]
  },
  {
   "cell_type": "code",
   "execution_count": 58,
   "id": "73890ac1-b6d8-415d-bdde-e2318d349e31",
   "metadata": {},
   "outputs": [],
   "source": [
    "nam.reverse()"
   ]
  },
  {
   "cell_type": "code",
   "execution_count": 59,
   "id": "06e26910-7b1b-4ecc-83ae-e788ee56bdc0",
   "metadata": {},
   "outputs": [
    {
     "data": {
      "text/plain": [
       "[343, 56, 9, 9, 8, 7, 7, 6, 4, 3, 2]"
      ]
     },
     "execution_count": 59,
     "metadata": {},
     "output_type": "execute_result"
    }
   ],
   "source": [
    "nam"
   ]
  },
  {
   "cell_type": "markdown",
   "id": "87700a7c-c06c-4e4e-9f8e-e50e259ac254",
   "metadata": {},
   "source": [
    "# remove()"
   ]
  },
  {
   "cell_type": "code",
   "execution_count": 60,
   "id": "dd0c5d1d-cd17-4679-acd8-7a23c62a2aed",
   "metadata": {},
   "outputs": [],
   "source": [
    "nam.remove(9)"
   ]
  },
  {
   "cell_type": "code",
   "execution_count": 61,
   "id": "b5887a13-c34a-4b25-be37-7c9d01b574e6",
   "metadata": {},
   "outputs": [
    {
     "data": {
      "text/plain": [
       "[343, 56, 9, 8, 7, 7, 6, 4, 3, 2]"
      ]
     },
     "execution_count": 61,
     "metadata": {},
     "output_type": "execute_result"
    }
   ],
   "source": [
    "nam"
   ]
  },
  {
   "cell_type": "markdown",
   "id": "206e8be0-a90e-48ea-89d1-6f9ef526e9f6",
   "metadata": {},
   "source": [
    "# pop()"
   ]
  },
  {
   "cell_type": "code",
   "execution_count": 62,
   "id": "1a80f511-b5ec-4b6a-9a33-b00338ed17d6",
   "metadata": {},
   "outputs": [
    {
     "data": {
      "text/plain": [
       "7"
      ]
     },
     "execution_count": 62,
     "metadata": {},
     "output_type": "execute_result"
    }
   ],
   "source": [
    "nam.pop(5)"
   ]
  },
  {
   "cell_type": "code",
   "execution_count": 63,
   "id": "a8c55fff-9893-49ba-bc1c-848316033026",
   "metadata": {},
   "outputs": [
    {
     "data": {
      "text/plain": [
       "[343, 56, 9, 8, 7, 6, 4, 3, 2]"
      ]
     },
     "execution_count": 63,
     "metadata": {},
     "output_type": "execute_result"
    }
   ],
   "source": [
    "nam"
   ]
  },
  {
   "cell_type": "markdown",
   "id": "f5476b14-29da-468d-ab60-1db6cd3a0152",
   "metadata": {},
   "source": [
    "# clear()"
   ]
  },
  {
   "cell_type": "code",
   "execution_count": 64,
   "id": "689073d0-63ec-4b7a-92f2-673bfc852b13",
   "metadata": {},
   "outputs": [],
   "source": [
    "nam.clear()"
   ]
  },
  {
   "cell_type": "code",
   "execution_count": 65,
   "id": "4dade0b1-d5ea-4571-bbfa-3d80ac4279d4",
   "metadata": {},
   "outputs": [
    {
     "data": {
      "text/plain": [
       "[]"
      ]
     },
     "execution_count": 65,
     "metadata": {},
     "output_type": "execute_result"
    }
   ],
   "source": [
    "nam"
   ]
  },
  {
   "cell_type": "code",
   "execution_count": null,
   "id": "adc1e87f-3bc9-4218-a2be-1273f12d0caa",
   "metadata": {},
   "outputs": [],
   "source": []
  }
 ],
 "metadata": {
  "kernelspec": {
   "display_name": "Python 3 (ipykernel)",
   "language": "python",
   "name": "python3"
  },
  "language_info": {
   "codemirror_mode": {
    "name": "ipython",
    "version": 3
   },
   "file_extension": ".py",
   "mimetype": "text/x-python",
   "name": "python",
   "nbconvert_exporter": "python",
   "pygments_lexer": "ipython3",
   "version": "3.12.7"
  }
 },
 "nbformat": 4,
 "nbformat_minor": 5
}
