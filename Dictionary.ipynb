{
 "cells": [
  {
   "cell_type": "markdown",
   "id": "e3ac2efa-7bef-4e28-8306-066aacf59456",
   "metadata": {},
   "source": [
    "# Dictionary in python"
   ]
  },
  {
   "cell_type": "code",
   "execution_count": 1,
   "id": "cd4ef279-f8e2-49ef-9bdf-94628598e9a5",
   "metadata": {},
   "outputs": [
    {
     "name": "stdout",
     "output_type": "stream",
     "text": [
      "{'name': 'rakib', 'age': 24, 'gender': 'male'}\n"
     ]
    }
   ],
   "source": [
    "dic = {\n",
    "    \"name\" : \"rakib\", #keys:value\n",
    "    \"age\" : 24,\n",
    "    \"gender\" : \"male\"\n",
    "}\n",
    "print(dic)"
   ]
  },
  {
   "cell_type": "code",
   "execution_count": 2,
   "id": "86f347fb-7474-4abe-a517-af1378fced26",
   "metadata": {},
   "outputs": [
    {
     "data": {
      "text/plain": [
       "dict"
      ]
     },
     "execution_count": 2,
     "metadata": {},
     "output_type": "execute_result"
    }
   ],
   "source": [
    "type(dic)"
   ]
  },
  {
   "cell_type": "code",
   "execution_count": 3,
   "id": "b49281ba-54cc-460b-8d7a-eab3a0e6e0e2",
   "metadata": {},
   "outputs": [
    {
     "data": {
      "text/plain": [
       "dict_keys(['name', 'age', 'gender'])"
      ]
     },
     "execution_count": 3,
     "metadata": {},
     "output_type": "execute_result"
    }
   ],
   "source": [
    "dic.keys() #see only key from dictionary"
   ]
  },
  {
   "cell_type": "code",
   "execution_count": 4,
   "id": "fd4e12fb-754d-4ae2-b127-b6db0e54ac8a",
   "metadata": {},
   "outputs": [
    {
     "data": {
      "text/plain": [
       "dict_values(['rakib', 24, 'male'])"
      ]
     },
     "execution_count": 4,
     "metadata": {},
     "output_type": "execute_result"
    }
   ],
   "source": [
    "dic.values() #see only value from dictionary"
   ]
  },
  {
   "cell_type": "markdown",
   "id": "e362045f-80cf-4383-8dce-217a4f5c8de4",
   "metadata": {},
   "source": [
    "# copy()"
   ]
  },
  {
   "cell_type": "code",
   "execution_count": 5,
   "id": "7a46b9ea-9057-42ef-a7ac-caba139a7f6a",
   "metadata": {},
   "outputs": [],
   "source": [
    "dic2 = dic.copy()"
   ]
  },
  {
   "cell_type": "code",
   "execution_count": 6,
   "id": "6100efac-6d79-4f64-9d16-085b9b1c1edd",
   "metadata": {},
   "outputs": [
    {
     "data": {
      "text/plain": [
       "{'name': 'rakib', 'age': 24, 'gender': 'male'}"
      ]
     },
     "execution_count": 6,
     "metadata": {},
     "output_type": "execute_result"
    }
   ],
   "source": [
    "dic2"
   ]
  },
  {
   "cell_type": "code",
   "execution_count": 7,
   "id": "59b421ff-1ce6-42b6-9df7-f2b098e7a376",
   "metadata": {},
   "outputs": [],
   "source": [
    "dic[\"name\"] = \"Fahim\" #change element "
   ]
  },
  {
   "cell_type": "code",
   "execution_count": 8,
   "id": "ec29cab5-86f8-40b0-9972-ec0ee8f124f7",
   "metadata": {},
   "outputs": [
    {
     "data": {
      "text/plain": [
       "{'name': 'Fahim', 'age': 24, 'gender': 'male'}"
      ]
     },
     "execution_count": 8,
     "metadata": {},
     "output_type": "execute_result"
    }
   ],
   "source": [
    "dic"
   ]
  },
  {
   "cell_type": "markdown",
   "id": "196913fa-477b-4965-9bf6-91eee6aeb850",
   "metadata": {},
   "source": [
    "# Add new item value"
   ]
  },
  {
   "cell_type": "code",
   "execution_count": 9,
   "id": "1d79021c-3d76-49cd-b87f-4a1b7cd310a1",
   "metadata": {},
   "outputs": [
    {
     "data": {
      "text/plain": [
       "{'name': 'Fahim', 'age': 24, 'gender': 'male'}"
      ]
     },
     "execution_count": 9,
     "metadata": {},
     "output_type": "execute_result"
    }
   ],
   "source": [
    "dic"
   ]
  },
  {
   "cell_type": "code",
   "execution_count": 10,
   "id": "e6ca529e-1343-41d8-956d-7461b4dfa9d5",
   "metadata": {},
   "outputs": [],
   "source": [
    "dic[\"dept\"] = \"cse\""
   ]
  },
  {
   "cell_type": "code",
   "execution_count": 11,
   "id": "71889f65-8e22-4218-ba57-03b9856febcd",
   "metadata": {},
   "outputs": [
    {
     "data": {
      "text/plain": [
       "{'name': 'Fahim', 'age': 24, 'gender': 'male', 'dept': 'cse'}"
      ]
     },
     "execution_count": 11,
     "metadata": {},
     "output_type": "execute_result"
    }
   ],
   "source": [
    "dic"
   ]
  },
  {
   "cell_type": "markdown",
   "id": "3f5c75c8-cf1d-4dd2-9f86-af8c76427eac",
   "metadata": {},
   "source": [
    "# Update()"
   ]
  },
  {
   "cell_type": "code",
   "execution_count": 12,
   "id": "1cf2dcf0-08fb-445c-8fa9-98878e328029",
   "metadata": {},
   "outputs": [],
   "source": [
    "dic.update({\"dept\":\"odoo\"})"
   ]
  },
  {
   "cell_type": "code",
   "execution_count": 13,
   "id": "df830be3-92b1-4727-8d40-c8d12b774c2e",
   "metadata": {},
   "outputs": [
    {
     "data": {
      "text/plain": [
       "{'name': 'Fahim', 'age': 24, 'gender': 'male', 'dept': 'odoo'}"
      ]
     },
     "execution_count": 13,
     "metadata": {},
     "output_type": "execute_result"
    }
   ],
   "source": [
    "dic"
   ]
  },
  {
   "cell_type": "markdown",
   "id": "9e232f86-32de-466c-b66b-ee6d8eaf10a9",
   "metadata": {},
   "source": [
    "# remove()"
   ]
  },
  {
   "cell_type": "code",
   "execution_count": 14,
   "id": "4c40f643-f022-4c8e-bc39-a3c38ab53797",
   "metadata": {},
   "outputs": [
    {
     "ename": "TypeError",
     "evalue": "pop expected at least 1 argument, got 0",
     "output_type": "error",
     "traceback": [
      "\u001b[1;31m---------------------------------------------------------------------------\u001b[0m",
      "\u001b[1;31mTypeError\u001b[0m                                 Traceback (most recent call last)",
      "Cell \u001b[1;32mIn[14], line 1\u001b[0m\n\u001b[1;32m----> 1\u001b[0m \u001b[43mdic\u001b[49m\u001b[38;5;241;43m.\u001b[39;49m\u001b[43mpop\u001b[49m\u001b[43m(\u001b[49m\u001b[43m)\u001b[49m\n",
      "\u001b[1;31mTypeError\u001b[0m: pop expected at least 1 argument, got 0"
     ]
    }
   ],
   "source": [
    "dic.pop()"
   ]
  },
  {
   "cell_type": "code",
   "execution_count": 15,
   "id": "2ca722fd-71ce-4ec2-bcb8-14840ac95c33",
   "metadata": {},
   "outputs": [
    {
     "data": {
      "text/plain": [
       "('dept', 'odoo')"
      ]
     },
     "execution_count": 15,
     "metadata": {},
     "output_type": "execute_result"
    }
   ],
   "source": [
    "dic.popitem()"
   ]
  },
  {
   "cell_type": "code",
   "execution_count": 16,
   "id": "620589fd-349e-4189-bd46-d368a19c6bac",
   "metadata": {},
   "outputs": [
    {
     "data": {
      "text/plain": [
       "{'name': 'Fahim', 'age': 24, 'gender': 'male'}"
      ]
     },
     "execution_count": 16,
     "metadata": {},
     "output_type": "execute_result"
    }
   ],
   "source": [
    "dic"
   ]
  },
  {
   "cell_type": "code",
   "execution_count": 17,
   "id": "5ad45573-99e6-41d5-8f90-b95b773dea4a",
   "metadata": {},
   "outputs": [
    {
     "data": {
      "text/plain": [
       "24"
      ]
     },
     "execution_count": 17,
     "metadata": {},
     "output_type": "execute_result"
    }
   ],
   "source": [
    "dic.pop(\"age\")"
   ]
  },
  {
   "cell_type": "code",
   "execution_count": 18,
   "id": "56ccdfd3-0c9a-4292-98c8-e31754682cb0",
   "metadata": {},
   "outputs": [
    {
     "data": {
      "text/plain": [
       "{'name': 'Fahim', 'gender': 'male'}"
      ]
     },
     "execution_count": 18,
     "metadata": {},
     "output_type": "execute_result"
    }
   ],
   "source": [
    "dic"
   ]
  },
  {
   "cell_type": "code",
   "execution_count": 20,
   "id": "582f0974-9861-457a-8868-8440fa61d0f6",
   "metadata": {},
   "outputs": [
    {
     "name": "stdout",
     "output_type": "stream",
     "text": [
      "name\n",
      "gender\n"
     ]
    }
   ],
   "source": [
    "for i in dic:\n",
    "    print(i) #output only keys"
   ]
  },
  {
   "cell_type": "code",
   "execution_count": 21,
   "id": "7774ffc4-a7c8-407c-88ef-2022ac89c01f",
   "metadata": {},
   "outputs": [
    {
     "name": "stdout",
     "output_type": "stream",
     "text": [
      "Fahim\n",
      "male\n"
     ]
    }
   ],
   "source": [
    "for x in dic:\n",
    "    print(dic[x]) #output only values"
   ]
  },
  {
   "cell_type": "markdown",
   "id": "fff5c26b-0c1c-4238-971d-5f462f96cd8b",
   "metadata": {},
   "source": [
    "# dictonary to list convert"
   ]
  },
  {
   "cell_type": "code",
   "execution_count": 22,
   "id": "0bc1ae91-cada-488f-a386-5dc69c2cf358",
   "metadata": {},
   "outputs": [
    {
     "data": {
      "text/plain": [
       "{'name': 'Fahim', 'gender': 'male'}"
      ]
     },
     "execution_count": 22,
     "metadata": {},
     "output_type": "execute_result"
    }
   ],
   "source": [
    "dic"
   ]
  },
  {
   "cell_type": "code",
   "execution_count": 23,
   "id": "9f9ed818-f59b-4c86-b37f-c987e3831159",
   "metadata": {},
   "outputs": [
    {
     "name": "stdout",
     "output_type": "stream",
     "text": [
      "['name', 'gender']\n"
     ]
    }
   ],
   "source": [
    "d = list(dic.keys()) #create only keys\n",
    "print(d)"
   ]
  },
  {
   "cell_type": "code",
   "execution_count": 24,
   "id": "b9e8e988-4cc9-45dd-9581-c4337ca3227d",
   "metadata": {},
   "outputs": [
    {
     "name": "stdout",
     "output_type": "stream",
     "text": [
      "['Fahim', 'male']\n"
     ]
    }
   ],
   "source": [
    "d1 = list(dic.values()) #create only values\n",
    "print(d1)"
   ]
  },
  {
   "cell_type": "markdown",
   "id": "56522de1-69a3-4a1d-814f-7cf2ec62ef59",
   "metadata": {},
   "source": [
    "# dic from user input"
   ]
  },
  {
   "cell_type": "code",
   "execution_count": 28,
   "id": "88e5766c-04ad-40e3-be88-eea82e9cbb7b",
   "metadata": {},
   "outputs": [
    {
     "name": "stdin",
     "output_type": "stream",
     "text": [
      "How many item you want to add :  5\n",
      "Enter the key value :  name\n",
      "Enter the values of key :  rakib\n",
      "Enter the key value :  age\n",
      "Enter the values of key :  24\n",
      "Enter the key value :  gender\n",
      "Enter the values of key :  male\n",
      "Enter the key value :  dept\n",
      "Enter the values of key :  cse\n",
      "Enter the key value :  town\n",
      "Enter the values of key :  dhaka\n"
     ]
    },
    {
     "name": "stdout",
     "output_type": "stream",
     "text": [
      "{'name': 'rakib', 'age': '24', 'gender': 'male', 'dept': 'cse', 'town': 'dhaka'}\n"
     ]
    }
   ],
   "source": [
    "n = int(input(\"How many item you want to add : \"))\n",
    "d3 = {} #empty dic\n",
    "\n",
    "for i in range(n):\n",
    " \n",
    "    key = input(\"Enter the key value : \")\n",
    "    value = input(\"Enter the values of key : \")\n",
    "    d3[key] = value \n",
    "print(d3)"
   ]
  },
  {
   "cell_type": "code",
   "execution_count": null,
   "id": "b66c7e5a-1cba-4c44-9121-2bdc8962d3e9",
   "metadata": {},
   "outputs": [],
   "source": []
  }
 ],
 "metadata": {
  "kernelspec": {
   "display_name": "Python 3 (ipykernel)",
   "language": "python",
   "name": "python3"
  },
  "language_info": {
   "codemirror_mode": {
    "name": "ipython",
    "version": 3
   },
   "file_extension": ".py",
   "mimetype": "text/x-python",
   "name": "python",
   "nbconvert_exporter": "python",
   "pygments_lexer": "ipython3",
   "version": "3.12.7"
  }
 },
 "nbformat": 4,
 "nbformat_minor": 5
}
