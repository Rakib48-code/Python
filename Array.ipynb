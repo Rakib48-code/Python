{
 "cells": [
  {
   "cell_type": "markdown",
   "id": "5b20a283-36b4-40a9-8dfe-4ebe6c22f4ac",
   "metadata": {},
   "source": [
    "# Array in Python"
   ]
  },
  {
   "cell_type": "code",
   "execution_count": 1,
   "id": "c3d208cc-8fa7-4b30-8eff-0f043b8763c2",
   "metadata": {},
   "outputs": [],
   "source": [
    "import array as ar\n",
    "arr1 = ar.array('i',[1,2,3,4,5,10]) #'i' mean integer value"
   ]
  },
  {
   "cell_type": "code",
   "execution_count": 2,
   "id": "ee631e33-27f1-487c-803e-49f5c70fd12e",
   "metadata": {},
   "outputs": [
    {
     "name": "stdout",
     "output_type": "stream",
     "text": [
      "array('i', [1, 2, 3, 4, 5, 10])\n"
     ]
    }
   ],
   "source": [
    "print(arr1)"
   ]
  },
  {
   "cell_type": "code",
   "execution_count": 3,
   "id": "4a4877a6-b2fa-4cdb-b046-742d5cfd1283",
   "metadata": {},
   "outputs": [],
   "source": [
    "import array as ar\n",
    "arr2 = ar.array('f',[1.2,1.3,4.5,6.7]) #'f' mean float value"
   ]
  },
  {
   "cell_type": "code",
   "execution_count": 4,
   "id": "7aa769c4-937a-4f10-a210-dbbf5b432652",
   "metadata": {},
   "outputs": [
    {
     "data": {
      "text/plain": [
       "array('f', [1.2000000476837158, 1.2999999523162842, 4.5, 6.699999809265137])"
      ]
     },
     "execution_count": 4,
     "metadata": {},
     "output_type": "execute_result"
    }
   ],
   "source": [
    "arr2"
   ]
  },
  {
   "cell_type": "code",
   "execution_count": 5,
   "id": "ac1cb64e-203a-4b2f-b402-882ead95ebb4",
   "metadata": {},
   "outputs": [
    {
     "data": {
      "text/plain": [
       "1.2000000476837158"
      ]
     },
     "execution_count": 5,
     "metadata": {},
     "output_type": "execute_result"
    }
   ],
   "source": [
    "arr2[0]"
   ]
  },
  {
   "cell_type": "code",
   "execution_count": 6,
   "id": "00c98f46-aa61-4073-80c7-099a973701ff",
   "metadata": {},
   "outputs": [
    {
     "name": "stdout",
     "output_type": "stream",
     "text": [
      "array('f', [5.900000095367432, 1.2999999523162842, 4.5, 6.699999809265137])\n"
     ]
    }
   ],
   "source": [
    "arr2[0] = 5.9 #changeable\n",
    "print(arr2)"
   ]
  },
  {
   "cell_type": "code",
   "execution_count": 7,
   "id": "6563bdbe-9964-4643-a2a8-89f5717720aa",
   "metadata": {},
   "outputs": [
    {
     "data": {
      "text/plain": [
       "array('f', [5.900000095367432, 1.2999999523162842, 4.5, 6.699999809265137])"
      ]
     },
     "execution_count": 7,
     "metadata": {},
     "output_type": "execute_result"
    }
   ],
   "source": [
    "arr2[0:4]"
   ]
  },
  {
   "cell_type": "code",
   "execution_count": 8,
   "id": "068e12d6-20d8-47ed-9304-612f61250041",
   "metadata": {},
   "outputs": [],
   "source": [
    "arr2.append(8)"
   ]
  },
  {
   "cell_type": "code",
   "execution_count": 9,
   "id": "02d0de70-e9f2-4dee-aa2c-a95df26fc248",
   "metadata": {},
   "outputs": [
    {
     "data": {
      "text/plain": [
       "array('f', [5.900000095367432, 1.2999999523162842, 4.5, 6.699999809265137, 8.0])"
      ]
     },
     "execution_count": 9,
     "metadata": {},
     "output_type": "execute_result"
    }
   ],
   "source": [
    "arr2"
   ]
  },
  {
   "cell_type": "code",
   "execution_count": 10,
   "id": "446eba45-7e68-402f-8b02-cdfa162eb1f8",
   "metadata": {},
   "outputs": [],
   "source": [
    "del arr2[-1]"
   ]
  },
  {
   "cell_type": "code",
   "execution_count": 11,
   "id": "cb36854b-6342-4d3a-8572-97a8a753b85c",
   "metadata": {},
   "outputs": [
    {
     "data": {
      "text/plain": [
       "array('f', [5.900000095367432, 1.2999999523162842, 4.5, 6.699999809265137])"
      ]
     },
     "execution_count": 11,
     "metadata": {},
     "output_type": "execute_result"
    }
   ],
   "source": [
    "arr2"
   ]
  },
  {
   "cell_type": "code",
   "execution_count": 12,
   "id": "25a6dd83-93db-4761-9843-4eee79ba03ff",
   "metadata": {},
   "outputs": [
    {
     "data": {
      "text/plain": [
       "4"
      ]
     },
     "execution_count": 12,
     "metadata": {},
     "output_type": "execute_result"
    }
   ],
   "source": [
    "len(arr2) #check length"
   ]
  },
  {
   "cell_type": "code",
   "execution_count": 13,
   "id": "17a5757a-252b-4fb2-84d4-64d8b17aa028",
   "metadata": {},
   "outputs": [],
   "source": [
    "arr2.reverse()"
   ]
  },
  {
   "cell_type": "code",
   "execution_count": 14,
   "id": "86787b53-d7fc-45e2-b16d-0de47072fdab",
   "metadata": {},
   "outputs": [
    {
     "data": {
      "text/plain": [
       "array('f', [6.699999809265137, 4.5, 1.2999999523162842, 5.900000095367432])"
      ]
     },
     "execution_count": 14,
     "metadata": {},
     "output_type": "execute_result"
    }
   ],
   "source": [
    "arr2"
   ]
  },
  {
   "cell_type": "code",
   "execution_count": 17,
   "id": "6359a754-cef8-4c7b-9bf4-8c323cd92b14",
   "metadata": {},
   "outputs": [
    {
     "data": {
      "text/plain": [
       "1"
      ]
     },
     "execution_count": 17,
     "metadata": {},
     "output_type": "execute_result"
    }
   ],
   "source": [
    "arr2.count(4.5)  #variable.count(value)"
   ]
  },
  {
   "cell_type": "code",
   "execution_count": 18,
   "id": "1982eb69-37ce-4bf2-8239-01fe51d2a1ef",
   "metadata": {},
   "outputs": [
    {
     "data": {
      "text/plain": [
       "1"
      ]
     },
     "execution_count": 18,
     "metadata": {},
     "output_type": "execute_result"
    }
   ],
   "source": [
    "arr2.index(4.5) #variable.index(value)"
   ]
  },
  {
   "cell_type": "code",
   "execution_count": 21,
   "id": "5af60ea3-2e7d-4f28-8d68-ce814fb2fd68",
   "metadata": {},
   "outputs": [
    {
     "data": {
      "text/plain": [
       "1.2999999523162842"
      ]
     },
     "execution_count": 21,
     "metadata": {},
     "output_type": "execute_result"
    }
   ],
   "source": [
    "arr2.pop(2) #variable.pop(index)/ #variable.remove(value)"
   ]
  },
  {
   "cell_type": "markdown",
   "id": "7e312893-ee4d-4d0d-a257-ad00a8d6d4fe",
   "metadata": {},
   "source": [
    "# input from user in array"
   ]
  },
  {
   "cell_type": "code",
   "execution_count": 22,
   "id": "841fc866-9542-4923-9d76-d7fa830f3c61",
   "metadata": {},
   "outputs": [
    {
     "name": "stdin",
     "output_type": "stream",
     "text": [
      "Enter your total items numbers :  5\n",
      "Enter the value :  1\n"
     ]
    },
    {
     "name": "stdout",
     "output_type": "stream",
     "text": [
      "array('i', [1])\n"
     ]
    },
    {
     "name": "stdin",
     "output_type": "stream",
     "text": [
      "Enter the value :  3\n"
     ]
    },
    {
     "name": "stdout",
     "output_type": "stream",
     "text": [
      "array('i', [1, 3])\n"
     ]
    },
    {
     "name": "stdin",
     "output_type": "stream",
     "text": [
      "Enter the value :  5\n"
     ]
    },
    {
     "name": "stdout",
     "output_type": "stream",
     "text": [
      "array('i', [1, 3, 5])\n"
     ]
    },
    {
     "name": "stdin",
     "output_type": "stream",
     "text": [
      "Enter the value :  8\n"
     ]
    },
    {
     "name": "stdout",
     "output_type": "stream",
     "text": [
      "array('i', [1, 3, 5, 8])\n"
     ]
    },
    {
     "name": "stdin",
     "output_type": "stream",
     "text": [
      "Enter the value :  10\n"
     ]
    },
    {
     "name": "stdout",
     "output_type": "stream",
     "text": [
      "array('i', [1, 3, 5, 8, 10])\n"
     ]
    }
   ],
   "source": [
    "r = ar.array('i',[]) #int value input\n",
    "items = int(input(\"Enter your total items numbers : \"))\n",
    "for i in range(items):\n",
    "    val = int(input(\"Enter the value : \"))\n",
    "    r.append(val)\n",
    "    print(r)"
   ]
  },
  {
   "cell_type": "code",
   "execution_count": 23,
   "id": "ce84d818-1f50-4d6c-a74a-e54e479defeb",
   "metadata": {},
   "outputs": [
    {
     "name": "stdin",
     "output_type": "stream",
     "text": [
      "Enter your total items numbers :  8\n",
      "Enter the value :  3\n",
      "Enter the value :  11\n",
      "Enter the value :  66\n",
      "Enter the value :  29\n",
      "Enter the value :  87\n",
      "Enter the value :  69\n",
      "Enter the value :  58\n",
      "Enter the value :  70\n"
     ]
    },
    {
     "name": "stdout",
     "output_type": "stream",
     "text": [
      "array('i', [3, 11, 66, 29, 87, 69, 58, 70])\n"
     ]
    }
   ],
   "source": [
    "r = ar.array('i',[]) #int value input\n",
    "items = int(input(\"Enter your total items numbers : \"))\n",
    "for i in range(items):\n",
    "    val = int(input(\"Enter the value : \"))\n",
    "    r.append(val)\n",
    "print(r)"
   ]
  },
  {
   "cell_type": "code",
   "execution_count": 24,
   "id": "42f26f6f-aef0-45da-ae4d-e2326686aff3",
   "metadata": {},
   "outputs": [
    {
     "name": "stdin",
     "output_type": "stream",
     "text": [
      "Enter your total items numbers :  5\n",
      "Enter the value 1:  6\n",
      "Enter the value 2:  7\n",
      "Enter the value 3:  9\n",
      "Enter the value 4:  5\n",
      "Enter the value 5:  4\n"
     ]
    },
    {
     "name": "stdout",
     "output_type": "stream",
     "text": [
      "array('i', [6, 7, 9, 5, 4])\n"
     ]
    }
   ],
   "source": [
    "r = ar.array('i',[]) #int value input\n",
    "num = 1\n",
    "total = 0\n",
    "items = int(input(\"Enter your total items numbers : \"))\n",
    "for i in range(items):\n",
    "    total += num\n",
    "    val = int(input(f\"Enter the value {total}: \"))\n",
    "    r.append(val)\n",
    "print(r)"
   ]
  },
  {
   "cell_type": "code",
   "execution_count": null,
   "id": "3ae43664-7cbf-4544-9897-bf057969d287",
   "metadata": {},
   "outputs": [],
   "source": []
  }
 ],
 "metadata": {
  "kernelspec": {
   "display_name": "Python 3 (ipykernel)",
   "language": "python",
   "name": "python3"
  },
  "language_info": {
   "codemirror_mode": {
    "name": "ipython",
    "version": 3
   },
   "file_extension": ".py",
   "mimetype": "text/x-python",
   "name": "python",
   "nbconvert_exporter": "python",
   "pygments_lexer": "ipython3",
   "version": "3.12.7"
  }
 },
 "nbformat": 4,
 "nbformat_minor": 5
}
